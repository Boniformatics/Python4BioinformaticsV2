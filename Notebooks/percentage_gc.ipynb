{
 "cells": [
  {
   "cell_type": "code",
   "execution_count": 2,
   "id": "23e93dc4-0112-45f4-a1b9-afe7e94d4a07",
   "metadata": {},
   "outputs": [],
   "source": [
    "mydna = \"CAGTGATGATGACGAT\"\n",
    "yourdna = \"ACGATCGAGACGTAGTA\"\n",
    "testdna = \"ATFRACGATTGHAHYAK\""
   ]
  },
  {
   "cell_type": "code",
   "execution_count": 73,
   "id": "9fdcf093-e930-49b6-a60e-0671663ed879",
   "metadata": {},
   "outputs": [
    {
     "name": "stdout",
     "output_type": "stream",
     "text": [
      "The percentage of g_c is 43.75%\n"
     ]
    }
   ],
   "source": [
    "def percentage_GC(dnaseq):\n",
    "    if dna\n",
    "    gc_count=(dnaseq.count('G')+dnaseq.count('C'))/len(dnaseq)*100\n",
    "    print('The percentage of g_c is %.2f%s' %(gc_count,'%'))\n",
    "percentage_GC(mydna)"
   ]
  },
  {
   "cell_type": "code",
   "execution_count": null,
   "id": "0a60879e-6ca4-4848-b6c1-d8feeedb1979",
   "metadata": {},
   "outputs": [],
   "source": [
    "             "
   ]
  },
  {
   "cell_type": "code",
   "execution_count": 3,
   "id": "ac4deb66-08dc-497d-ac23-132a9f2fd0b8",
   "metadata": {},
   "outputs": [
    {
     "data": {
      "text/plain": [
       "True"
      ]
     },
     "execution_count": 3,
     "metadata": {},
     "output_type": "execute_result"
    }
   ],
   "source": [
    "def dna_checker(dnaseq):\n",
    "    dna_bases=['A','T','G','C']\n",
    "    for nuc in dnaseq:\n",
    "        if nuc not in dna_bases:\n",
    "            return False\n",
    "    return True\n",
    "        \n",
    "        \n",
    "            \n",
    "\n",
    "            \n",
    "    \n",
    "    \n",
    "    \n",
    "dna_checker(mydna)\n",
    "                 \n",
    "                "
   ]
  },
  {
   "cell_type": "code",
   "execution_count": 103,
   "id": "614fde9a-8dc4-4e34-90aa-2d169b1c4228",
   "metadata": {},
   "outputs": [],
   "source": [
    "def percentage_GC(dnaseq):\n",
    "    if dna_checker(dnaseq):\n",
    "        gc_count=(dnaseq.count('G')+dnaseq.count('C'))/len(dnaseq)*100\n",
    "        print('The percentage of g_c is %.2f%s' %(gc_count,'%'))\n",
    "    else:\n",
    "        print ('This is invalid dna')\n",
    "\n",
    "                "
   ]
  },
  {
   "cell_type": "code",
   "execution_count": 102,
   "id": "c02d3fc8-c0cc-4f3e-9f6b-1af8f1680861",
   "metadata": {},
   "outputs": [
    {
     "name": "stdout",
     "output_type": "stream",
     "text": [
      "The percentage of g_c is 43.75 %\n",
      "The percentage of g_c is 47.06 %\n",
      "This is invalid dna\n"
     ]
    }
   ],
   "source": [
    "percentage_GC(mydna)\n",
    "percentage_GC(yourdna)\n",
    "percentage_GC(testdna)"
   ]
  },
  {
   "cell_type": "code",
   "execution_count": 5,
   "id": "4452d68c-b78f-4a5a-bc15-63aaafa82d1b",
   "metadata": {},
   "outputs": [],
   "source": [
    "def dna_checking1(dnaseq):\n",
    "    set_dna_bases={'A','T','G','C'}\n",
    "    set(mydna)\n",
    "    return set_dna_bases==set(dnaseq)\n",
    "    \n",
    "\n",
    "\n"
   ]
  },
  {
   "cell_type": "code",
   "execution_count": 7,
   "id": "439d9d5a-facf-45b7-b466-ac1d4df78069",
   "metadata": {},
   "outputs": [
    {
     "name": "stdout",
     "output_type": "stream",
     "text": [
      "The percentage of g_c is 47.06%\n"
     ]
    }
   ],
   "source": [
    "def percentage_GC1(dnaseq):\n",
    "    if dna_checking1(dnaseq):\n",
    "        gc_count=(dnaseq.count('G')+dnaseq.count('C'))/len(dnaseq)*100\n",
    "        print('The percentage of g_c is %.2f%s' %(gc_count,'%'))\n",
    "    else:\n",
    "        print ('This is invalid dna')\n",
    "percentage_GC1(yourdna)\n"
   ]
  },
  {
   "cell_type": "code",
   "execution_count": null,
   "id": "7b05b502-bac4-415a-80d9-6253109c4009",
   "metadata": {},
   "outputs": [],
   "source": []
  }
 ],
 "metadata": {
  "kernelspec": {
   "display_name": "Python 3 (ipykernel)",
   "language": "python",
   "name": "python3"
  },
  "language_info": {
   "codemirror_mode": {
    "name": "ipython",
    "version": 3
   },
   "file_extension": ".py",
   "mimetype": "text/x-python",
   "name": "python",
   "nbconvert_exporter": "python",
   "pygments_lexer": "ipython3",
   "version": "3.9.7"
  }
 },
 "nbformat": 4,
 "nbformat_minor": 5
}
