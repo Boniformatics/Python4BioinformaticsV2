{
 "cells": [
  {
   "cell_type": "code",
   "execution_count": 45,
   "id": "0c7e0f35-7d52-4468-92af-9ab014c1e2bd",
   "metadata": {},
   "outputs": [],
   "source": [
    "myset1=set([1,2,3,30,50,2,3,4,5,6,7,33])"
   ]
  },
  {
   "cell_type": "code",
   "execution_count": 13,
   "id": "3ec2d290-28ec-426a-a9d7-201fd0695a17",
   "metadata": {},
   "outputs": [],
   "source": [
    "myset2=set([10,20,30,50,30,20])"
   ]
  },
  {
   "cell_type": "code",
   "execution_count": 7,
   "id": "bb36412f-a7d3-4ad2-a8f8-761b28886385",
   "metadata": {},
   "outputs": [
    {
     "name": "stdout",
     "output_type": "stream",
     "text": [
      "[1, 2, 3, 4]\n"
     ]
    }
   ],
   "source": [
    "print(set)"
   ]
  },
  {
   "cell_type": "code",
   "execution_count": null,
   "id": "b4a26d8f-325c-4f1d-bb72-03c321da3773",
   "metadata": {},
   "outputs": [],
   "source": []
  },
  {
   "cell_type": "code",
   "execution_count": 9,
   "id": "28a9cb0d-e22b-4244-8ff3-c7161fdb2de8",
   "metadata": {},
   "outputs": [],
   "source": [
    "del set"
   ]
  },
  {
   "cell_type": "code",
   "execution_count": 10,
   "id": "84d82f67-3b6e-4830-a41d-799c69eb190a",
   "metadata": {},
   "outputs": [
    {
     "name": "stdout",
     "output_type": "stream",
     "text": [
      "<class 'set'>\n"
     ]
    }
   ],
   "source": [
    "print(set)"
   ]
  },
  {
   "cell_type": "code",
   "execution_count": 11,
   "id": "4794c7ec-b08f-474a-bd70-cb8d5a09bced",
   "metadata": {},
   "outputs": [
    {
     "name": "stdout",
     "output_type": "stream",
     "text": [
      "<class 'set'>\n"
     ]
    }
   ],
   "source": [
    "print(set)"
   ]
  },
  {
   "cell_type": "code",
   "execution_count": 32,
   "id": "c0154810-d978-4431-a6d5-df8c34ab359e",
   "metadata": {},
   "outputs": [],
   "source": [
    "count=6"
   ]
  },
  {
   "cell_type": "code",
   "execution_count": 16,
   "id": "3246ddfd-a433-4a91-878a-c7b30ffcf8ab",
   "metadata": {},
   "outputs": [],
   "source": [
    "dna='ATGC'"
   ]
  },
  {
   "cell_type": "code",
   "execution_count": 18,
   "id": "2dbfe0f4-3394-4b39-93cc-54c45fae1d7e",
   "metadata": {},
   "outputs": [
    {
     "name": "stdout",
     "output_type": "stream",
     "text": [
      "1\n"
     ]
    }
   ],
   "source": [
    "print(dna.count('A'))"
   ]
  },
  {
   "cell_type": "code",
   "execution_count": 19,
   "id": "e31ca2ac-e0d4-48c2-857b-ec5d0b470968",
   "metadata": {},
   "outputs": [],
   "source": [
    "index=8"
   ]
  },
  {
   "cell_type": "code",
   "execution_count": 26,
   "id": "f96d3f38-c27a-4df6-b08d-30bb23c523f0",
   "metadata": {},
   "outputs": [
    {
     "name": "stdout",
     "output_type": "stream",
     "text": [
      "0\n"
     ]
    }
   ],
   "source": [
    "print(dna.index('A'))"
   ]
  },
  {
   "cell_type": "code",
   "execution_count": 31,
   "id": "1ad91faf-cb91-43b0-b809-480386b6f645",
   "metadata": {},
   "outputs": [],
   "source": [
    "all_variables=dir()"
   ]
  },
  {
   "cell_type": "code",
   "execution_count": 33,
   "id": "3be34e9a-ed32-49c2-9fd7-2c064560d3d0",
   "metadata": {},
   "outputs": [
    {
     "name": "stdout",
     "output_type": "stream",
     "text": [
      "<built-in function dir>\n"
     ]
    }
   ],
   "source": [
    "print(dir)"
   ]
  },
  {
   "cell_type": "code",
   "execution_count": 38,
   "id": "42aecec1-02a5-41e5-8feb-492825b2f62d",
   "metadata": {},
   "outputs": [
    {
     "name": "stdout",
     "output_type": "stream",
     "text": [
      "{1, 2, 3, 4, 5, 6, 7, 33, 10, 50, 20, 30}\n"
     ]
    }
   ],
   "source": [
    "print(myset1.union (myset2))"
   ]
  },
  {
   "cell_type": "code",
   "execution_count": 41,
   "id": "3a3f3d6c-c84d-443a-a7dd-8723e016e44d",
   "metadata": {},
   "outputs": [
    {
     "name": "stdout",
     "output_type": "stream",
     "text": [
      "None\n"
     ]
    }
   ],
   "source": [
    "print(myset1.add(23))"
   ]
  },
  {
   "cell_type": "code",
   "execution_count": 42,
   "id": "7d1c35a1-ac7a-4e54-8ee0-d46ced3624f3",
   "metadata": {},
   "outputs": [
    {
     "name": "stdout",
     "output_type": "stream",
     "text": [
      "{1, 2, 3, 4, 5, 6, 7, 33, 23}\n"
     ]
    }
   ],
   "source": [
    "print (myset1)"
   ]
  },
  {
   "cell_type": "code",
   "execution_count": 48,
   "id": "23b02d01-5a8e-49af-9549-9f24e2e567da",
   "metadata": {},
   "outputs": [],
   "source": [
    "myset1.add(6)"
   ]
  },
  {
   "cell_type": "code",
   "execution_count": 49,
   "id": "c665db41-d3c0-41c1-8f67-6c72eb7a2348",
   "metadata": {},
   "outputs": [
    {
     "data": {
      "text/plain": [
       "{30, 50}"
      ]
     },
     "execution_count": 49,
     "metadata": {},
     "output_type": "execute_result"
    }
   ],
   "source": [
    "myset1.intersection(myset2)"
   ]
  },
  {
   "cell_type": "code",
   "execution_count": 47,
   "id": "17b51523-330e-47d3-a5e0-144e760517eb",
   "metadata": {},
   "outputs": [
    {
     "data": {
      "text/plain": [
       "{1, 2, 3, 4, 5, 6, 7, 33}"
      ]
     },
     "execution_count": 47,
     "metadata": {},
     "output_type": "execute_result"
    }
   ],
   "source": [
    "myset1.difference(myset2)"
   ]
  },
  {
   "cell_type": "code",
   "execution_count": 50,
   "id": "e566868e-8103-4fcb-be20-3ee1e020b4d4",
   "metadata": {},
   "outputs": [
    {
     "data": {
      "text/plain": [
       "{1, 2, 3, 4, 5, 6, 7, 10, 20, 33}"
      ]
     },
     "execution_count": 50,
     "metadata": {},
     "output_type": "execute_result"
    }
   ],
   "source": [
    "myset1.symmetric_difference(myset2)"
   ]
  },
  {
   "cell_type": "code",
   "execution_count": 52,
   "id": "04259231-09ef-4836-8df6-9290b8c707f6",
   "metadata": {},
   "outputs": [
    {
     "data": {
      "text/plain": [
       "False"
      ]
     },
     "execution_count": 52,
     "metadata": {},
     "output_type": "execute_result"
    }
   ],
   "source": [
    "myset1.issubset(myset2)"
   ]
  },
  {
   "cell_type": "code",
   "execution_count": 53,
   "id": "cba768e3-9127-4967-86e7-0a0c03e1225c",
   "metadata": {},
   "outputs": [
    {
     "data": {
      "text/plain": [
       "False"
      ]
     },
     "execution_count": 53,
     "metadata": {},
     "output_type": "execute_result"
    }
   ],
   "source": [
    "myset1.isdisjoint(myset2)"
   ]
  },
  {
   "cell_type": "code",
   "execution_count": 54,
   "id": "ce7fdf48-f8dc-499c-b098-b8d16665decb",
   "metadata": {},
   "outputs": [
    {
     "data": {
      "text/plain": [
       "False"
      ]
     },
     "execution_count": 54,
     "metadata": {},
     "output_type": "execute_result"
    }
   ],
   "source": [
    "myset1.issuperset(myset2)"
   ]
  },
  {
   "cell_type": "code",
   "execution_count": 57,
   "id": "f28cac36-8081-4a22-86c3-bdead70b1b31",
   "metadata": {},
   "outputs": [
    {
     "data": {
      "text/plain": [
       "1"
      ]
     },
     "execution_count": 57,
     "metadata": {},
     "output_type": "execute_result"
    }
   ],
   "source": [
    "myset1.pop()"
   ]
  },
  {
   "cell_type": "code",
   "execution_count": 58,
   "id": "0f7e04ba-b5f6-40c4-8457-86680bb0f81c",
   "metadata": {},
   "outputs": [
    {
     "name": "stdout",
     "output_type": "stream",
     "text": [
      "{2, 3, 4, 5, 6, 7, 33, 50, 30}\n"
     ]
    }
   ],
   "source": [
    "print(myset1)"
   ]
  },
  {
   "cell_type": "code",
   "execution_count": 59,
   "id": "aee05924-41ab-4fa5-bd15-c8af30ce7143",
   "metadata": {},
   "outputs": [],
   "source": [
    "myset1.remove(6)"
   ]
  },
  {
   "cell_type": "code",
   "execution_count": 60,
   "id": "6733dd1b-33c7-4cd9-a3fa-884413bd874e",
   "metadata": {},
   "outputs": [
    {
     "name": "stdout",
     "output_type": "stream",
     "text": [
      "{2, 3, 4, 5, 7, 33, 50, 30}\n"
     ]
    }
   ],
   "source": [
    "print(myset1)"
   ]
  },
  {
   "cell_type": "code",
   "execution_count": 61,
   "id": "4a2ea39d-4809-4ca3-b7d8-b5a1f7abcb94",
   "metadata": {},
   "outputs": [],
   "source": [
    "myset3=set([2,67,980])"
   ]
  },
  {
   "cell_type": "code",
   "execution_count": 62,
   "id": "44ad47d4-4f00-4f14-b8c1-1c4c5034c1b3",
   "metadata": {},
   "outputs": [
    {
     "data": {
      "text/plain": [
       "<function set.copy>"
      ]
     },
     "execution_count": 62,
     "metadata": {},
     "output_type": "execute_result"
    }
   ],
   "source": [
    "myset3.copy"
   ]
  },
  {
   "cell_type": "code",
   "execution_count": 65,
   "id": "a6dcbe95-8a15-4361-83a2-534da11b7180",
   "metadata": {},
   "outputs": [],
   "source": [
    "myset3.clear()"
   ]
  },
  {
   "cell_type": "code",
   "execution_count": 66,
   "id": "9b065b3a-fcaa-4bd8-8f74-231f979b1a29",
   "metadata": {},
   "outputs": [
    {
     "name": "stdout",
     "output_type": "stream",
     "text": [
      "set()\n"
     ]
    }
   ],
   "source": [
    "print(myset3)"
   ]
  },
  {
   "cell_type": "code",
   "execution_count": 67,
   "id": "6d9b10e4-2376-4fb0-a86f-106f237bfaf1",
   "metadata": {},
   "outputs": [],
   "source": [
    "myset3.update(myset1)"
   ]
  },
  {
   "cell_type": "code",
   "execution_count": 68,
   "id": "6f23d90b-4b22-48c2-b86e-e3c18e0d3c46",
   "metadata": {},
   "outputs": [
    {
     "name": "stdout",
     "output_type": "stream",
     "text": [
      "{33, 2, 3, 4, 5, 7, 50, 30}\n"
     ]
    }
   ],
   "source": [
    "print(myset3)"
   ]
  },
  {
   "cell_type": "code",
   "execution_count": 70,
   "id": "cb38dce9-3ee7-4534-91bb-3ec8552a1300",
   "metadata": {},
   "outputs": [],
   "source": [
    "mylist4=(x**4 for x in [2,6,7,8])"
   ]
  },
  {
   "cell_type": "code",
   "execution_count": 71,
   "id": "380ac488-eefc-4f78-bf5f-def2eee68265",
   "metadata": {},
   "outputs": [],
   "source": [
    "mylist4.close()"
   ]
  },
  {
   "cell_type": "code",
   "execution_count": 72,
   "id": "01a97429-683f-41c9-a647-c3a0b8c23b97",
   "metadata": {},
   "outputs": [
    {
     "name": "stdout",
     "output_type": "stream",
     "text": [
      "<generator object <genexpr> at 0x7ff768f5f900>\n"
     ]
    }
   ],
   "source": [
    "print(mylist4)"
   ]
  },
  {
   "cell_type": "code",
   "execution_count": 73,
   "id": "89999137-e84e-4e7b-854d-586bfb0ac53c",
   "metadata": {},
   "outputs": [
    {
     "data": {
      "text/plain": [
       "generator"
      ]
     },
     "execution_count": 73,
     "metadata": {},
     "output_type": "execute_result"
    }
   ],
   "source": [
    "type(mylist4)"
   ]
  },
  {
   "cell_type": "code",
   "execution_count": 77,
   "id": "b50cb424-9558-478f-9c6e-9c8202b89219",
   "metadata": {},
   "outputs": [],
   "source": [
    "mydic={'hello':[56]}"
   ]
  },
  {
   "cell_type": "code",
   "execution_count": 78,
   "id": "f54fc6fc-e2e1-45be-b71b-149df4366eb2",
   "metadata": {},
   "outputs": [
    {
     "data": {
      "text/plain": [
       "dict"
      ]
     },
     "execution_count": 78,
     "metadata": {},
     "output_type": "execute_result"
    }
   ],
   "source": [
    "type(mydic)"
   ]
  },
  {
   "cell_type": "code",
   "execution_count": 80,
   "id": "eb88d7c1-22a2-4b0b-91d5-907a727d227b",
   "metadata": {},
   "outputs": [
    {
     "data": {
      "text/plain": [
       "[56]"
      ]
     },
     "execution_count": 80,
     "metadata": {},
     "output_type": "execute_result"
    }
   ],
   "source": [
    "mydic['hello']"
   ]
  },
  {
   "cell_type": "code",
   "execution_count": 2,
   "id": "fb6549d9-9a03-4812-a356-52f26b82605f",
   "metadata": {},
   "outputs": [],
   "source": [
    "dna4='ATGCATGC'"
   ]
  },
  {
   "cell_type": "code",
   "execution_count": 4,
   "id": "bdd3f71f-74fc-4edb-b456-7b41f67d9c7d",
   "metadata": {},
   "outputs": [],
   "source": [
    "dnas=dna4.replace('A','T')"
   ]
  },
  {
   "cell_type": "code",
   "execution_count": 6,
   "id": "b07bf0eb-7d77-4685-a8b4-02acedce3d9f",
   "metadata": {},
   "outputs": [
    {
     "name": "stdout",
     "output_type": "stream",
     "text": [
      "TTGCTTGC\n"
     ]
    }
   ],
   "source": [
    "print (dnas)"
   ]
  },
  {
   "cell_type": "code",
   "execution_count": 17,
   "id": "98c3a31d-6c53-4a51-94cf-ab23b01f94bf",
   "metadata": {},
   "outputs": [],
   "source": [
    "dnas=dna4.replace('A','t') .replace('T','a').replace('G','c').replace('C','g')"
   ]
  },
  {
   "cell_type": "code",
   "execution_count": 22,
   "id": "424cc991-370a-4d44-b7f7-78091d64f1db",
   "metadata": {},
   "outputs": [
    {
     "name": "stdout",
     "output_type": "stream",
     "text": [
      "TACGTACG\n"
     ]
    }
   ],
   "source": [
    "print(dnas.upper())"
   ]
  },
  {
   "cell_type": "code",
   "execution_count": null,
   "id": "c44e6802-5cee-4f9f-8785-af9ccedad6b1",
   "metadata": {},
   "outputs": [],
   "source": []
  }
 ],
 "metadata": {
  "kernelspec": {
   "display_name": "Python 3 (ipykernel)",
   "language": "python",
   "name": "python3"
  },
  "language_info": {
   "codemirror_mode": {
    "name": "ipython",
    "version": 3
   },
   "file_extension": ".py",
   "mimetype": "text/x-python",
   "name": "python",
   "nbconvert_exporter": "python",
   "pygments_lexer": "ipython3",
   "version": "3.9.7"
  }
 },
 "nbformat": 4,
 "nbformat_minor": 5
}
