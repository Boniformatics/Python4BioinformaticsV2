{
 "cells": [
  {
   "cell_type": "code",
   "execution_count": 7,
   "id": "ba9e9d63-697c-45dc-aa9e-6fdf2df7f689",
   "metadata": {},
   "outputs": [
    {
     "data": {
      "text/plain": [
       "12"
      ]
     },
     "execution_count": 7,
     "metadata": {},
     "output_type": "execute_result"
    }
   ],
   "source": [
    "6+6"
   ]
  },
  {
   "cell_type": "code",
   "execution_count": 3,
   "id": "84aa1dad-b2c1-4632-98a7-b2139a9d584f",
   "metadata": {},
   "outputs": [],
   "source": [
    "add=4+3"
   ]
  },
  {
   "cell_type": "code",
   "execution_count": 4,
   "id": "9c28aaa5-b100-46f2-8f54-818a96767a28",
   "metadata": {},
   "outputs": [],
   "source": [
    "add2=7+5"
   ]
  },
  {
   "cell_type": "code",
   "execution_count": 5,
   "id": "e9bb69e4-6935-4823-8108-0a885d13af18",
   "metadata": {},
   "outputs": [
    {
     "data": {
      "text/plain": [
       "19"
      ]
     },
     "execution_count": 5,
     "metadata": {},
     "output_type": "execute_result"
    }
   ],
   "source": [
    "add+add2"
   ]
  },
  {
   "cell_type": "markdown",
   "id": "fa41f790-8c41-493a-8136-fb4e758549df",
   "metadata": {},
   "source": [
    "## This my Notebook practice\n",
    "---\n",
    "I will be updating my work in this notebook\n",
    "\n",
    "-Write scripts that you practiced in lesson 2\n",
    ":\n"
   ]
  },
  {
   "cell_type": "code",
   "execution_count": null,
   "id": "8fce5b26-a96b-47a2-a79f-16584d4255f9",
   "metadata": {},
   "outputs": [],
   "source": []
  },
  {
   "cell_type": "code",
   "execution_count": null,
   "id": "3e3940a9-ddf8-4c60-b545-906472f9cc4d",
   "metadata": {},
   "outputs": [],
   "source": []
  }
 ],
 "metadata": {
  "kernelspec": {
   "display_name": "Python 3 (ipykernel)",
   "language": "python",
   "name": "python3"
  },
  "language_info": {
   "codemirror_mode": {
    "name": "ipython",
    "version": 3
   },
   "file_extension": ".py",
   "mimetype": "text/x-python",
   "name": "python",
   "nbconvert_exporter": "python",
   "pygments_lexer": "ipython3",
   "version": "3.9.7"
  }
 },
 "nbformat": 4,
 "nbformat_minor": 5
}
