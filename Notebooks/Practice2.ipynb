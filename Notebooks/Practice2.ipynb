{
 "cells": [
  {
   "cell_type": "code",
   "execution_count": 7,
   "id": "ba9e9d63-697c-45dc-aa9e-6fdf2df7f689",
   "metadata": {},
   "outputs": [
    {
     "data": {
      "text/plain": [
       "12"
      ]
     },
     "execution_count": 7,
     "metadata": {},
     "output_type": "execute_result"
    }
   ],
   "source": [
    "6+6"
   ]
  },
  {
   "cell_type": "code",
   "execution_count": 3,
   "id": "84aa1dad-b2c1-4632-98a7-b2139a9d584f",
   "metadata": {},
   "outputs": [],
   "source": [
    "add=4+3"
   ]
  },
  {
   "cell_type": "code",
   "execution_count": 4,
   "id": "9c28aaa5-b100-46f2-8f54-818a96767a28",
   "metadata": {},
   "outputs": [],
   "source": [
    "add2=7+5"
   ]
  },
  {
   "cell_type": "code",
   "execution_count": 5,
   "id": "e9bb69e4-6935-4823-8108-0a885d13af18",
   "metadata": {},
   "outputs": [
    {
     "data": {
      "text/plain": [
       "19"
      ]
     },
     "execution_count": 5,
     "metadata": {},
     "output_type": "execute_result"
    }
   ],
   "source": [
    "add+add2"
   ]
  },
  {
   "cell_type": "markdown",
   "id": "fa41f790-8c41-493a-8136-fb4e758549df",
   "metadata": {},
   "source": [
    "## This my Notebook practice\n",
    "---\n",
    "I will be updating my work in this notebook\n",
    "\n",
    "-Write scripts that you practiced in lesson 2\n",
    ":\n"
   ]
  },
  {
   "cell_type": "code",
   "execution_count": null,
   "id": "8fce5b26-a96b-47a2-a79f-16584d4255f9",
   "metadata": {},
   "outputs": [],
   "source": []
  },
  {
   "cell_type": "code",
   "execution_count": null,
   "id": "3e3940a9-ddf8-4c60-b545-906472f9cc4d",
   "metadata": {},
   "outputs": [],
   "source": []
  },
  {
   "cell_type": "code",
   "execution_count": 2,
   "id": "73e49cbc-125b-4d41-84e0-94691a486e22",
   "metadata": {},
   "outputs": [
    {
     "name": "stdout",
     "output_type": "stream",
     "text": [
      "Hello...World!!"
     ]
    }
   ],
   "source": [
    "print(\"Hello\",\"World\",sep='...',end='!!')"
   ]
  },
  {
   "cell_type": "code",
   "execution_count": 4,
   "id": "b173446f-3adc-4feb-afd5-2223c4cbdf26",
   "metadata": {},
   "outputs": [],
   "source": [
    "dna='TATAGACAGATAGATAGACATAG'"
   ]
  },
  {
   "cell_type": "code",
   "execution_count": 6,
   "id": "332d0c0f-f3c9-4ac2-b2a1-8d6ceb1f80bd",
   "metadata": {},
   "outputs": [
    {
     "data": {
      "text/plain": [
       "5"
      ]
     },
     "execution_count": 6,
     "metadata": {},
     "output_type": "execute_result"
    }
   ],
   "source": [
    "dna.count('T')"
   ]
  },
  {
   "cell_type": "code",
   "execution_count": 14,
   "id": "ed4b274a-76dd-4d1d-99b9-5cad1522e4c2",
   "metadata": {},
   "outputs": [
    {
     "name": "stdout",
     "output_type": "stream",
     "text": [
      "hello,Alfone,Bonface?"
     ]
    }
   ],
   "source": [
    "print(\"hello\",\"Alfone\", \"Bonface\",sep=',',\n",
    "end='?')"
   ]
  },
  {
   "cell_type": "code",
   "execution_count": null,
   "id": "7f430d34-1429-4461-aca6-26133d841bf5",
   "metadata": {},
   "outputs": [],
   "source": []
  },
  {
   "cell_type": "code",
   "execution_count": 16,
   "id": "586254b3-ee81-4db4-ad51-8b0b12c1f2f0",
   "metadata": {},
   "outputs": [
    {
     "name": "stdout",
     "output_type": "stream",
     "text": [
      "hello\n",
      "Alfone\n",
      "Bonface?"
     ]
    }
   ],
   "source": [
    "print(\"hello\",\"Alfone\", \"Bonface\",sep='\\n',\n",
    "end='?')                                          # \\ begins each word in a new line"
   ]
  },
  {
   "cell_type": "code",
   "execution_count": null,
   "id": "9a807619-f706-41ee-bd90-6ded064b4f90",
   "metadata": {},
   "outputs": [],
   "source": []
  },
  {
   "cell_type": "code",
   "execution_count": 20,
   "id": "bf873b49-fa3f-4d46-bf55-a97ef74b9593",
   "metadata": {},
   "outputs": [
    {
     "name": "stdout",
     "output_type": "stream",
     "text": [
      "HelloWorld!267.0\n"
     ]
    }
   ],
   "source": [
    "string1='World'\n",
    "string2='!'\n",
    "print('Hello'+ string1 + string2 + str(267.00))"
   ]
  },
  {
   "cell_type": "code",
   "execution_count": 22,
   "id": "e0dd02bb-3cb7-4e7b-891b-1fc63ddc9e81",
   "metadata": {},
   "outputs": [
    {
     "data": {
      "text/plain": [
       "'345.8'"
      ]
     },
     "execution_count": 22,
     "metadata": {},
     "output_type": "execute_result"
    }
   ],
   "source": [
    "str(345.8)"
   ]
  },
  {
   "cell_type": "code",
   "execution_count": 4,
   "id": "25079679-9222-4d56-963d-ad520a5d6272",
   "metadata": {},
   "outputs": [
    {
     "name": "stdout",
     "output_type": "stream",
     "text": [
      "Hello World!267.0\n"
     ]
    }
   ],
   "source": [
    "string1='World'\n",
    "string2='!'\n",
    "print('Hello' + \" \"+ string1 + string2 + str(267.00))"
   ]
  },
  {
   "cell_type": "code",
   "execution_count": 25,
   "id": "ac384373-02d9-4e25-9605-42d6eaf5024b",
   "metadata": {},
   "outputs": [
    {
     "name": "stdout",
     "output_type": "stream",
     "text": [
      "hello56bwaa"
     ]
    }
   ],
   "source": [
    "print ('hello'+str(56), sep='wowww', end='bwaa')"
   ]
  },
  {
   "cell_type": "code",
   "execution_count": 26,
   "id": "a5506be9-6dff-4af4-a0cb-78c828824b03",
   "metadata": {},
   "outputs": [
    {
     "data": {
      "text/plain": [
       "'407'"
      ]
     },
     "execution_count": 26,
     "metadata": {},
     "output_type": "execute_result"
    }
   ],
   "source": [
    "str(40)+str(7)"
   ]
  },
  {
   "cell_type": "code",
   "execution_count": 27,
   "id": "7f308035-b927-4b85-a4f7-a0ad26e2be21",
   "metadata": {},
   "outputs": [
    {
     "name": "stdout",
     "output_type": "stream",
     "text": [
      "407\n"
     ]
    }
   ],
   "source": [
    "print ('40' + '7')"
   ]
  },
  {
   "cell_type": "code",
   "execution_count": 29,
   "id": "a30e54b0-3e78-42d8-949d-c15f68accf80",
   "metadata": {},
   "outputs": [
    {
     "name": "stdout",
     "output_type": "stream",
     "text": [
      "Hello world I\n"
     ]
    }
   ],
   "source": [
    "print('Hello world %s'%\"I\")"
   ]
  },
  {
   "cell_type": "code",
   "execution_count": 31,
   "id": "38cbe2a7-6932-4161-96b1-fb9a4eb70287",
   "metadata": {},
   "outputs": [
    {
     "name": "stdout",
     "output_type": "stream",
     "text": [
      "If it is a number write 45\n"
     ]
    }
   ],
   "source": [
    "print('If it is a number write %d' %45)"
   ]
  },
  {
   "cell_type": "code",
   "execution_count": 32,
   "id": "7ad01a34-8b94-49d8-b15b-ae590ec3f250",
   "metadata": {},
   "outputs": [
    {
     "name": "stdout",
     "output_type": "stream",
     "text": [
      "if its a decimal write to 4.46\n"
     ]
    }
   ],
   "source": [
    "print('if its a decimal write to %.2f' %4.45677)"
   ]
  },
  {
   "cell_type": "code",
   "execution_count": 34,
   "id": "b640dd96-0899-42bf-8f58-18775d18a1b6",
   "metadata": {},
   "outputs": [
    {
     "name": "stdout",
     "output_type": "stream",
     "text": [
      "If two 45 then say World I will come!\n"
     ]
    }
   ],
   "source": [
    "print('If two %d then say %s I will come%s' %(45,string1,string2))"
   ]
  },
  {
   "cell_type": "code",
   "execution_count": 36,
   "id": "122b058c-9dae-4bc8-9a20-f7e654f7e1db",
   "metadata": {},
   "outputs": [
    {
     "data": {
      "text/plain": [
       "11"
      ]
     },
     "execution_count": 36,
     "metadata": {},
     "output_type": "execute_result"
    }
   ],
   "source": [
    "dna.count('A')"
   ]
  },
  {
   "cell_type": "code",
   "execution_count": 45,
   "id": "6539f1d8-0567-4313-bc5e-5d64ed889102",
   "metadata": {},
   "outputs": [
    {
     "name": "stdout",
     "output_type": "stream",
     "text": [
      "in this sequence, there are 5 G and only 2 C and also 11 A and 5 T\n"
     ]
    }
   ],
   "source": [
    "print('in this sequence, there are %d G and only %d C and also %d A and %d T' % (dna.count('G'), dna.count('C'), dna.count('A'), dna.count('T')))"
   ]
  },
  {
   "cell_type": "code",
   "execution_count": 46,
   "id": "1ffdf9a7-def2-41f4-a6bb-f3123cd32b4a",
   "metadata": {},
   "outputs": [
    {
     "name": "stdout",
     "output_type": "stream",
     "text": [
      "\n"
     ]
    }
   ],
   "source": [
    "print()"
   ]
  },
  {
   "cell_type": "code",
   "execution_count": 47,
   "id": "81825c83-c4bf-49b1-9dfd-d5037c529065",
   "metadata": {},
   "outputs": [
    {
     "name": "stdout",
     "output_type": "stream",
     "text": [
      "Type help() for interactive help, or help(object) for help about object.\n"
     ]
    }
   ],
   "source": [
    "print(help)"
   ]
  },
  {
   "cell_type": "code",
   "execution_count": 48,
   "id": "11e6a8f5-da7a-4baa-a421-efcf1256b34b",
   "metadata": {},
   "outputs": [
    {
     "name": "stdout",
     "output_type": "stream",
     "text": [
      "\n",
      "Welcome to Python 3.9's help utility!\n",
      "\n",
      "If this is your first time using Python, you should definitely check out\n",
      "the tutorial on the Internet at https://docs.python.org/3.9/tutorial/.\n",
      "\n",
      "Enter the name of any module, keyword, or topic to get help on writing\n",
      "Python programs and using Python modules.  To quit this help utility and\n",
      "return to the interpreter, just type \"quit\".\n",
      "\n",
      "To get a list of available modules, keywords, symbols, or topics, type\n",
      "\"modules\", \"keywords\", \"symbols\", or \"topics\".  Each module also comes\n",
      "with a one-line summary of what it does; to list the modules whose name\n",
      "or summary contain a given string such as \"spam\", type \"modules spam\".\n",
      "\n"
     ]
    },
    {
     "name": "stdin",
     "output_type": "stream",
     "text": [
      "help>  help\n"
     ]
    },
    {
     "name": "stdout",
     "output_type": "stream",
     "text": [
      "\n",
      "Welcome to Python 3.9's help utility!\n",
      "\n",
      "If this is your first time using Python, you should definitely check out\n",
      "the tutorial on the Internet at https://docs.python.org/3.9/tutorial/.\n",
      "\n",
      "Enter the name of any module, keyword, or topic to get help on writing\n",
      "Python programs and using Python modules.  To quit this help utility and\n",
      "return to the interpreter, just type \"quit\".\n",
      "\n",
      "To get a list of available modules, keywords, symbols, or topics, type\n",
      "\"modules\", \"keywords\", \"symbols\", or \"topics\".  Each module also comes\n",
      "with a one-line summary of what it does; to list the modules whose name\n",
      "or summary contain a given string such as \"spam\", type \"modules spam\".\n",
      "\n",
      "You are now leaving help and returning to the Python interpreter.\n",
      "If you want to ask for help on a particular object directly from the\n",
      "interpreter, you can type \"help(object)\".  Executing \"help('string')\"\n",
      "has the same effect as typing a particular string at the help> prompt.\n"
     ]
    }
   ],
   "source": [
    "help()"
   ]
  },
  {
   "cell_type": "code",
   "execution_count": 50,
   "id": "0967f095-68b1-4f5e-82e3-2f1325258fb5",
   "metadata": {},
   "outputs": [
    {
     "data": {
      "text/plain": [
       "11"
      ]
     },
     "execution_count": 50,
     "metadata": {},
     "output_type": "execute_result"
    }
   ],
   "source": [
    "dna.count('A')"
   ]
  },
  {
   "cell_type": "code",
   "execution_count": 52,
   "id": "f87b81bb-7389-4196-a760-98f9445a2c1b",
   "metadata": {},
   "outputs": [
    {
     "name": "stdout",
     "output_type": "stream",
     "text": [
      "A\n"
     ]
    }
   ],
   "source": [
    "print(dna[7])"
   ]
  },
  {
   "cell_type": "code",
   "execution_count": 63,
   "id": "37f8d253-41e8-4e5f-9383-3d7af5037910",
   "metadata": {},
   "outputs": [
    {
     "name": "stdout",
     "output_type": "stream",
     "text": [
      "4\n"
     ]
    }
   ],
   "source": [
    "print(dna.count('AT'))"
   ]
  },
  {
   "cell_type": "code",
   "execution_count": 67,
   "id": "d0b4b25d-8f1e-4aa8-a118-25684fa655dc",
   "metadata": {},
   "outputs": [
    {
     "name": "stdout",
     "output_type": "stream",
     "text": [
      "23\n"
     ]
    }
   ],
   "source": [
    "print(len(dna))"
   ]
  },
  {
   "cell_type": "code",
   "execution_count": 75,
   "id": "f2b61ed6-f741-4cc0-bb41-77944c643f2a",
   "metadata": {},
   "outputs": [
    {
     "name": "stdout",
     "output_type": "stream",
     "text": [
      "69.56521739130434 30.434782608695656\n"
     ]
    }
   ],
   "source": [
    "a=len(dna)\n",
    "b=(dna.count('A'))+ (dna.count('T'))\n",
    "c=(dna.count('G'))+ (dna.count('C'))\n",
    "print((b/a)*100, (c/a)*100)\n"
   ]
  },
  {
   "cell_type": "code",
   "execution_count": 86,
   "id": "1c5091f7-d5cd-4c8a-a068-aa266ba845a3",
   "metadata": {},
   "outputs": [],
   "source": [
    "def percentage (part,whole):\n",
    "    return 100*float(part)/float(whole)\n",
    "                     \n"
   ]
  },
  {
   "cell_type": "code",
   "execution_count": 87,
   "id": "ec77b4f6-bfca-4c2d-bf35-3b2f39b82453",
   "metadata": {},
   "outputs": [
    {
     "name": "stdout",
     "output_type": "stream",
     "text": [
      "55.55555555555556\n"
     ]
    }
   ],
   "source": [
    "print (percentage(5,9))"
   ]
  },
  {
   "cell_type": "code",
   "execution_count": 4,
   "id": "ff03a713-f11d-452e-a511-d288230d6067",
   "metadata": {},
   "outputs": [
    {
     "name": "stdout",
     "output_type": "stream",
     "text": [
      "83.33333333333334\n"
     ]
    }
   ],
   "source": [
    "Quotient= 5/6\n",
    "result=Quotient*100\n",
    "print (result)\n",
    "    "
   ]
  },
  {
   "cell_type": "code",
   "execution_count": null,
   "id": "9a8b084a-98d6-4323-89e2-10d5a2fcd20e",
   "metadata": {},
   "outputs": [],
   "source": []
  },
  {
   "cell_type": "code",
   "execution_count": 12,
   "id": "ad9298db-abb7-4cf6-8eee-7f20752887b4",
   "metadata": {},
   "outputs": [
    {
     "data": {
      "text/plain": [
       "True"
      ]
     },
     "execution_count": 12,
     "metadata": {},
     "output_type": "execute_result"
    }
   ],
   "source": [
    "'abc' < 'bbc' <= 'bbc'"
   ]
  },
  {
   "cell_type": "code",
   "execution_count": null,
   "id": "14027308-b93b-4cde-ad71-194a70a44f4a",
   "metadata": {},
   "outputs": [],
   "source": []
  },
  {
   "cell_type": "code",
   "execution_count": 12,
   "id": "34723ce2-4cb1-4a95-8ed8-841914694887",
   "metadata": {},
   "outputs": [
    {
     "data": {
      "text/plain": [
       "True"
      ]
     },
     "execution_count": 12,
     "metadata": {},
     "output_type": "execute_result"
    }
   ],
   "source": [
    "'abc' < 'bbc' <= 'bbc'"
   ]
  },
  {
   "cell_type": "code",
   "execution_count": 5,
   "id": "53077930-91ea-44e9-8f94-d1236a1b549c",
   "metadata": {},
   "outputs": [
    {
     "data": {
      "text/plain": [
       "False"
      ]
     },
     "execution_count": 5,
     "metadata": {},
     "output_type": "execute_result"
    }
   ],
   "source": [
    "'abc'>'abc'"
   ]
  },
  {
   "cell_type": "code",
   "execution_count": 6,
   "id": "f321ad3d-c56b-4b68-a479-a549db30d620",
   "metadata": {},
   "outputs": [
    {
     "data": {
      "text/plain": [
       "False"
      ]
     },
     "execution_count": 6,
     "metadata": {},
     "output_type": "execute_result"
    }
   ],
   "source": [
    "'abc'>'bac'"
   ]
  },
  {
   "cell_type": "code",
   "execution_count": 15,
   "id": "229eec3c-4283-4266-ae29-7590cbf59e31",
   "metadata": {},
   "outputs": [
    {
     "name": "stdout",
     "output_type": "stream",
     "text": [
      "the lists are equal\n"
     ]
    }
   ],
   "source": [
    "list1=[1,2,3,4]\n",
    "list2=[1,2,3,4]\n",
    "\n",
    "if list1 == list2:\n",
    "    print('the lists are equal')\n",
    "          \n",
    "else:\n",
    "    print ('the list unequl')\n"
   ]
  },
  {
   "cell_type": "code",
   "execution_count": 18,
   "id": "b8f7526a-36ac-4bf3-aedd-93321eee0121",
   "metadata": {},
   "outputs": [],
   "source": [
    "list1=[1,2,3,4]\n",
    "list2=[1,2,3,5]"
   ]
  },
  {
   "cell_type": "code",
   "execution_count": 19,
   "id": "a602d3ac-baff-4506-a2b1-9e0cf191d565",
   "metadata": {},
   "outputs": [
    {
     "data": {
      "text/plain": [
       "False"
      ]
     },
     "execution_count": 19,
     "metadata": {},
     "output_type": "execute_result"
    }
   ],
   "source": [
    "list1 == list2"
   ]
  },
  {
   "cell_type": "code",
   "execution_count": 20,
   "id": "ff2e3f6d-5f68-45f5-8e29-5c514e8baf8c",
   "metadata": {},
   "outputs": [
    {
     "data": {
      "text/plain": [
       "True"
      ]
     },
     "execution_count": 20,
     "metadata": {},
     "output_type": "execute_result"
    }
   ],
   "source": [
    "list1 <list2"
   ]
  },
  {
   "cell_type": "code",
   "execution_count": 21,
   "id": "a13e1a25-aa89-46dc-b03b-23409a220c23",
   "metadata": {},
   "outputs": [
    {
     "data": {
      "text/plain": [
       "False"
      ]
     },
     "execution_count": 21,
     "metadata": {},
     "output_type": "execute_result"
    }
   ],
   "source": [
    "list1>list2"
   ]
  },
  {
   "cell_type": "code",
   "execution_count": 6,
   "id": "185d45ea-8626-4c3e-ae7a-018b3e0a2a9d",
   "metadata": {},
   "outputs": [],
   "source": [
    "rna='TTTTTUUUUGCUCT'"
   ]
  },
  {
   "cell_type": "code",
   "execution_count": 38,
   "id": "fa63eacb-9708-492c-b2b3-ebef2d5e3a2c",
   "metadata": {},
   "outputs": [
    {
     "name": "stdout",
     "output_type": "stream",
     "text": [
      "TTTTTUUUUGCUCT\n"
     ]
    }
   ],
   "source": [
    "print(rna)"
   ]
  },
  {
   "cell_type": "code",
   "execution_count": 39,
   "id": "20a996c0-b51b-4d1d-a9e8-7da111527517",
   "metadata": {},
   "outputs": [
    {
     "name": "stdout",
     "output_type": "stream",
     "text": [
      "14\n"
     ]
    }
   ],
   "source": [
    "print (len(rna))"
   ]
  },
  {
   "cell_type": "code",
   "execution_count": 41,
   "id": "4dd2a33a-8908-4b6f-baef-fa3bb3754315",
   "metadata": {},
   "outputs": [
    {
     "name": "stdout",
     "output_type": "stream",
     "text": [
      "T\n"
     ]
    }
   ],
   "source": [
    "print(rna[len(rna)-1])"
   ]
  },
  {
   "cell_type": "code",
   "execution_count": 42,
   "id": "cdb04eb4-55b7-4d65-8c74-672a017c753b",
   "metadata": {},
   "outputs": [
    {
     "name": "stdout",
     "output_type": "stream",
     "text": [
      "T\n"
     ]
    }
   ],
   "source": [
    "print (rna[-1])"
   ]
  },
  {
   "cell_type": "code",
   "execution_count": 44,
   "id": "97d5ed28-08ac-49cc-a579-43b2bce9655c",
   "metadata": {},
   "outputs": [
    {
     "name": "stdout",
     "output_type": "stream",
     "text": [
      "T\n"
     ]
    }
   ],
   "source": [
    "print (rna[3:4])"
   ]
  },
  {
   "cell_type": "code",
   "execution_count": 46,
   "id": "8e3b94b4-1ec0-43dd-ae3a-3154ad9d2bda",
   "metadata": {},
   "outputs": [
    {
     "name": "stdout",
     "output_type": "stream",
     "text": [
      "T\n"
     ]
    }
   ],
   "source": [
    "print (rna[3-1])"
   ]
  },
  {
   "cell_type": "code",
   "execution_count": 48,
   "id": "00bd993a-987b-4ad4-883c-e7582acb7b27",
   "metadata": {},
   "outputs": [
    {
     "name": "stdout",
     "output_type": "stream",
     "text": [
      "TTTTTUUUUGCUCT\n"
     ]
    }
   ],
   "source": [
    "print(rna[:])"
   ]
  },
  {
   "cell_type": "code",
   "execution_count": 8,
   "id": "5bf6ad43-4f88-416b-9bf7-7bf77993394d",
   "metadata": {},
   "outputs": [],
   "source": [
    "rna1=rna.replace('G','Y')"
   ]
  },
  {
   "cell_type": "code",
   "execution_count": 9,
   "id": "ef476ab2-4212-495a-b683-284c440241cf",
   "metadata": {},
   "outputs": [
    {
     "name": "stdout",
     "output_type": "stream",
     "text": [
      "TTTTTUUUUYCUCT\n"
     ]
    }
   ],
   "source": [
    "print(rna1)"
   ]
  },
  {
   "cell_type": "code",
   "execution_count": 61,
   "id": "e9da4840-3f0c-47a0-b8d5-24606aac4c03",
   "metadata": {},
   "outputs": [
    {
     "name": "stdout",
     "output_type": "stream",
     "text": [
      "T T T\n"
     ]
    }
   ],
   "source": [
    "print(rna[0],rna[len(rna)-1], rna[5-1])"
   ]
  },
  {
   "cell_type": "markdown",
   "id": "ca315850-4ba5-4092-b11a-1d605ccfb5e0",
   "metadata": {},
   "source": [
    "### Exercise:\n",
    "\n",
    "1. Given the following amino acid sequence (MNKMDLVADVAEKTDLSKAKATEVIDAVFA), find the first, last and the 5th amino acids in the sequence. \n",
    "2. The above amino acid is a bacterial restriction enzyme that recognizes \"TCCGGA\". Find the first restriction site in the following sequence: AAAAATCCCGAGGCGGCTATATAGGGCTCCGGAGGCGTAATATAAAA"
   ]
  },
  {
   "cell_type": "code",
   "execution_count": 10,
   "id": "881f0731-6627-4059-8678-88702816fb77",
   "metadata": {},
   "outputs": [
    {
     "name": "stdout",
     "output_type": "stream",
     "text": [
      "True\n"
     ]
    }
   ],
   "source": [
    "print('UUU' in rna1)"
   ]
  },
  {
   "cell_type": "code",
   "execution_count": 76,
   "id": "3b7c9c4c-8717-40f9-92e8-5213db17db48",
   "metadata": {},
   "outputs": [
    {
     "name": "stdout",
     "output_type": "stream",
     "text": [
      "6\n"
     ]
    }
   ],
   "source": [
    "print(rna1.rindex('UUU'))"
   ]
  },
  {
   "cell_type": "code",
   "execution_count": 11,
   "id": "8e6da90a-4c8b-4d89-894a-5efad18b690f",
   "metadata": {},
   "outputs": [
    {
     "name": "stdout",
     "output_type": "stream",
     "text": [
      "1\n"
     ]
    }
   ],
   "source": [
    "print (rna1.count('UUU'))"
   ]
  },
  {
   "cell_type": "code",
   "execution_count": 12,
   "id": "f7260e99-7410-4fea-b8c8-6a378751d747",
   "metadata": {},
   "outputs": [
    {
     "name": "stdout",
     "output_type": "stream",
     "text": [
      "1\n"
     ]
    }
   ],
   "source": [
    "print('TATATATATAGC'.count('GC'))"
   ]
  },
  {
   "cell_type": "code",
   "execution_count": null,
   "id": "431824c5-8aaa-4118-9271-640cc8046667",
   "metadata": {},
   "outputs": [],
   "source": []
  },
  {
   "cell_type": "code",
   "execution_count": null,
   "id": "9881011f-ef0c-4502-9308-8f29f117a069",
   "metadata": {},
   "outputs": [],
   "source": []
  },
  {
   "cell_type": "code",
   "execution_count": null,
   "id": "5a9f86aa-73af-4846-b2e3-258bc46dd083",
   "metadata": {},
   "outputs": [],
   "source": []
  }
 ],
 "metadata": {
  "kernelspec": {
   "display_name": "Python 3 (ipykernel)",
   "language": "python",
   "name": "python3"
  },
  "language_info": {
   "codemirror_mode": {
    "name": "ipython",
    "version": 3
   },
   "file_extension": ".py",
   "mimetype": "text/x-python",
   "name": "python",
   "nbconvert_exporter": "python",
   "pygments_lexer": "ipython3",
   "version": "3.9.7"
  }
 },
 "nbformat": 4,
 "nbformat_minor": 5
}
