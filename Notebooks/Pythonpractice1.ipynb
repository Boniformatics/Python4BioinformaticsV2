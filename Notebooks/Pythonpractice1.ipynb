{
 "cells": [
  {
   "cell_type": "code",
   "execution_count": 4,
   "id": "3efdf8a9-a580-4118-a5f6-ee81df49ae7b",
   "metadata": {},
   "outputs": [
    {
     "name": "stdout",
     "output_type": "stream",
     "text": [
      "\n"
     ]
    }
   ],
   "source": [
    "print()"
   ]
  },
  {
   "cell_type": "code",
   "execution_count": 3,
   "id": "2b841086-48a5-405b-8d81-a2bb64e113b8",
   "metadata": {},
   "outputs": [
    {
     "name": "stdout",
     "output_type": "stream",
     "text": [
      "<class 'object'>\n"
     ]
    }
   ],
   "source": [
    "print(object)"
   ]
  },
  {
   "cell_type": "code",
   "execution_count": 6,
   "id": "43a76b02-a67b-484a-a173-912e77633b91",
   "metadata": {},
   "outputs": [
    {
     "data": {
      "text/plain": [
       "10"
      ]
     },
     "execution_count": 6,
     "metadata": {},
     "output_type": "execute_result"
    }
   ],
   "source": [
    "(1+4\n",
    "           +5)"
   ]
  },
  {
   "cell_type": "code",
   "execution_count": 8,
   "id": "1d2e7061-ee81-4ebf-9831-799d8fbb55d4",
   "metadata": {},
   "outputs": [
    {
     "data": {
      "text/plain": [
       "5"
      ]
     },
     "execution_count": 8,
     "metadata": {},
     "output_type": "execute_result"
    }
   ],
   "source": [
    "1+4"
   ]
  },
  {
   "cell_type": "code",
   "execution_count": 10,
   "id": "0a52f314-c9d1-44c0-a5fb-ed8efab1f860",
   "metadata": {},
   "outputs": [
    {
     "name": "stdout",
     "output_type": "stream",
     "text": [
      "Object `input(prompt='Bonface: ')` not found.\n"
     ]
    }
   ],
   "source": [
    "?input(prompt='Bonface: ')"
   ]
  },
  {
   "cell_type": "code",
   "execution_count": 12,
   "id": "648081db-5968-4e21-983a-c5130c61396f",
   "metadata": {},
   "outputs": [
    {
     "name": "stdout",
     "output_type": "stream",
     "text": [
      "Name\tReg No\tContact\n"
     ]
    }
   ],
   "source": [
    "print ('Name', 'Reg No','Contact', sep='\\t')"
   ]
  },
  {
   "cell_type": "code",
   "execution_count": null,
   "id": "14ffb7fe-d1e2-4116-9e11-4524421d8b1c",
   "metadata": {},
   "outputs": [],
   "source": []
  },
  {
   "cell_type": "code",
   "execution_count": 18,
   "id": "fe3626bd-a126-4372-9efb-dfec33ad9bc3",
   "metadata": {},
   "outputs": [
    {
     "name": "stdout",
     "output_type": "stream",
     "text": [
      "Name>Reg No>Contact\n"
     ]
    }
   ],
   "source": [
    "print ('Name','Reg No','Contact', sep='>')"
   ]
  },
  {
   "cell_type": "code",
   "execution_count": 19,
   "id": "defcada4-c049-4158-8876-f57836e698d8",
   "metadata": {},
   "outputs": [],
   "source": [
    "a=4+5"
   ]
  },
  {
   "cell_type": "code",
   "execution_count": 20,
   "id": "b9471f10-2a0d-4916-aaf6-ff4a42736fb4",
   "metadata": {},
   "outputs": [
    {
     "data": {
      "text/plain": [
       "9"
      ]
     },
     "execution_count": 20,
     "metadata": {},
     "output_type": "execute_result"
    }
   ],
   "source": [
    "a"
   ]
  },
  {
   "cell_type": "code",
   "execution_count": 21,
   "id": "af573c4e-be9f-4bcb-bdc6-ef9f7ddc590c",
   "metadata": {},
   "outputs": [],
   "source": [
    "y=4\n",
    "x=7\n",
    "xy='hey'"
   ]
  },
  {
   "cell_type": "code",
   "execution_count": 25,
   "id": "a4d5a8ea-c5b4-4fc8-8fb6-d2850d6d5be5",
   "metadata": {},
   "outputs": [
    {
     "name": "stdout",
     "output_type": "stream",
     "text": [
      "Object `print(x+y,xy, sep=\"\\t\")` not found.\n"
     ]
    }
   ],
   "source": [
    "?print(x+y,xy, sep=\"\\t\")"
   ]
  },
  {
   "cell_type": "code",
   "execution_count": 24,
   "id": "c705f9e4-aed5-4d0e-b636-2db70b402cd2",
   "metadata": {},
   "outputs": [
    {
     "ename": "SyntaxError",
     "evalue": "invalid syntax (176570918.py, line 1)",
     "output_type": "error",
     "traceback": [
      "\u001b[0;36m  File \u001b[0;32m\"/tmp/ipykernel_7097/176570918.py\"\u001b[0;36m, line \u001b[0;32m1\u001b[0m\n\u001b[0;31m    print(x+y,xy sep=\"\\t\"\u001b[0m\n\u001b[0m                 ^\u001b[0m\n\u001b[0;31mSyntaxError\u001b[0m\u001b[0;31m:\u001b[0m invalid syntax\n"
     ]
    }
   ],
   "source": [
    "print(x+y,xy sep=\"\\t\")"
   ]
  },
  {
   "cell_type": "code",
   "execution_count": 28,
   "id": "b220eb21-b542-4273-8b7a-c79fd45d63d8",
   "metadata": {},
   "outputs": [
    {
     "name": "stdout",
     "output_type": "stream",
     "text": [
      "Hello Dad Come home^Hello Dad Come home?"
     ]
    }
   ],
   "source": [
    "print('Hello','Dad','Come','home', end='^')\n",
    "print('Hello','Dad','Come','home', end='?', flush=True)\n",
    "      "
   ]
  },
  {
   "cell_type": "code",
   "execution_count": 29,
   "id": "8f89ec88-416d-482c-b942-268de6dabdfc",
   "metadata": {},
   "outputs": [
    {
     "name": "stdout",
     "output_type": "stream",
     "text": [
      "Hello Dad Come home^Hello Dad Come home?"
     ]
    }
   ],
   "source": [
    "print('Hello','Dad','Come','home', end='^')\n",
    "print('Hello','Dad','Come','home', end='?', flush=False)\n",
    "      "
   ]
  },
  {
   "cell_type": "code",
   "execution_count": 30,
   "id": "8a1a23ab-d705-43d8-952f-67422084f11f",
   "metadata": {},
   "outputs": [
    {
     "data": {
      "text/plain": [
       "builtin_function_or_method"
      ]
     },
     "execution_count": 30,
     "metadata": {},
     "output_type": "execute_result"
    }
   ],
   "source": [
    "type(print)"
   ]
  },
  {
   "cell_type": "code",
   "execution_count": 34,
   "id": "773af800-1d0e-4055-88f3-6e2e30c4fdbe",
   "metadata": {},
   "outputs": [
    {
     "data": {
      "text/plain": [
       "int"
      ]
     },
     "execution_count": 34,
     "metadata": {},
     "output_type": "execute_result"
    }
   ],
   "source": [
    "y=6.0\n",
    "x=5\n",
    "type(y)\n",
    "type(x)"
   ]
  },
  {
   "cell_type": "code",
   "execution_count": 35,
   "id": "3810ebb1-f1db-4d8b-8f70-fc8ae82fafe2",
   "metadata": {},
   "outputs": [
    {
     "data": {
      "text/plain": [
       "2"
      ]
     },
     "execution_count": 35,
     "metadata": {},
     "output_type": "execute_result"
    }
   ],
   "source": [
    "8//3  #returns the remainder"
   ]
  },
  {
   "cell_type": "code",
   "execution_count": 36,
   "id": "1d3ef804-f7b5-4877-a5ed-67a2dfa1ea87",
   "metadata": {},
   "outputs": [
    {
     "data": {
      "text/plain": [
       "12.8"
      ]
     },
     "execution_count": 36,
     "metadata": {},
     "output_type": "execute_result"
    }
   ],
   "source": [
    "4+8.8"
   ]
  },
  {
   "cell_type": "code",
   "execution_count": null,
   "id": "82fc52a5-1d9f-47e0-8016-57ecf5af2ece",
   "metadata": {},
   "outputs": [],
   "source": []
  }
 ],
 "metadata": {
  "kernelspec": {
   "display_name": "Python 3 (ipykernel)",
   "language": "python",
   "name": "python3"
  },
  "language_info": {
   "codemirror_mode": {
    "name": "ipython",
    "version": 3
   },
   "file_extension": ".py",
   "mimetype": "text/x-python",
   "name": "python",
   "nbconvert_exporter": "python",
   "pygments_lexer": "ipython3",
   "version": "3.9.7"
  }
 },
 "nbformat": 4,
 "nbformat_minor": 5
}
