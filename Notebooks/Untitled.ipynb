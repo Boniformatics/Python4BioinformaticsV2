{
 "cells": [
  {
   "cell_type": "code",
   "execution_count": 1,
   "id": "0ba47269-952a-4c05-81c3-e664f9541465",
   "metadata": {},
   "outputs": [
    {
     "data": {
      "text/plain": [
       "8"
      ]
     },
     "execution_count": 1,
     "metadata": {},
     "output_type": "execute_result"
    }
   ],
   "source": [
    "4+4"
   ]
  },
  {
   "cell_type": "code",
   "execution_count": null,
   "id": "49c44f22-adc3-467f-96b6-ea745f6e0ed5",
   "metadata": {},
   "outputs": [],
   "source": [
    "add=4+4\n",
    "print 4\n"
   ]
  }
 ],
 "metadata": {
  "kernelspec": {
   "display_name": "Python 3 (ipykernel)",
   "language": "python",
   "name": "python3"
  },
  "language_info": {
   "codemirror_mode": {
    "name": "ipython",
    "version": 3
   },
   "file_extension": ".py",
   "mimetype": "text/x-python",
   "name": "python",
   "nbconvert_exporter": "python",
   "pygments_lexer": "ipython3",
   "version": "3.9.7"
  }
 },
 "nbformat": 4,
 "nbformat_minor": 5
}
