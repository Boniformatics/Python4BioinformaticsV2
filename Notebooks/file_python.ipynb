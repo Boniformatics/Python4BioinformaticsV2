{
 "cells": [
  {
   "cell_type": "code",
   "execution_count": 7,
   "id": "8c6a1210-0908-46cd-a515-a1cd2bac65b8",
   "metadata": {},
   "outputs": [],
   "source": [
    "head1='ABCD123'\n",
    "head2='ABCD124'\n",
    "head3='ABCD125'\n",
    "seq1='TAGACATGTACATAGACCATAC'\n",
    "seq2='TCTCTATACATGATACAG'\n",
    "seq3='GCTAGA---GTA-T-GAC--A'"
   ]
  },
  {
   "cell_type": "code",
   "execution_count": 8,
   "id": "48605544-50e3-4f15-9cdf-6eccf1f35da4",
   "metadata": {},
   "outputs": [
    {
     "name": "stdout",
     "output_type": "stream",
     "text": [
      ">\n"
     ]
    }
   ],
   "source": [
    "print('>')"
   ]
  },
  {
   "cell_type": "code",
   "execution_count": 10,
   "id": "b8993b93-8f3a-4ebb-a9ce-5f6e59c2e699",
   "metadata": {},
   "outputs": [
    {
     "name": "stdout",
     "output_type": "stream",
     "text": [
      ">ABCD123\n",
      "TAGACATGTACATAGACCATAC\n"
     ]
    }
   ],
   "source": [
    "print('>' + head1 + '\\n' + seq1)"
   ]
  },
  {
   "cell_type": "code",
   "execution_count": 15,
   "id": "1e69c8de-ab1a-4772-8311-600d8343a774",
   "metadata": {},
   "outputs": [
    {
     "name": "stdout",
     "output_type": "stream",
     "text": [
      ">ABCD125\n",
      "GCTAGAGTATGACA\n"
     ]
    }
   ],
   "source": [
    "print('>' + head3 + '\\n' + seq3.replace('-',''))"
   ]
  },
  {
   "cell_type": "code",
   "execution_count": 20,
   "id": "375a9321-de0e-42e2-b484-217a8fe6ba40",
   "metadata": {},
   "outputs": [],
   "source": [
    "headlist=[head1, head2, head2]\n",
    "seqlist=[seq1, seq2, seq3.replace('-','')]"
   ]
  },
  {
   "cell_type": "code",
   "execution_count": 21,
   "id": "5db601f4-50f9-468a-82c7-d69e1ffec55a",
   "metadata": {},
   "outputs": [
    {
     "name": "stdout",
     "output_type": "stream",
     "text": [
      "['ABCD123', 'ABCD124', 'ABCD124']\n"
     ]
    }
   ],
   "source": [
    "print(headlist)"
   ]
  },
  {
   "cell_type": "code",
   "execution_count": 22,
   "id": "ab5b49b9-0a2d-4853-8b36-5ca60078cf39",
   "metadata": {},
   "outputs": [
    {
     "name": "stdout",
     "output_type": "stream",
     "text": [
      "['TAGACATGTACATAGACCATAC', 'TCTCTATACATGATACAG', 'GCTAGAGTATGACA']\n"
     ]
    }
   ],
   "source": [
    "print(seqlist)"
   ]
  },
  {
   "cell_type": "code",
   "execution_count": 23,
   "id": "312f7e33-8c82-4472-be69-22904e9d76e9",
   "metadata": {},
   "outputs": [
    {
     "data": {
      "text/plain": [
       "3"
      ]
     },
     "execution_count": 23,
     "metadata": {},
     "output_type": "execute_result"
    }
   ],
   "source": [
    "len(headlist)"
   ]
  },
  {
   "cell_type": "code",
   "execution_count": 25,
   "id": "a4e42c73-ffe7-44c3-97c8-0eea2d66247a",
   "metadata": {},
   "outputs": [
    {
     "name": "stdout",
     "output_type": "stream",
     "text": [
      "None\n"
     ]
    }
   ],
   "source": [
    "print(headlist.sort())"
   ]
  },
  {
   "cell_type": "code",
   "execution_count": 26,
   "id": "0e9ae237-354c-432b-8938-293fa9c341e7",
   "metadata": {},
   "outputs": [
    {
     "name": "stdout",
     "output_type": "stream",
     "text": [
      "['ABCD123', 'ABCD124', 'ABCD124']\n"
     ]
    }
   ],
   "source": [
    "print (str(headlist))"
   ]
  },
  {
   "cell_type": "code",
   "execution_count": 27,
   "id": "341ca384-54b1-4aaf-ac60-7257b801dfde",
   "metadata": {},
   "outputs": [
    {
     "name": "stdout",
     "output_type": "stream",
     "text": [
      "ABCD123\n",
      "ABCD124\n",
      "ABCD124\n"
     ]
    }
   ],
   "source": [
    "for headline in headlist:\n",
    "    print(headline)"
   ]
  },
  {
   "cell_type": "code",
   "execution_count": null,
   "id": "4126d3b6-ec11-4abd-9727-f14c39688d72",
   "metadata": {},
   "outputs": [],
   "source": []
  }
 ],
 "metadata": {
  "kernelspec": {
   "display_name": "Python 3 (ipykernel)",
   "language": "python",
   "name": "python3"
  },
  "language_info": {
   "codemirror_mode": {
    "name": "ipython",
    "version": 3
   },
   "file_extension": ".py",
   "mimetype": "text/x-python",
   "name": "python",
   "nbconvert_exporter": "python",
   "pygments_lexer": "ipython3",
   "version": "3.9.7"
  }
 },
 "nbformat": 4,
 "nbformat_minor": 5
}
