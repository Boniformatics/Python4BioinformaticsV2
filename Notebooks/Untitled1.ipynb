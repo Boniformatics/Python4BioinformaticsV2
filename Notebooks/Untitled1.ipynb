{
 "cells": [
  {
   "cell_type": "markdown",
   "id": "f9e7257a-ea68-4314-8e8a-c3210dbea07c",
   "metadata": {
    "tags": []
   },
   "source": [
    "# My class Practice Notebook\n",
    "\n",
    "Here I will enlist my learning journey"
   ]
  },
  {
   "cell_type": "code",
   "execution_count": 1,
   "id": "752c2439-d6a9-4632-afac-49ffa18ca3d7",
   "metadata": {},
   "outputs": [
    {
     "data": {
      "text/plain": [
       "7"
      ]
     },
     "execution_count": 1,
     "metadata": {},
     "output_type": "execute_result"
    }
   ],
   "source": [
    "3+4"
   ]
  },
  {
   "cell_type": "markdown",
   "id": "adba82af-cb9b-46f9-837e-511b7784345f",
   "metadata": {
    "tags": []
   },
   "source": [
    "2. We can create Strings in Python"
   ]
  },
  {
   "cell_type": "code",
   "execution_count": null,
   "id": "0ee1d296-d48d-4701-aaed-b6971bad31d4",
   "metadata": {},
   "outputs": [],
   "source": [
    "name='Bonface'"
   ]
  },
  {
   "cell_type": "code",
   "execution_count": null,
   "id": "e0978f97-a4a6-4829-9ee6-dfd14eded25e",
   "metadata": {},
   "outputs": [],
   "source": [
    "Print (my name is name"
   ]
  },
  {
   "cell_type": "code",
   "execution_count": 5,
   "id": "ad5320ab-2d0c-489f-8678-1c1473b4e2b5",
   "metadata": {},
   "outputs": [
    {
     "name": "stdout",
     "output_type": "stream",
     "text": [
      "my name is $name\n"
     ]
    }
   ],
   "source": [
    "print ('my name is $name')"
   ]
  },
  {
   "cell_type": "code",
   "execution_count": null,
   "id": "edc81be2-3290-4081-9685-599ea9503ea0",
   "metadata": {},
   "outputs": [],
   "source": []
  }
 ],
 "metadata": {
  "kernelspec": {
   "display_name": "Python 3 (ipykernel)",
   "language": "python",
   "name": "python3"
  },
  "language_info": {
   "codemirror_mode": {
    "name": "ipython",
    "version": 3
   },
   "file_extension": ".py",
   "mimetype": "text/x-python",
   "name": "python",
   "nbconvert_exporter": "python",
   "pygments_lexer": "ipython3",
   "version": "3.9.7"
  }
 },
 "nbformat": 4,
 "nbformat_minor": 5
}
