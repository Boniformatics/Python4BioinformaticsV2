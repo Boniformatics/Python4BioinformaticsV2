{
 "cells": [
  {
   "cell_type": "code",
   "execution_count": null,
   "id": "8fa9bf8f-59ab-4013-b086-cd5be156690b",
   "metadata": {},
   "outputs": [],
   "source": []
  },
  {
   "cell_type": "code",
   "execution_count": 1,
   "id": "0bd07ada-40c5-4c84-9237-dde411a77225",
   "metadata": {},
   "outputs": [],
   "source": [
    "from IPython.display import HTML"
   ]
  },
  {
   "cell_type": "code",
   "execution_count": 3,
   "id": "6519b52d-a90f-4927-95aa-dc52c5a1c21c",
   "metadata": {},
   "outputs": [
    {
     "name": "stdout",
     "output_type": "stream",
     "text": [
      "two\n",
      "none\n"
     ]
    }
   ],
   "source": [
    "x=6\n",
    "y=27\n",
    "if x>y:\n",
    "    print ('one')\n",
    "    \n",
    "elif x<y:\n",
    "    print('two')\n",
    "    if x == 5:\n",
    "        print('three')\n",
    "    else:\n",
    "        print('none')\n",
    "else:\n",
    "    print(invalid)"
   ]
  },
  {
   "cell_type": "code",
   "execution_count": null,
   "id": "336a8da9-42fc-40d5-9edf-46f7bbb68e21",
   "metadata": {},
   "outputs": [],
   "source": []
  },
  {
   "cell_type": "code",
   "execution_count": 5,
   "id": "069e6d8c-20e4-45df-8724-d489e8e0d28f",
   "metadata": {},
   "outputs": [
    {
     "name": "stdout",
     "output_type": "stream",
     "text": [
      "invalid\n"
     ]
    }
   ],
   "source": [
    "x=6\n",
    "y=6\n",
    "if x>y:\n",
    "    print ('one')\n",
    "    \n",
    "elif x<y:\n",
    "    print('two')\n",
    "    if x == 5:\n",
    "        print('three')\n",
    "    else:\n",
    "        print('none')\n",
    "else:\n",
    "    print('invalid')"
   ]
  },
  {
   "cell_type": "code",
   "execution_count": 7,
   "id": "dd31eef9-f000-4571-a0d9-f496b926ed62",
   "metadata": {},
   "outputs": [
    {
     "name": "stdout",
     "output_type": "stream",
     "text": [
      "Hello Bonface. Come home early\n",
      "Hello George Otieno. Come home early\n",
      "Hello Henry. Come home early\n",
      "Hello Brenda. Come home early\n"
     ]
    }
   ],
   "source": [
    "names=['Bonface','George Otieno','Henry', 'Brenda']\n",
    "for name in names:\n",
    "    print('Hello %s. Come home early'%name)"
   ]
  },
  {
   "cell_type": "code",
   "execution_count": null,
   "id": "e4f2288a-0d7c-4505-8179-023a0334af3e",
   "metadata": {},
   "outputs": [],
   "source": []
  },
  {
   "cell_type": "code",
   "execution_count": 1,
   "id": "093c8285-9455-48f7-9347-d11b3cd0e3cb",
   "metadata": {},
   "outputs": [
    {
     "data": {
      "text/html": [
       "<iframe width=\"900\" height=\"400\" frameborder=\"0\" src=\"http://pythontutor.com/iframe-embed.html#code=for%20f%20in%20%5B%22Joe%22,%22Zoe%22,%22Brad%22,%22Angelina%22,%22Zuki%22,%22Thandi%22,%22Paris%22%5D%3A%0A%20%20%20%20invite%20%3D%20%22Hi%20%22%20%2B%20f%20%2B%20%22.%20%20Please%20come%20to%20my%20party%20on%20Saturday!%22%0A%20%20%20%20print%28invite%29&codeDivHeight=400&codeDivWidth=350&cumulative=false&curInstr=15&heapPrimitives=nevernest&origin=opt-frontend.js&py=3&rawInputLstJSON=%5B%5D&textReferences=false\"> </iframe>"
      ],
      "text/plain": [
       "<IPython.core.display.HTML object>"
      ]
     },
     "metadata": {},
     "output_type": "display_data"
    }
   ],
   "source": [
    "%%html\n",
    "<iframe width=\"900\" height=\"400\" frameborder=\"0\" src=\"http://pythontutor.com/iframe-embed.html#code=for%20f%20in%20%5B%22Joe%22,%22Zoe%22,%22Brad%22,%22Angelina%22,%22Zuki%22,%22Thandi%22,%22Paris%22%5D%3A%0A%20%20%20%20invite%20%3D%20%22Hi%20%22%20%2B%20f%20%2B%20%22.%20%20Please%20come%20to%20my%20party%20on%20Saturday!%22%0A%20%20%20%20print%28invite%29&codeDivHeight=400&codeDivWidth=350&cumulative=false&curInstr=15&heapPrimitives=nevernest&origin=opt-frontend.js&py=3&rawInputLstJSON=%5B%5D&textReferences=false\"> </iframe>"
   ]
  },
  {
   "cell_type": "code",
   "execution_count": null,
   "id": "fc1aa00d-ca6d-4be2-b807-ecc12df08c82",
   "metadata": {},
   "outputs": [],
   "source": []
  },
  {
   "cell_type": "code",
   "execution_count": 8,
   "id": "f3cfec87-92f8-4f2c-82ba-d2d7d8f47f9c",
   "metadata": {},
   "outputs": [
    {
     "name": "stdout",
     "output_type": "stream",
     "text": [
      "a\n",
      "b\n",
      "c\n",
      "total = 14\n"
     ]
    }
   ],
   "source": [
    "for ch in 'abc':\n",
    "    print(ch)\n",
    "total = 3\n",
    "for i in range(6):\n",
    "    total += i\n",
    "for i,j in [(2,4),(5,3)]:\n",
    "    total += i**j\n",
    "print(\"total =\",total)"
   ]
  }
 ],
 "metadata": {
  "kernelspec": {
   "display_name": "Python 3 (ipykernel)",
   "language": "python",
   "name": "python3"
  },
  "language_info": {
   "codemirror_mode": {
    "name": "ipython",
    "version": 3
   },
   "file_extension": ".py",
   "mimetype": "text/x-python",
   "name": "python",
   "nbconvert_exporter": "python",
   "pygments_lexer": "ipython3",
   "version": "3.9.7"
  }
 },
 "nbformat": 4,
 "nbformat_minor": 5
}
