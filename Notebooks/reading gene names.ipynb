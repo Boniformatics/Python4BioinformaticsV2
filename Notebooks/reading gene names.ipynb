{
 "cells": [
  {
   "cell_type": "code",
   "execution_count": 56,
   "id": "b6350a2c-4f9c-4cf5-b9e7-eb570ee91278",
   "metadata": {},
   "outputs": [],
   "source": [
    "def myfile_func():\n",
    "    #with open(file_name, gene_name) as file:\n",
    "\n",
    "    with open('./humchrx.txt','r') as file:\n",
    "        with open('./mydna_names.txt', 'w') as file3:\n",
    "        #with open('./mydna_names.txt', 'w') as file3:\n",
    "\n",
    "            line1 =file.readlines()\n",
    "            '''lines are string'''\n",
    "            #print(line1)\n",
    "            #if line1.startswith('gene'):\n",
    "            for i,y in enumerate(line1):\n",
    "                if i>35:\n",
    "                    lines=y.split()\n",
    "                    #print(lines)\n",
    "                    fields=lines[0]\n",
    "                    print(fields)\n",
    "                    #break\n",
    "                    column=' '.join(fields)\n",
    "                    print(column)\n",
    "                    file3.write(column,'\\n')\n",
    "#myfile_func() "
   ]
  },
  {
   "cell_type": "code",
   "execution_count": 5,
   "id": "a85b647a-d206-4b6f-94cc-c70f20592100",
   "metadata": {},
   "outputs": [
    {
     "ename": "SyntaxError",
     "evalue": "invalid syntax (469813272.py, line 4)",
     "output_type": "error",
     "traceback": [
      "\u001b[0;36m  File \u001b[0;32m\"/tmp/ipykernel_6657/469813272.py\"\u001b[0;36m, line \u001b[0;32m4\u001b[0m\n\u001b[0;31m    '''lines are string'''\u001b[0m\n\u001b[0m       ^\u001b[0m\n\u001b[0;31mSyntaxError\u001b[0m\u001b[0;31m:\u001b[0m invalid syntax\n"
     ]
    }
   ],
   "source": [
    "  ''' with open('./humchrx.txt', 'r') as file:\n",
    "        with open('./mydna_names.txt', 'w') as file3:\n",
    "            line1 =file.readlines()\n",
    "            '''lines are string'''\n",
    "            #print(line1)\n",
    "            #if line1.startswith('gene'):\n",
    "            for i,y in enumerate(line1):\n",
    "                if i>35:\n",
    "                    lines=y.split()\n",
    "                    #print(lines)\n",
    "                    fields=lines[0]\n",
    "                    #print(fileds)\n",
    "                    #if fields.startswith('-'):\n",
    "\n",
    "                        #break\n",
    "                    #print(column)\n",
    "                        #file3.write(column)\n",
    "#myfile_func() '''"
   ]
  },
  {
   "cell_type": "code",
   "execution_count": 60,
   "id": "aaf873cb-df07-4f23-a28e-476ea7f8496f",
   "metadata": {},
   "outputs": [],
   "source": [
    "with open('./humchrx.txt', 'r') as file:\n",
    "    with open('./mydna_names.txt', 'w') as file3:\n",
    "\n",
    "        line1 =file.readlines()\n",
    "        for i,y in enumerate(line1):\n",
    "            if i>35:\n",
    "                lines=y.split()\n",
    "                #print(lines)\n",
    "                fields=lines[0]\n",
    "                #print(fields)\n",
    "                if fields.startswith('-'):\n",
    "                    break\n",
    "                #print(fields)\n",
    "                file3.write(f'{fields}\\n')\n",
    "\n",
    "\n",
    "\n",
    "\n",
    "            \n",
    "\n",
    "\n",
    "\n"
   ]
  },
  {
   "cell_type": "code",
   "execution_count": 59,
   "id": "794603bd-bcf8-4a2c-8f58-aacf13c96663",
   "metadata": {},
   "outputs": [],
   "source": [
    "def find_gene_fun(gene_file,gene_names):\n",
    "    with open(gene_file, 'r') as file:\n",
    "        with open(gene_names, 'w') as file3:\n",
    "            line1 =file.readlines()\n",
    "            for i,y in enumerate(line1):\n",
    "                if i>35:\n",
    "                    lines=y.split()\n",
    "                    #print(lines)\n",
    "                    fields=lines[0]\n",
    "                    #print(fields)\n",
    "                    if fields.startswith('-'):\n",
    "                        break\n",
    "                        print(fields)\n",
    "                        file3.write(f'{fields}\\n')\n",
    "#find_gene_fun()\n",
    "\n",
    "\n",
    "\n",
    "\n",
    "            \n",
    "\n",
    "\n",
    "\n"
   ]
  },
  {
   "cell_type": "code",
   "execution_count": 62,
   "id": "ef7fea31-ced3-4353-b0ab-05e3a3c8424e",
   "metadata": {},
   "outputs": [
    {
     "ename": "NameError",
     "evalue": "name 'humchrx' is not defined",
     "output_type": "error",
     "traceback": [
      "\u001b[0;31m---------------------------------------------------------------------------\u001b[0m",
      "\u001b[0;31mNameError\u001b[0m                                 Traceback (most recent call last)",
      "\u001b[0;32m/tmp/ipykernel_6657/4114078736.py\u001b[0m in \u001b[0;36m<module>\u001b[0;34m\u001b[0m\n\u001b[0;32m----> 1\u001b[0;31m \u001b[0mfind_gene_fun\u001b[0m\u001b[0;34m(\u001b[0m\u001b[0mhumchrx\u001b[0m\u001b[0;34m.\u001b[0m\u001b[0mtxt\u001b[0m\u001b[0;34m,\u001b[0m\u001b[0mmydna_names\u001b[0m\u001b[0;34m.\u001b[0m\u001b[0mtxt\u001b[0m\u001b[0;34m)\u001b[0m\u001b[0;34m\u001b[0m\u001b[0;34m\u001b[0m\u001b[0m\n\u001b[0m",
      "\u001b[0;31mNameError\u001b[0m: name 'humchrx' is not defined"
     ]
    }
   ],
   "source": [
    "find_gene_fun(humchrx.txt,mydna_names.txt)"
   ]
  },
  {
   "cell_type": "code",
   "execution_count": null,
   "id": "d3e1cdcb-e32c-4a07-a776-cd37d15a20a7",
   "metadata": {},
   "outputs": [],
   "source": []
  },
  {
   "cell_type": "code",
   "execution_count": null,
   "id": "2dc73810-de84-400b-b309-0c12452ac3f9",
   "metadata": {},
   "outputs": [],
   "source": []
  },
  {
   "cell_type": "code",
   "execution_count": 258,
   "id": "ff3e7b4e-0586-4a7f-a287-ef3f519cfdff",
   "metadata": {},
   "outputs": [
    {
     "data": {
      "text/plain": [
       "str"
      ]
     },
     "execution_count": 258,
     "metadata": {},
     "output_type": "execute_result"
    }
   ],
   "source": [
    "type(y)"
   ]
  },
  {
   "cell_type": "code",
   "execution_count": null,
   "id": "5441e0c6-b306-499a-a249-8fce355cf6ca",
   "metadata": {},
   "outputs": [],
   "source": [
    "\n",
    "    \n",
    "        \n",
    "        \n"
   ]
  },
  {
   "cell_type": "code",
   "execution_count": 187,
   "id": "39bda703-2d24-4fd5-a944-b40ae03b4099",
   "metadata": {},
   "outputs": [
    {
     "data": {
      "text/plain": [
       "str"
      ]
     },
     "execution_count": 187,
     "metadata": {},
     "output_type": "execute_result"
    }
   ],
   "source": [
    "type(y)"
   ]
  },
  {
   "cell_type": "code",
   "execution_count": null,
   "id": "311cc9bb-ce5e-4b71-ae7b-fb08e890dbec",
   "metadata": {},
   "outputs": [],
   "source": []
  },
  {
   "cell_type": "code",
   "execution_count": 189,
   "id": "7895803c-fa82-45b5-a6b6-a7cbc84c5ce2",
   "metadata": {},
   "outputs": [
    {
     "data": {
      "text/plain": [
       "\u001b[0;31mSignature:\u001b[0m \u001b[0mlist\u001b[0m\u001b[0;34m.\u001b[0m\u001b[0mpop\u001b[0m\u001b[0;34m(\u001b[0m\u001b[0mself\u001b[0m\u001b[0;34m,\u001b[0m \u001b[0mindex\u001b[0m\u001b[0;34m=\u001b[0m\u001b[0;34m-\u001b[0m\u001b[0;36m1\u001b[0m\u001b[0;34m,\u001b[0m \u001b[0;34m/\u001b[0m\u001b[0;34m)\u001b[0m\u001b[0;34m\u001b[0m\u001b[0;34m\u001b[0m\u001b[0m\n",
       "\u001b[0;31mDocstring:\u001b[0m\n",
       "Remove and return item at index (default last).\n",
       "\n",
       "Raises IndexError if list is empty or index is out of range.\n",
       "\u001b[0;31mType:\u001b[0m      method_descriptor\n"
      ]
     },
     "metadata": {},
     "output_type": "display_data"
    }
   ],
   "source": [
    "\n",
    "\n"
   ]
  },
  {
   "cell_type": "code",
   "execution_count": null,
   "id": "e30221da-9f62-45d5-80d5-1b63cdfb26e0",
   "metadata": {},
   "outputs": [],
   "source": []
  }
 ],
 "metadata": {
  "kernelspec": {
   "display_name": "Python 3 (ipykernel)",
   "language": "python",
   "name": "python3"
  },
  "language_info": {
   "codemirror_mode": {
    "name": "ipython",
    "version": 3
   },
   "file_extension": ".py",
   "mimetype": "text/x-python",
   "name": "python",
   "nbconvert_exporter": "python",
   "pygments_lexer": "ipython3",
   "version": "3.9.7"
  }
 },
 "nbformat": 4,
 "nbformat_minor": 5
}
