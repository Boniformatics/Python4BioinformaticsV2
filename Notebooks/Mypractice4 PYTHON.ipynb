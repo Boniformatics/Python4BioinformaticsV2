{
 "cells": [
  {
   "cell_type": "markdown",
   "id": "f9e7257a-ea68-4314-8e8a-c3210dbea07c",
   "metadata": {
    "tags": []
   },
   "source": [
    "# My class Practice Notebook\n",
    "\n",
    "Here I will enlist my learning journey"
   ]
  },
  {
   "cell_type": "code",
   "execution_count": 1,
   "id": "752c2439-d6a9-4632-afac-49ffa18ca3d7",
   "metadata": {},
   "outputs": [
    {
     "data": {
      "text/plain": [
       "7"
      ]
     },
     "execution_count": 1,
     "metadata": {},
     "output_type": "execute_result"
    }
   ],
   "source": [
    "3+4"
   ]
  },
  {
   "cell_type": "markdown",
   "id": "adba82af-cb9b-46f9-837e-511b7784345f",
   "metadata": {
    "tags": []
   },
   "source": [
    "2. We can create Strings in Python"
   ]
  },
  {
   "cell_type": "code",
   "execution_count": 1,
   "id": "0ee1d296-d48d-4701-aaed-b6971bad31d4",
   "metadata": {},
   "outputs": [],
   "source": [
    "name='Bonface'"
   ]
  },
  {
   "cell_type": "code",
   "execution_count": 2,
   "id": "e0978f97-a4a6-4829-9ee6-dfd14eded25e",
   "metadata": {},
   "outputs": [
    {
     "data": {
      "text/plain": [
       "'Bonface'"
      ]
     },
     "execution_count": 2,
     "metadata": {},
     "output_type": "execute_result"
    }
   ],
   "source": [
    "name"
   ]
  },
  {
   "cell_type": "code",
   "execution_count": 7,
   "id": "ad5320ab-2d0c-489f-8678-1c1473b4e2b5",
   "metadata": {},
   "outputs": [
    {
     "name": "stdout",
     "output_type": "stream",
     "text": [
      "my name is %name\n"
     ]
    }
   ],
   "source": [
    "print ('my name is %name')"
   ]
  },
  {
   "cell_type": "code",
   "execution_count": 8,
   "id": "edc81be2-3290-4081-9685-599ea9503ea0",
   "metadata": {},
   "outputs": [
    {
     "data": {
      "text/plain": [
       "5"
      ]
     },
     "execution_count": 8,
     "metadata": {},
     "output_type": "execute_result"
    }
   ],
   "source": [
    "5%7 # 7 goes to 5 0 times remainder 5"
   ]
  },
  {
   "cell_type": "code",
   "execution_count": 9,
   "id": "5163d15f-1aa2-4889-9735-075ccf7cae25",
   "metadata": {},
   "outputs": [
    {
     "data": {
      "text/plain": [
       "1.5"
      ]
     },
     "execution_count": 9,
     "metadata": {},
     "output_type": "execute_result"
    }
   ],
   "source": [
    "15/10"
   ]
  },
  {
   "cell_type": "code",
   "execution_count": 11,
   "id": "72cfb56d-e57d-40a1-912b-001300632fc8",
   "metadata": {},
   "outputs": [
    {
     "data": {
      "text/plain": [
       "1"
      ]
     },
     "execution_count": 11,
     "metadata": {},
     "output_type": "execute_result"
    }
   ],
   "source": [
    "15//10     #Returns whole number part///trancate the remainder"
   ]
  },
  {
   "cell_type": "code",
   "execution_count": 12,
   "id": "ce4dd2bd-1cbb-42fc-a4e8-dfe8e3187f36",
   "metadata": {},
   "outputs": [
    {
     "data": {
      "text/plain": [
       "1"
      ]
     },
     "execution_count": 12,
     "metadata": {},
     "output_type": "execute_result"
    }
   ],
   "source": [
    "4//3"
   ]
  },
  {
   "cell_type": "code",
   "execution_count": 13,
   "id": "94caea0a-8f41-4f93-a4e9-20dd31a14d67",
   "metadata": {},
   "outputs": [
    {
     "data": {
      "text/plain": [
       "2"
      ]
     },
     "execution_count": 13,
     "metadata": {},
     "output_type": "execute_result"
    }
   ],
   "source": [
    "5//2"
   ]
  },
  {
   "cell_type": "code",
   "execution_count": 15,
   "id": "2810ad36-fecb-430a-8e64-e6c5a0625e0d",
   "metadata": {},
   "outputs": [
    {
     "data": {
      "text/plain": [
       "False"
      ]
     },
     "execution_count": 15,
     "metadata": {},
     "output_type": "execute_result"
    }
   ],
   "source": [
    "x=3\n",
    "x==4"
   ]
  },
  {
   "cell_type": "code",
   "execution_count": 16,
   "id": "12f61e65-09a9-4621-bd2d-b7b00d32c609",
   "metadata": {},
   "outputs": [],
   "source": [
    "x==4\n",
    "x=2"
   ]
  },
  {
   "cell_type": "code",
   "execution_count": 17,
   "id": "7cbfc446-4365-4c40-8efe-acda0c3e073a",
   "metadata": {},
   "outputs": [
    {
     "data": {
      "text/plain": [
       "3"
      ]
     },
     "execution_count": 17,
     "metadata": {},
     "output_type": "execute_result"
    }
   ],
   "source": [
    "3%4     #Returns three because four does not go into three any tmes"
   ]
  },
  {
   "cell_type": "code",
   "execution_count": 18,
   "id": "ad5815ed-a5d6-4b9f-8978-d8de528f7a06",
   "metadata": {},
   "outputs": [],
   "source": [
    "x=['one', 'two']"
   ]
  },
  {
   "cell_type": "code",
   "execution_count": 19,
   "id": "1d26fcef-5b94-4ac5-945b-fd6674be3929",
   "metadata": {},
   "outputs": [],
   "source": [
    "y=['eight', 'nine']"
   ]
  },
  {
   "cell_type": "code",
   "execution_count": 21,
   "id": "c177e78d-15ff-4ac1-8a37-17b57d07acd0",
   "metadata": {},
   "outputs": [],
   "source": [
    "z=[x+y]"
   ]
  },
  {
   "cell_type": "code",
   "execution_count": 23,
   "id": "08f37b80-5186-4318-be4c-5b676586e1be",
   "metadata": {},
   "outputs": [
    {
     "name": "stdout",
     "output_type": "stream",
     "text": [
      "[['one', 'two', 'eight', 'nine']]\n"
     ]
    }
   ],
   "source": [
    "print (z)"
   ]
  },
  {
   "cell_type": "code",
   "execution_count": 25,
   "id": "6e18dcce-62e8-451a-81af-f59be7890bbe",
   "metadata": {},
   "outputs": [
    {
     "data": {
      "text/plain": [
       "['one', 'two', 'eight', 'nine']"
      ]
     },
     "execution_count": 25,
     "metadata": {},
     "output_type": "execute_result"
    }
   ],
   "source": [
    "z[0] "
   ]
  },
  {
   "cell_type": "code",
   "execution_count": 27,
   "id": "92b20acf-5a6f-4bad-b50b-3ab295650b21",
   "metadata": {},
   "outputs": [],
   "source": [
    "c=['twenty','thirty','forty']"
   ]
  },
  {
   "cell_type": "code",
   "execution_count": 28,
   "id": "b8036c31-1ae9-4114-8f08-fdbca3371683",
   "metadata": {},
   "outputs": [],
   "source": [
    "p=z+c"
   ]
  },
  {
   "cell_type": "code",
   "execution_count": 29,
   "id": "d9af4d86-46f2-4026-b20d-7f809672b77c",
   "metadata": {},
   "outputs": [
    {
     "name": "stdout",
     "output_type": "stream",
     "text": [
      "[['one', 'two', 'eight', 'nine'], 'twenty', 'thirty', 'forty']\n"
     ]
    }
   ],
   "source": [
    "print (p)"
   ]
  },
  {
   "cell_type": "code",
   "execution_count": 30,
   "id": "d8ace21b-e092-4905-ab62-a2b3fd613dc3",
   "metadata": {},
   "outputs": [
    {
     "data": {
      "text/plain": [
       "'twenty'"
      ]
     },
     "execution_count": 30,
     "metadata": {},
     "output_type": "execute_result"
    }
   ],
   "source": [
    "p[1]"
   ]
  },
  {
   "cell_type": "code",
   "execution_count": null,
   "id": "fa3b4478-da17-4306-af83-4fb2bf08f186",
   "metadata": {},
   "outputs": [],
   "source": []
  }
 ],
 "metadata": {
  "kernelspec": {
   "display_name": "Python 3 (ipykernel)",
   "language": "python",
   "name": "python3"
  },
  "language_info": {
   "codemirror_mode": {
    "name": "ipython",
    "version": 3
   },
   "file_extension": ".py",
   "mimetype": "text/x-python",
   "name": "python",
   "nbconvert_exporter": "python",
   "pygments_lexer": "ipython3",
   "version": "3.9.7"
  }
 },
 "nbformat": 4,
 "nbformat_minor": 5
}
