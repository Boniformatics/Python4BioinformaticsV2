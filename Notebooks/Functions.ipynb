{
 "cells": [
  {
   "cell_type": "code",
   "execution_count": 1,
   "id": "3505a054-107c-436e-9b21-05a9d356d518",
   "metadata": {},
   "outputs": [],
   "source": [
    "import keyword  # We acn import a function"
   ]
  },
  {
   "cell_type": "code",
   "execution_count": 2,
   "id": "cfffab6d-28af-4415-bdca-0a0f1b4fe00d",
   "metadata": {},
   "outputs": [
    {
     "name": "stdout",
     "output_type": "stream",
     "text": [
      "<module 'keyword' from '/home/bonface/miniconda3/envs/bioinf/lib/python3.9/keyword.py'>\n"
     ]
    }
   ],
   "source": [
    "print (keyword)"
   ]
  },
  {
   "cell_type": "code",
   "execution_count": 3,
   "id": "2ee5d96a-3267-4138-8e41-407950ac3a04",
   "metadata": {},
   "outputs": [
    {
     "name": "stdout",
     "output_type": "stream",
     "text": [
      "['False', 'None', 'True', '__peg_parser__', 'and', 'as', 'assert', 'async', 'await', 'break', 'class', 'continue', 'def', 'del', 'elif', 'else', 'except', 'finally', 'for', 'from', 'global', 'if', 'import', 'in', 'is', 'lambda', 'nonlocal', 'not', 'or', 'pass', 'raise', 'return', 'try', 'while', 'with', 'yield']\n"
     ]
    }
   ],
   "source": [
    "print (keyword.kwlist)"
   ]
  },
  {
   "cell_type": "code",
   "execution_count": 4,
   "id": "3a906c25-6bb4-49ed-a61d-f6f469c70a8a",
   "metadata": {},
   "outputs": [
    {
     "ename": "SyntaxError",
     "evalue": "invalid syntax (2313579941.py, line 1)",
     "output_type": "error",
     "traceback": [
      "\u001b[0;36m  File \u001b[0;32m\"/tmp/ipykernel_3942/2313579941.py\"\u001b[0;36m, line \u001b[0;32m1\u001b[0m\n\u001b[0;31m    def return():\u001b[0m\n\u001b[0m        ^\u001b[0m\n\u001b[0;31mSyntaxError\u001b[0m\u001b[0;31m:\u001b[0m invalid syntax\n"
     ]
    }
   ],
   "source": [
    "def return():\n",
    "    while\n"
   ]
  },
  {
   "cell_type": "code",
   "execution_count": 10,
   "id": "246e8c1f-86ff-4321-be36-14b2fa98125f",
   "metadata": {},
   "outputs": [],
   "source": [
    "def tempconverter(celcius):\n",
    "    K=273\n",
    "    tempconverter(celcius)+K\n",
    "    return \n",
    "    tempconverter\n",
    "    "
   ]
  },
  {
   "cell_type": "code",
   "execution_count": 11,
   "id": "5ac09bc5-4bc8-458a-a429-853b22b87b79",
   "metadata": {},
   "outputs": [
    {
     "ename": "RecursionError",
     "evalue": "maximum recursion depth exceeded",
     "output_type": "error",
     "traceback": [
      "\u001b[0;31m---------------------------------------------------------------------------\u001b[0m",
      "\u001b[0;31mRecursionError\u001b[0m                            Traceback (most recent call last)",
      "\u001b[0;32m/tmp/ipykernel_3942/1817258316.py\u001b[0m in \u001b[0;36m<module>\u001b[0;34m\u001b[0m\n\u001b[0;32m----> 1\u001b[0;31m \u001b[0mprint\u001b[0m \u001b[0;34m(\u001b[0m\u001b[0mtempconverter\u001b[0m\u001b[0;34m(\u001b[0m\u001b[0;36m45\u001b[0m\u001b[0;34m)\u001b[0m\u001b[0;34m)\u001b[0m\u001b[0;34m\u001b[0m\u001b[0;34m\u001b[0m\u001b[0m\n\u001b[0m",
      "\u001b[0;32m/tmp/ipykernel_3942/3512462340.py\u001b[0m in \u001b[0;36mtempconverter\u001b[0;34m(celcius)\u001b[0m\n\u001b[1;32m      1\u001b[0m \u001b[0;32mdef\u001b[0m \u001b[0mtempconverter\u001b[0m\u001b[0;34m(\u001b[0m\u001b[0mcelcius\u001b[0m\u001b[0;34m)\u001b[0m\u001b[0;34m:\u001b[0m\u001b[0;34m\u001b[0m\u001b[0;34m\u001b[0m\u001b[0m\n\u001b[1;32m      2\u001b[0m     \u001b[0mK\u001b[0m\u001b[0;34m=\u001b[0m\u001b[0;36m273\u001b[0m\u001b[0;34m\u001b[0m\u001b[0;34m\u001b[0m\u001b[0m\n\u001b[0;32m----> 3\u001b[0;31m     \u001b[0mtempconverter\u001b[0m\u001b[0;34m(\u001b[0m\u001b[0mcelcius\u001b[0m\u001b[0;34m)\u001b[0m\u001b[0;34m+\u001b[0m\u001b[0mK\u001b[0m\u001b[0;34m\u001b[0m\u001b[0;34m\u001b[0m\u001b[0m\n\u001b[0m\u001b[1;32m      4\u001b[0m     \u001b[0;32mreturn\u001b[0m\u001b[0;34m\u001b[0m\u001b[0;34m\u001b[0m\u001b[0m\n\u001b[1;32m      5\u001b[0m     \u001b[0mtempconverter\u001b[0m\u001b[0;34m\u001b[0m\u001b[0;34m\u001b[0m\u001b[0m\n",
      "... last 1 frames repeated, from the frame below ...\n",
      "\u001b[0;32m/tmp/ipykernel_3942/3512462340.py\u001b[0m in \u001b[0;36mtempconverter\u001b[0;34m(celcius)\u001b[0m\n\u001b[1;32m      1\u001b[0m \u001b[0;32mdef\u001b[0m \u001b[0mtempconverter\u001b[0m\u001b[0;34m(\u001b[0m\u001b[0mcelcius\u001b[0m\u001b[0;34m)\u001b[0m\u001b[0;34m:\u001b[0m\u001b[0;34m\u001b[0m\u001b[0;34m\u001b[0m\u001b[0m\n\u001b[1;32m      2\u001b[0m     \u001b[0mK\u001b[0m\u001b[0;34m=\u001b[0m\u001b[0;36m273\u001b[0m\u001b[0;34m\u001b[0m\u001b[0;34m\u001b[0m\u001b[0m\n\u001b[0;32m----> 3\u001b[0;31m     \u001b[0mtempconverter\u001b[0m\u001b[0;34m(\u001b[0m\u001b[0mcelcius\u001b[0m\u001b[0;34m)\u001b[0m\u001b[0;34m+\u001b[0m\u001b[0mK\u001b[0m\u001b[0;34m\u001b[0m\u001b[0;34m\u001b[0m\u001b[0m\n\u001b[0m\u001b[1;32m      4\u001b[0m     \u001b[0;32mreturn\u001b[0m\u001b[0;34m\u001b[0m\u001b[0;34m\u001b[0m\u001b[0m\n\u001b[1;32m      5\u001b[0m     \u001b[0mtempconverter\u001b[0m\u001b[0;34m\u001b[0m\u001b[0;34m\u001b[0m\u001b[0m\n",
      "\u001b[0;31mRecursionError\u001b[0m: maximum recursion depth exceeded"
     ]
    }
   ],
   "source": [
    "print (tempconverter(45))"
   ]
  },
  {
   "cell_type": "code",
   "execution_count": 13,
   "id": "006ccac3-eb3c-4095-a9fd-fdd417b88d1c",
   "metadata": {},
   "outputs": [],
   "source": [
    "def sum(a,b,c):\n",
    "    all=(a+b-c)\n",
    "    return all\n",
    "    \n",
    "    "
   ]
  },
  {
   "cell_type": "code",
   "execution_count": 16,
   "id": "705a3596-75f9-43d4-be93-3021d76d2b0c",
   "metadata": {},
   "outputs": [],
   "source": [
    "all=sum(60,20,30)"
   ]
  },
  {
   "cell_type": "code",
   "execution_count": 17,
   "id": "afefbd2a-c3af-4170-b992-27cae5a1a52d",
   "metadata": {},
   "outputs": [
    {
     "name": "stdout",
     "output_type": "stream",
     "text": [
      "50\n"
     ]
    }
   ],
   "source": [
    "print(all)"
   ]
  },
  {
   "cell_type": "code",
   "execution_count": 27,
   "id": "ac5452ce-d33b-41cf-9e7c-77ffb1c60d03",
   "metadata": {},
   "outputs": [],
   "source": [
    "def print(name):\n",
    "    \"\"\"My name is Bonface\"\"\"\n",
    "    return \"My name is Brian\", name"
   ]
  },
  {
   "cell_type": "code",
   "execution_count": 28,
   "id": "f791f0a3-ee32-4466-a2ae-081ae96bd4ca",
   "metadata": {},
   "outputs": [
    {
     "data": {
      "text/plain": [
       "('My name is Brian', 'My name is Bonface')"
      ]
     },
     "execution_count": 28,
     "metadata": {},
     "output_type": "execute_result"
    }
   ],
   "source": [
    "print(\"My name is Bonface\")"
   ]
  },
  {
   "cell_type": "code",
   "execution_count": 33,
   "id": "3ee3a148-d034-46da-9ad4-95428438901b",
   "metadata": {},
   "outputs": [],
   "source": [
    "#del print   #Deletes the inbuilt function"
   ]
  },
  {
   "cell_type": "code",
   "execution_count": 30,
   "id": "bddc0288-952f-444a-b153-12e241165422",
   "metadata": {},
   "outputs": [
    {
     "name": "stdout",
     "output_type": "stream",
     "text": [
      "My name is Bonface\n"
     ]
    }
   ],
   "source": [
    "print(\"My name is Bonface\")"
   ]
  },
  {
   "cell_type": "code",
   "execution_count": null,
   "id": "e70aeb1d-379d-4545-a362-6e46d1f8e4e7",
   "metadata": {},
   "outputs": [],
   "source": []
  },
  {
   "cell_type": "code",
   "execution_count": 34,
   "id": "5787f83d-e53e-4067-8545-a19ef82c74c1",
   "metadata": {},
   "outputs": [],
   "source": [
    "def firstfunc():\n",
    "    print(\"Hello Jack.\")\n",
    "    return \"Jack, how are you?\"\n"
   ]
  },
  {
   "cell_type": "code",
   "execution_count": 37,
   "id": "a275b2bf-a41d-40f2-a6b1-9e2d4901b119",
   "metadata": {},
   "outputs": [
    {
     "name": "stdout",
     "output_type": "stream",
     "text": [
      "Hello Jack.\n"
     ]
    }
   ],
   "source": [
    "print (\"Hello Jack.\")"
   ]
  },
  {
   "cell_type": "code",
   "execution_count": 38,
   "id": "b5720918-8a8f-44f1-bf49-d1c38d5f054d",
   "metadata": {},
   "outputs": [
    {
     "name": "stdout",
     "output_type": "stream",
     "text": [
      "Hello Jack.\n",
      "Jack, how are you?\n"
     ]
    }
   ],
   "source": [
    "print (firstfunc())"
   ]
  },
  {
   "cell_type": "code",
   "execution_count": 39,
   "id": "ccb696e3-ef97-4981-8086-57c171e1c0e6",
   "metadata": {},
   "outputs": [
    {
     "name": "stdout",
     "output_type": "stream",
     "text": [
      "Hello Jack.\n"
     ]
    }
   ],
   "source": [
    "greetings=firstfunc()"
   ]
  },
  {
   "cell_type": "code",
   "execution_count": 40,
   "id": "7c310ed6-9f13-4908-b896-6bbdc9575595",
   "metadata": {},
   "outputs": [
    {
     "name": "stdout",
     "output_type": "stream",
     "text": [
      "Jack, how are you?\n"
     ]
    }
   ],
   "source": [
    "print(greetings)"
   ]
  },
  {
   "cell_type": "code",
   "execution_count": 50,
   "id": "385d6af4-2771-4b04-b61c-e0fe6e9430e6",
   "metadata": {},
   "outputs": [],
   "source": [
    "def firstfunc(username):               #\n",
    "    print (\"Hello %s.\" %username)\n",
    "    print (username + ',' \"how are you\")\n",
    "    "
   ]
  },
  {
   "cell_type": "code",
   "execution_count": 48,
   "id": "efd3b0c3-01b5-46f4-ba80-30b47bff7e01",
   "metadata": {},
   "outputs": [],
   "source": [
    "name1= \"Bonface\""
   ]
  },
  {
   "cell_type": "code",
   "execution_count": 51,
   "id": "cbb86b92-7d32-43f5-8e20-37d0bc61c50b",
   "metadata": {},
   "outputs": [
    {
     "name": "stdout",
     "output_type": "stream",
     "text": [
      "Hello Bonface.\n",
      "Bonface,how are you\n"
     ]
    }
   ],
   "source": [
    "firstfunc(name1)"
   ]
  },
  {
   "cell_type": "code",
   "execution_count": 59,
   "id": "648a86ff-eb5c-4e37-90e9-46e7ee170d3e",
   "metadata": {},
   "outputs": [
    {
     "name": "stdout",
     "output_type": "stream",
     "text": [
      "32\n"
     ]
    }
   ],
   "source": [
    "def mult(a,b):\n",
    "    y=a**b\n",
    "    return y\n",
    "c= mult(2,5)\n",
    "print (c)"
   ]
  },
  {
   "cell_type": "code",
   "execution_count": 61,
   "id": "b73160df-bfd1-4482-9b12-fd3d9c1518e5",
   "metadata": {},
   "outputs": [],
   "source": [
    "c=mult(4,7)"
   ]
  },
  {
   "cell_type": "code",
   "execution_count": 63,
   "id": "e9d49867-d374-46cf-88da-1cee24514bad",
   "metadata": {},
   "outputs": [
    {
     "name": "stdout",
     "output_type": "stream",
     "text": [
      "Help on function firstfunc in module __main__:\n",
      "\n",
      "firstfunc(username)\n",
      "\n"
     ]
    }
   ],
   "source": [
    "help(firstfunc)   #function help"
   ]
  },
  {
   "cell_type": "code",
   "execution_count": null,
   "id": "423247b1-f689-45b3-9347-c29bc23402a8",
   "metadata": {},
   "outputs": [],
   "source": []
  },
  {
   "cell_type": "code",
   "execution_count": 64,
   "id": "fd9c0312-7e2d-44ec-8e84-d5b7a38be579",
   "metadata": {
    "tags": []
   },
   "outputs": [],
   "source": [
    "eglist = [10,50,30,12,6,8,100]"
   ]
  },
  {
   "cell_type": "code",
   "execution_count": 65,
   "id": "b74749f5-271c-44e8-9480-df187c29852d",
   "metadata": {
    "tags": []
   },
   "outputs": [],
   "source": [
    "def egfunc(eglist):\n",
    "    highest = max(eglist)              #Many variables can be returned as a couple\n",
    "    lowest = min(eglist)\n",
    "    first = eglist[0]\n",
    "    last = eglist[-1]\n",
    "    return highest,lowest,first,last"
   ]
  },
  {
   "cell_type": "code",
   "execution_count": 67,
   "id": "8a47ebcf-edf2-4ff4-89aa-b26ef0fb988f",
   "metadata": {},
   "outputs": [
    {
     "data": {
      "text/plain": [
       "(100, 6, 10, 100)"
      ]
     },
     "execution_count": 67,
     "metadata": {},
     "output_type": "execute_result"
    }
   ],
   "source": [
    "egfunc(eglist)"
   ]
  },
  {
   "cell_type": "code",
   "execution_count": null,
   "id": "811fe40b-016c-4c83-a404-a2a2270130fe",
   "metadata": {},
   "outputs": [],
   "source": []
  },
  {
   "cell_type": "code",
   "execution_count": null,
   "id": "c167ef27-94f8-44cb-9b41-3bc81fb6ae2f",
   "metadata": {},
   "outputs": [],
   "source": []
  },
  {
   "cell_type": "code",
   "execution_count": null,
   "id": "d7656f18-842e-4621-90e8-44fc231ccdde",
   "metadata": {},
   "outputs": [],
   "source": []
  },
  {
   "cell_type": "code",
   "execution_count": null,
   "id": "b1b08520-dc4d-44ea-a4cf-4600e00d8392",
   "metadata": {},
   "outputs": [],
   "source": []
  },
  {
   "cell_type": "code",
   "execution_count": null,
   "id": "f722c063-bb36-4801-a07c-dd52f8eeb369",
   "metadata": {},
   "outputs": [],
   "source": []
  },
  {
   "cell_type": "code",
   "execution_count": null,
   "id": "bae1c126-97f7-4d34-96ec-f14942880a5f",
   "metadata": {},
   "outputs": [],
   "source": []
  }
 ],
 "metadata": {
  "kernelspec": {
   "display_name": "Python 3 (ipykernel)",
   "language": "python",
   "name": "python3"
  },
  "language_info": {
   "codemirror_mode": {
    "name": "ipython",
    "version": 3
   },
   "file_extension": ".py",
   "mimetype": "text/x-python",
   "name": "python",
   "nbconvert_exporter": "python",
   "pygments_lexer": "ipython3",
   "version": "3.9.7"
  }
 },
 "nbformat": 4,
 "nbformat_minor": 5
}
