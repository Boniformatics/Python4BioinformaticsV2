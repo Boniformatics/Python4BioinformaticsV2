{
 "cells": [
  {
   "cell_type": "markdown",
   "metadata": {},
   "source": [
    "<small><small><i>\n",
    "Introduction to Python for Bioinformatics - available at https://github.com/kipkurui/Python4Bioinformatics.\n",
    "</i></small></small>\n",
    "\n",
    "## Files, Scripting and Modules\n",
    "\n",
    "So far, we have been writing all our Python Code in Jupyter notebooks. However, if you want to use the code we have written as part of a pipeline, you need to write scripts. Also, most of the time the data you need to analyse is in a file, which you need to read to Python and process. \n",
    "\n",
    "\n",
    "### Reading Files\n",
    "\n",
    "So far we have been working from memory. In Bioinformatics, you will need to read some file or even write some output to file. We use the `open` function. "
   ]
  },
  {
   "cell_type": "code",
   "execution_count": 9,
   "metadata": {},
   "outputs": [],
   "source": [
    "myfile = open(\"../Data/test.txt\", \"w\")\n",
    "myfile.write(\"My first file written from Python Today\\n\")\n",
    "myfile.write(\"---------------------------------\\n\")\n",
    "myfile.write(\"Hello, world!\")\n",
    "myfile.close()"
   ]
  },
  {
   "cell_type": "code",
   "execution_count": 8,
   "metadata": {},
   "outputs": [],
   "source": [
    "myfile.close()"
   ]
  },
  {
   "cell_type": "markdown",
   "metadata": {},
   "source": [
    "The **mode** in which you open the file determines whether to write (w), read (r) or append(a) to file. \n",
    "\n",
    "Opening a file creates what we call a **file handle** which contains methods for manipulating the file. In our case, `myfile` has the methods to write and close the file. Closing the file makes it accessible in the disk. \n",
    "\n",
    "Alternatively, one can open the file in a mode that automatically closes the file when done. "
   ]
  },
  {
   "cell_type": "code",
   "execution_count": 2,
   "metadata": {},
   "outputs": [],
   "source": [
    "with open(\"../Data/test.txt\", \"w\") as myfile:\n",
    "    myfile.write(\"My first file written from Python \\n\")\n",
    "    myfile.write(\"---------------------------------\\n\")\n",
    "    myfile.write(\"Hello, world!\\n\")"
   ]
  },
  {
   "cell_type": "markdown",
   "metadata": {},
   "source": [
    "Let's check what else we can do with `open`."
   ]
  },
  {
   "cell_type": "code",
   "execution_count": 39,
   "metadata": {},
   "outputs": [],
   "source": [
    "#?open"
   ]
  },
  {
   "cell_type": "markdown",
   "metadata": {},
   "source": [
    "#### Fetching file from the web\n",
    "Download this [file](https://www.uniprot.org/docs/humchrx.txt) we will use to explore file reading in python. "
   ]
  },
  {
   "cell_type": "code",
   "execution_count": 40,
   "metadata": {},
   "outputs": [
    {
     "data": {
      "text/plain": [
       "('../Data/humchrx.txt', <http.client.HTTPMessage at 0x7fdf08370810>)"
      ]
     },
     "execution_count": 40,
     "metadata": {},
     "output_type": "execute_result"
    }
   ],
   "source": [
    "import urllib.request\n",
    "\n",
    "url = \"https://www.uniprot.org/docs/humchrx.txt\"\n",
    "destination_filename = \"../Data/humchrx.txt\"\n",
    "urllib.request.urlretrieve(url, destination_filename)"
   ]
  },
  {
   "cell_type": "markdown",
   "metadata": {},
   "source": [
    "#### Reading a file line-at-a-time\n",
    "\n",
    "We can read the file line by line using `readline`. Thie reads the line one by one until the end of the file. This is suitable for a large file which may not fit memory. "
   ]
  },
  {
   "cell_type": "code",
   "execution_count": 41,
   "metadata": {},
   "outputs": [
    {
     "name": "stdout",
     "output_type": "stream",
     "text": [
      "----------------------------------------------------------------------------\n",
      "\n"
     ]
    }
   ],
   "source": [
    "humchrx = open('../Data/humchrx.txt', 'r')\n",
    "line = humchrx.readline()\n",
    "print(line)"
   ]
  },
  {
   "cell_type": "code",
   "execution_count": 42,
   "metadata": {},
   "outputs": [
    {
     "name": "stdout",
     "output_type": "stream",
     "text": [
      "        UniProt - Swiss-Prot Protein Knowledgebase\n",
      "\n"
     ]
    }
   ],
   "source": [
    "line = humchrx.readline()\n",
    "print(line)"
   ]
  },
  {
   "cell_type": "code",
   "execution_count": 43,
   "metadata": {},
   "outputs": [],
   "source": [
    "humchrx.close()"
   ]
  },
  {
   "cell_type": "code",
   "execution_count": 44,
   "metadata": {},
   "outputs": [
    {
     "name": "stdout",
     "output_type": "stream",
     "text": [
      "My first file written from Python Today\n",
      "\n",
      "---------------------------------\n",
      "\n",
      "Hello, world!\n"
     ]
    }
   ],
   "source": [
    "with open('../Data/test.txt', 'r') as myfile:\n",
    "    while True:\n",
    "        line = myfile.readline()\n",
    "        if len(line) == 0: # If there are no more lines\n",
    "            break\n",
    "        print(line)\n",
    "    "
   ]
  },
  {
   "cell_type": "markdown",
   "metadata": {},
   "source": [
    "### Read the whole file\n",
    "\n",
    "If the file is small or PC has enough memory, you can read the whole file into memory as a list using `readlines`."
   ]
  },
  {
   "cell_type": "code",
   "execution_count": 45,
   "metadata": {},
   "outputs": [
    {
     "name": "stdout",
     "output_type": "stream",
     "text": [
      "My first file written from Python Today\n",
      "\n",
      "---------------------------------\n",
      "\n",
      "Hello, world!\n"
     ]
    }
   ],
   "source": [
    "with open('../Data/test.txt', 'r') as myfile:\n",
    "    lines = myfile.readlines()\n",
    "    for line in lines:\n",
    "        print(line)"
   ]
  },
  {
   "cell_type": "markdown",
   "metadata": {},
   "source": [
    "or as a whole"
   ]
  },
  {
   "cell_type": "code",
   "execution_count": 108,
   "metadata": {},
   "outputs": [
    {
     "name": "stdout",
     "output_type": "stream",
     "text": [
      "My first file written from Python Today\n",
      "---------------------------------\n",
      "Hello, world!\n"
     ]
    }
   ],
   "source": [
    "with open('../Data/test.txt', 'r') as myfile:\n",
    "    whole_file = myfile.read()\n",
    "    print(whole_file)"
   ]
  },
  {
   "cell_type": "code",
   "execution_count": 112,
   "metadata": {},
   "outputs": [
    {
     "data": {
      "text/plain": [
       "['My first file written from Python Today',\n",
       " '---------------------------------',\n",
       " 'Hello, world!']"
      ]
     },
     "execution_count": 112,
     "metadata": {},
     "output_type": "execute_result"
    }
   ],
   "source": [
    "whole_file.split('\\n')"
   ]
  },
  {
   "cell_type": "markdown",
   "metadata": {},
   "source": [
    "### Exercise 1\n",
    "\n",
    "Write a function the reads the file (humchr.txt) and writes to another file (gene_names.txt) a clean list of gene names."
   ]
  },
  {
   "cell_type": "code",
   "execution_count": 46,
   "metadata": {},
   "outputs": [],
   "source": [
    "humchrx = open('../Data/humchrx.txt', 'r')\n",
    "line = humchrx.readline()"
   ]
  },
  {
   "cell_type": "code",
   "execution_count": 48,
   "metadata": {},
   "outputs": [],
   "source": [
    "humchrx.close()"
   ]
  },
  {
   "cell_type": "code",
   "execution_count": 3,
   "metadata": {},
   "outputs": [],
   "source": [
    "def write2file(gene_list, out_file):\n",
    "    \"\"\"\n",
    "    Takes a gene list and writes the output to file\n",
    "    \"\"\"\n",
    "    with open(out_file, 'w') as outfile:\n",
    "        outfile.write('\\n'.join(gene_list))\n",
    "\n",
    "def remove_empty(gene_list):\n",
    "    \"\"\"\n",
    "    Given a gene list, removes items \n",
    "    that start with dash (empty)\n",
    "    \"\"\"\n",
    "    tag = True\n",
    "    while tag:\n",
    "        try:\n",
    "            gene_list.remove('-')\n",
    "        except ValueError:\n",
    "            tag = False\n",
    "    return gene_list\n",
    "\n",
    "def clean_genes(input_file, out_file):\n",
    "    \"\"\"\n",
    "    Given a chromosome annotation file, extract the \n",
    "    genes and write them to another file\n",
    "    \"\"\"\n",
    "    gene_list = []\n",
    "    tag = False\n",
    "    with open(input_file, 'r') as humchrx:\n",
    "        for line in humchrx:\n",
    "            if line.startswith('Gene'):\n",
    "                tag=True\n",
    "            if line == '\\n':\n",
    "                tag = False\n",
    "            if tag:\n",
    "                gene_list.append(line.split()[0])\n",
    "    #clean the gene list\n",
    "    gene_list.pop(2)\n",
    "    gene_list[0] = gene_list[0]+\"_\"+gene_list[1]\n",
    "    gene_list.pop(1)\n",
    "    \n",
    "    gene_list = remove_empty(gene_list)\n",
    "    \n",
    "    ## Writing to file\n",
    "    write2file(gene_list, out_file)\n",
    "clean_genes('../Data/humchrx.txt', 'testing.txt')"
   ]
  },
  {
   "cell_type": "markdown",
   "metadata": {},
   "source": [
    "## Alternative print options"
   ]
  },
  {
   "cell_type": "code",
   "execution_count": 103,
   "metadata": {},
   "outputs": [],
   "source": [
    "print('\\n'.join(gene_list),file=open('test.txt','w'), end='')"
   ]
  },
  {
   "cell_type": "code",
   "execution_count": 105,
   "metadata": {},
   "outputs": [],
   "source": [
    "with open('test3.txt', 'w') as outfile:\n",
    "    for gene in gene_list:\n",
    "        outfile.write(gene+'\\n')"
   ]
  },
  {
   "cell_type": "markdown",
   "metadata": {},
   "source": [
    "### Scripts and Modules\n",
    "\n",
    "A script is a file containing Python definitions and statements for performing some analysis. Scripts are known as when they are intended for use in other Python programs. Many Python modules come with Python as part of the standard library. \n",
    "\n",
    "You can get a list of available modules using help() and explore them."
   ]
  },
  {
   "cell_type": "code",
   "execution_count": null,
   "metadata": {},
   "outputs": [],
   "source": []
  },
  {
   "cell_type": "markdown",
   "metadata": {},
   "source": [
    "seqtools.pyseqtools.py### Writing you own modules\n",
    "\n",
    "All we need to do to create our own modules is to save our script as a file with a `.py` extension. Suppose, for example, this script is saved as a file named `seqtools.py`.\n",
    "\n",
    "```python\n",
    "def remove_at(pos, seq):\n",
    "    return seq[:pos] + seq[pos+1:]```\n",
    "    \n",
    "We can import the module as:"
   ]
  },
  {
   "cell_type": "code",
   "execution_count": 1,
   "metadata": {},
   "outputs": [],
   "source": [
    "import math"
   ]
  },
  {
   "cell_type": "code",
   "execution_count": 3,
   "metadata": {},
   "outputs": [
    {
     "data": {
      "text/plain": [
       "\u001b[0;31mType:\u001b[0m        module\n",
       "\u001b[0;31mString form:\u001b[0m <module 'math' from '/Users/ckibet/miniconda3/envs/bioinf/lib/python3.7/lib-dynload/math.cpython-37m-darwin.so'>\n",
       "\u001b[0;31mFile:\u001b[0m        ~/miniconda3/envs/bioinf/lib/python3.7/lib-dynload/math.cpython-37m-darwin.so\n",
       "\u001b[0;31mDocstring:\u001b[0m  \n",
       "This module provides access to the mathematical functions\n",
       "defined by the C standard.\n"
      ]
     },
     "metadata": {},
     "output_type": "display_data"
    }
   ],
   "source": [
    "?math"
   ]
  },
  {
   "cell_type": "code",
   "execution_count": 1,
   "metadata": {},
   "outputs": [],
   "source": [
    "import seqtools"
   ]
  },
  {
   "cell_type": "code",
   "execution_count": 3,
   "metadata": {},
   "outputs": [
    {
     "data": {
      "text/plain": [
       "\u001b[0;31mSignature:\u001b[0m \u001b[0mseqtools\u001b[0m\u001b[0;34m.\u001b[0m\u001b[0mremove_at\u001b[0m\u001b[0;34m(\u001b[0m\u001b[0mpos\u001b[0m\u001b[0;34m,\u001b[0m \u001b[0mseq\u001b[0m\u001b[0;34m)\u001b[0m\u001b[0;34m\u001b[0m\u001b[0;34m\u001b[0m\u001b[0m\n",
       "\u001b[0;31mDocstring:\u001b[0m <no docstring>\n",
       "\u001b[0;31mFile:\u001b[0m      ~/MScBioinfo/Intro2Programming/Python/Python4Bioinformatics2020/Notebooks/seqtools.py\n",
       "\u001b[0;31mType:\u001b[0m      function\n"
      ]
     },
     "metadata": {},
     "output_type": "display_data"
    }
   ],
   "source": [
    "?seqtools.remove_at()"
   ]
  },
  {
   "cell_type": "code",
   "execution_count": 2,
   "metadata": {},
   "outputs": [
    {
     "data": {
      "text/plain": [
       "'A sting!'"
      ]
     },
     "execution_count": 2,
     "metadata": {},
     "output_type": "execute_result"
    }
   ],
   "source": [
    "s = \"A string!\"\n",
    "seqtools.remove_at(4,s)"
   ]
  },
  {
   "cell_type": "code",
   "execution_count": 13,
   "metadata": {},
   "outputs": [
    {
     "data": {
      "text/plain": [
       "'23000'"
      ]
     },
     "execution_count": 13,
     "metadata": {},
     "output_type": "execute_result"
    }
   ],
   "source": [
    "'23,000,'.replace(',','')"
   ]
  },
  {
   "cell_type": "code",
   "execution_count": 4,
   "metadata": {},
   "outputs": [],
   "source": [
    "import seqtools"
   ]
  },
  {
   "cell_type": "code",
   "execution_count": 5,
   "metadata": {},
   "outputs": [],
   "source": [
    "from seqtools import remove_at"
   ]
  },
  {
   "cell_type": "code",
   "execution_count": null,
   "metadata": {},
   "outputs": [],
   "source": [
    "remove_at()"
   ]
  },
  {
   "cell_type": "markdown",
   "metadata": {},
   "source": [
    "Modules are useful when you want to analyse large data using the HPC or even create your library of handy functions. \n",
    "\n",
    "#### Running scripts\n",
    "\n",
    "When you have put your commands into a .py file, you can execute on the command line by invoking the Python interpreter using `python script.py.`"
   ]
  },
  {
   "cell_type": "markdown",
   "metadata": {},
   "source": [
    "### Exercise 2\n",
    "\n",
    "1. Convert the function you wrote in exercise 1 into a python module. Then, import the module and use the function to read `humchrx.txt` file and create a gene list file.\n",
    "2. Create a stand-alone script that does all the above.\n",
    "\n",
    "\n",
    "### Script that takes command line arguments\n",
    "So far, we can create a script that does one thing. In this case, you have to edit the script if you have a new gene file to analyse or you want to use a different name for the output file.\n",
    "\n",
    "#### sys.argv\n",
    "sys.argv is a list in Python, which contains the command line arguments passed to the script. Lets add this to a script `sysargv.py` and run on the command line. \n",
    "\n",
    "```python\n",
    "import sys\n",
    "print(\"This is the name of the script: \", sys.argv[0])\n",
    "print(\"Number of arguments: \", len(sys.argv))\n",
    "print(\"The arguments are: \" , str(sys.argv))```"
   ]
  },
  {
   "cell_type": "code",
   "execution_count": 1,
   "metadata": {},
   "outputs": [],
   "source": [
    "import get_gene_list"
   ]
  },
  {
   "cell_type": "code",
   "execution_count": 2,
   "metadata": {},
   "outputs": [],
   "source": [
    "get_gene_list.clean_genes('../Data/humchrx.txt', '../Data/clean_genes.txt')"
   ]
  },
  {
   "cell_type": "code",
   "execution_count": 9,
   "metadata": {},
   "outputs": [
    {
     "name": "stdout",
     "output_type": "stream",
     "text": [
      "This is the name of the script:  sysargv.py\n",
      "Number of arguments:  2\n",
      "The arguments are:  ['sysargv.py', 'test']\n"
     ]
    }
   ],
   "source": [
    "!python sysargv.py test"
   ]
  },
  {
   "cell_type": "markdown",
   "metadata": {},
   "source": [
    "### Exercise 3\n",
    "\n",
    "- Using the same concept, convert your script in exercise 1 to take command line arguments (input and output files)\n",
    "- Using a DNA sequence read from file, answer the following questions:\n",
    "    1. Show that the DNA string contains only four letters.\n",
    "    2. In the DNA string there are regions that have a repeating letter. What is the letter and length of the longest repeating region?\n",
    "    3. How many ’ATG’s are in the DNA string?"
   ]
  },
  {
   "cell_type": "markdown",
   "metadata": {},
   "source": [
    "### File handling, OS module, Shutil and Path modules\n",
    "\n",
    "Python can also interface directly with the Linux operating system using the **os**, **Shutil** and **path** modules.\n",
    "\n",
    "First, let's import the OS module"
   ]
  },
  {
   "cell_type": "code",
   "execution_count": 10,
   "metadata": {},
   "outputs": [],
   "source": [
    "import os"
   ]
  },
  {
   "cell_type": "code",
   "execution_count": 14,
   "metadata": {},
   "outputs": [
    {
     "data": {
      "text/plain": [
       "4"
      ]
     },
     "execution_count": 14,
     "metadata": {},
     "output_type": "execute_result"
    }
   ],
   "source": [
    "os.cpu_count()"
   ]
  },
  {
   "cell_type": "code",
   "execution_count": 11,
   "metadata": {},
   "outputs": [
    {
     "data": {
      "text/plain": [
       "'/Users/ckibet/MScBioinfo/Intro2Programming/Python/Python4Bioinformatics2020/Notebooks'"
      ]
     },
     "execution_count": 11,
     "metadata": {},
     "output_type": "execute_result"
    }
   ],
   "source": [
    "os.getcwd()"
   ]
  },
  {
   "cell_type": "code",
   "execution_count": 13,
   "metadata": {},
   "outputs": [
    {
     "name": "stdout",
     "output_type": "stream",
     "text": [
      "/Users/ckibet/MScBioinfo/Intro2Programming/Python/Python4Bioinformatics2020/Notebooks\n"
     ]
    }
   ],
   "source": [
    "!pwd"
   ]
  },
  {
   "cell_type": "code",
   "execution_count": 17,
   "metadata": {},
   "outputs": [],
   "source": [
    "os.chdir('..')"
   ]
  },
  {
   "cell_type": "code",
   "execution_count": 18,
   "metadata": {},
   "outputs": [
    {
     "data": {
      "text/plain": [
       "'/home/user/Python4Bioinformatics'"
      ]
     },
     "execution_count": 18,
     "metadata": {},
     "output_type": "execute_result"
    }
   ],
   "source": [
    "os.getcwd()"
   ]
  },
  {
   "cell_type": "code",
   "execution_count": 19,
   "metadata": {},
   "outputs": [],
   "source": [
    "os.chdir('INotebooks/')"
   ]
  },
  {
   "cell_type": "code",
   "execution_count": 15,
   "metadata": {},
   "outputs": [
    {
     "data": {
      "text/plain": [
       "\u001b[0;31mType:\u001b[0m        module\n",
       "\u001b[0;31mString form:\u001b[0m <module 'os' from '/Users/ckibet/miniconda3/envs/bioinf/lib/python3.7/os.py'>\n",
       "\u001b[0;31mFile:\u001b[0m        ~/miniconda3/envs/bioinf/lib/python3.7/os.py\n",
       "\u001b[0;31mDocstring:\u001b[0m  \n",
       "OS routines for NT or Posix depending on what system we're on.\n",
       "\n",
       "This exports:\n",
       "  - all functions from posix or nt, e.g. unlink, stat, etc.\n",
       "  - os.path is either posixpath or ntpath\n",
       "  - os.name is either 'posix' or 'nt'\n",
       "  - os.curdir is a string representing the current directory (always '.')\n",
       "  - os.pardir is a string representing the parent directory (always '..')\n",
       "  - os.sep is the (or a most common) pathname separator ('/' or '\\\\')\n",
       "  - os.extsep is the extension separator (always '.')\n",
       "  - os.altsep is the alternate pathname separator (None or '/')\n",
       "  - os.pathsep is the component separator used in $PATH etc\n",
       "  - os.linesep is the line separator in text files ('\\r' or '\\n' or '\\r\\n')\n",
       "  - os.defpath is the default search path for executables\n",
       "  - os.devnull is the file path of the null device ('/dev/null', etc.)\n",
       "\n",
       "Programs that import and use 'os' stand a better chance of being\n",
       "portable between different platforms.  Of course, they must then\n",
       "only use functions that are defined by all platforms (e.g., unlink\n",
       "and opendir), and leave all pathname manipulation to os.path\n",
       "(e.g., split and join).\n"
      ]
     },
     "metadata": {},
     "output_type": "display_data"
    }
   ],
   "source": [
    "?os"
   ]
  },
  {
   "cell_type": "code",
   "execution_count": 16,
   "metadata": {},
   "outputs": [
    {
     "data": {
      "text/plain": [
       "['10.ipynb',\n",
       " '09.ipynb',\n",
       " '08.ipynb',\n",
       " '__init__.py',\n",
       " '__pycache__',\n",
       " 'seqtools.py',\n",
       " '00.ipynb',\n",
       " '02.ipynb',\n",
       " '06.ipynb',\n",
       " '04.ipynb',\n",
       " '.ipynb_checkpoints',\n",
       " '03.ipynb',\n",
       " '01.ipynb',\n",
       " '05.ipynb',\n",
       " 'output.txt',\n",
       " 'sysargv.py',\n",
       " '07.ipynb']"
      ]
     },
     "execution_count": 16,
     "metadata": {},
     "output_type": "execute_result"
    }
   ],
   "source": [
    "os.listdir()"
   ]
  },
  {
   "cell_type": "code",
   "execution_count": 17,
   "metadata": {},
   "outputs": [
    {
     "data": {
      "text/plain": [
       "False"
      ]
     },
     "execution_count": 17,
     "metadata": {},
     "output_type": "execute_result"
    }
   ],
   "source": [
    "os.path.isdir('../Scripts/bank.py')"
   ]
  },
  {
   "cell_type": "code",
   "execution_count": 18,
   "metadata": {},
   "outputs": [
    {
     "data": {
      "text/plain": [
       "False"
      ]
     },
     "execution_count": 18,
     "metadata": {},
     "output_type": "execute_result"
    }
   ],
   "source": [
    "os.path.isfile('../Scripts/bank.py')"
   ]
  },
  {
   "cell_type": "code",
   "execution_count": 19,
   "metadata": {},
   "outputs": [
    {
     "data": {
      "text/plain": [
       "True"
      ]
     },
     "execution_count": 19,
     "metadata": {},
     "output_type": "execute_result"
    }
   ],
   "source": [
    "os.path.isfile('seqtools.py')"
   ]
  },
  {
   "cell_type": "markdown",
   "metadata": {},
   "source": [
    "### path manipulation\n",
    "The path module inside the os module contains methods related with path manipulation.For example you can use `path.join()` to join paths. \n",
    "- `path.exists(path):` Checks if a given path exists.\n",
    "- `path.split(path):` Returns a tuple splitting the file or directory name at the end and the rest of the path\n",
    "- `path.splitext(path):` Splits out the extension of a file. It returns a tuple with the dotted extension and the original parameter up to the dot.\n",
    "- `path.join(directory1,directory2,...)`: Join two or more path name components, inserting the operating system path separator as needed"
   ]
  },
  {
   "cell_type": "code",
   "execution_count": 20,
   "metadata": {},
   "outputs": [
    {
     "data": {
      "text/plain": [
       "\u001b[0;31mSignature:\u001b[0m \u001b[0mos\u001b[0m\u001b[0;34m.\u001b[0m\u001b[0mpath\u001b[0m\u001b[0;34m.\u001b[0m\u001b[0mjoin\u001b[0m\u001b[0;34m(\u001b[0m\u001b[0ma\u001b[0m\u001b[0;34m,\u001b[0m \u001b[0;34m*\u001b[0m\u001b[0mp\u001b[0m\u001b[0;34m)\u001b[0m\u001b[0;34m\u001b[0m\u001b[0;34m\u001b[0m\u001b[0m\n",
       "\u001b[0;31mDocstring:\u001b[0m\n",
       "Join two or more pathname components, inserting '/' as needed.\n",
       "If any component is an absolute path, all previous path components\n",
       "will be discarded.  An empty last part will result in a path that\n",
       "ends with a separator.\n",
       "\u001b[0;31mFile:\u001b[0m      ~/miniconda3/envs/bioinf/lib/python3.7/posixpath.py\n",
       "\u001b[0;31mType:\u001b[0m      function\n"
      ]
     },
     "metadata": {},
     "output_type": "display_data"
    }
   ],
   "source": [
    "?os.path.join()"
   ]
  },
  {
   "cell_type": "code",
   "execution_count": 24,
   "metadata": {},
   "outputs": [
    {
     "data": {
      "text/plain": [
       "\u001b[0;31mSignature:\u001b[0m \u001b[0mos\u001b[0m\u001b[0;34m.\u001b[0m\u001b[0mpath\u001b[0m\u001b[0;34m.\u001b[0m\u001b[0mjoin\u001b[0m\u001b[0;34m(\u001b[0m\u001b[0ma\u001b[0m\u001b[0;34m,\u001b[0m \u001b[0;34m*\u001b[0m\u001b[0mp\u001b[0m\u001b[0;34m)\u001b[0m\u001b[0;34m\u001b[0m\u001b[0;34m\u001b[0m\u001b[0m\n",
       "\u001b[0;31mDocstring:\u001b[0m\n",
       "Join two or more pathname components, inserting '/' as needed.\n",
       "If any component is an absolute path, all previous path components\n",
       "will be discarded.  An empty last part will result in a path that\n",
       "ends with a separator.\n",
       "\u001b[0;31mFile:\u001b[0m      ~/miniconda3/envs/bioinf/lib/python3.7/posixpath.py\n",
       "\u001b[0;31mType:\u001b[0m      function\n"
      ]
     },
     "metadata": {},
     "output_type": "display_data"
    }
   ],
   "source": [
    "?os.path.join()"
   ]
  },
  {
   "cell_type": "markdown",
   "metadata": {},
   "source": [
    "Explore more at your own time.\n",
    "\n",
    "### Shutil\n",
    "Utility functions for copying and archiving files and directory trees."
   ]
  },
  {
   "cell_type": "code",
   "execution_count": 25,
   "metadata": {},
   "outputs": [],
   "source": [
    "import shutil"
   ]
  },
  {
   "cell_type": "code",
   "execution_count": 38,
   "metadata": {},
   "outputs": [
    {
     "name": "stdout",
     "output_type": "stream",
     "text": [
      "\n",
      "Please wait a moment while I gather a list of all available modules...\n",
      "\n"
     ]
    },
    {
     "name": "stderr",
     "output_type": "stream",
     "text": [
      "/Users/ckibet/miniconda3/envs/bioinf/lib/python3.7/site-packages/IPython/kernel/__init__.py:13: ShimWarning: The `IPython.kernel` package has been deprecated since IPython 4.0.You should import from ipykernel or jupyter_client instead.\n",
      "  \"You should import from ipykernel or jupyter_client instead.\", ShimWarning)\n"
     ]
    },
    {
     "name": "stdout",
     "output_type": "stream",
     "text": [
      "IPython             abc                 importlib           rmagic\n",
      "OpenSSL             aifc                importlib_metadata  runpy\n",
      "PyQt5               antigravity         inspect             sched\n",
      "Scripts             appnope             io                  secrets\n",
      "__future__          argon2              ipaddress           select\n",
      "_abc                argparse            ipykernel           selectors\n",
      "_ast                array               ipykernel_launcher  send2trash\n",
      "_asyncio            ast                 ipython_genutils    setuptools\n",
      "_bisect             async_generator     ipywidgets          shelve\n",
      "_blake2             asynchat            itertools           shlex\n",
      "_bootlocale         asyncio             jinja2              shutil\n",
      "_bz2                asyncore            json                signal\n",
      "_cffi_backend       atexit              json5               simplegeneric\n",
      "_codecs             attr                jsonschema          sipconfig\n",
      "_codecs_cn          audioop             jupyter             sipdistutils\n",
      "_codecs_hk          autoreload          jupyter_client      site\n",
      "_codecs_iso2022     backports           jupyter_console     six\n",
      "_codecs_jp          base64              jupyter_core        smtpd\n",
      "_codecs_kr          bdb                 jupyterlab          smtplib\n",
      "_codecs_tw          binascii            jupyterlab_pygments sndhdr\n",
      "_collections        binhex              jupyterlab_server   socket\n",
      "_collections_abc    bisect              keyword             socketserver\n",
      "_compat_pickle      bleach              lib2to3             socks\n",
      "_compression        brotli              linecache           sockshandler\n",
      "_contextvars        builtins            locale              sqlite3\n",
      "_crypt              bz2                 logging             sre_compile\n",
      "_csv                cProfile            lzma                sre_constants\n",
      "_ctypes             calendar            macpath             sre_parse\n",
      "_ctypes_test        certifi             mailbox             ssl\n",
      "_curses             cffi                mailcap             stat\n",
      "_curses_panel       cgi                 markupsafe          statistics\n",
      "_datetime           cgitb               marshal             storemagic\n",
      "_dbm                chardet             math                string\n",
      "_decimal            chunk               mimetypes           stringprep\n",
      "_distutils_hack     cmath               mistune             struct\n",
      "_dummy_thread       cmd                 mmap                subprocess\n",
      "_elementtree        code                modulefinder        sunau\n",
      "_functools          codecs              multiprocessing     symbol\n",
      "_hashlib            codeop              nbclient            sympyprinting\n",
      "_heapq              collections         nbconvert           symtable\n",
      "_imp                colorsys            nbformat            sys\n",
      "_io                 compileall          nest_asyncio        sysconfig\n",
      "_json               concurrent          netrc               syslog\n",
      "_locale             configparser        nis                 tabnanny\n",
      "_lsprof             contextlib          nntplib             tarfile\n",
      "_lzma               contextvars         notebook            telnetlib\n",
      "_markupbase         copy                ntpath              tempfile\n",
      "_md5                copyreg             nturl2path          terminado\n",
      "_multibytecodec     crypt               numbers             termios\n",
      "_multiprocessing    cryptography        opcode              test\n",
      "_opcode             csv                 operator            testpath\n",
      "_operator           ctypes              optparse            tests\n",
      "_osx_support        curses              os                  textwrap\n",
      "_pickle             cythonmagic         packaging           this\n",
      "_posixsubprocess    dataclasses         pandocfilters       threading\n",
      "_py_abc             datetime            parser              time\n",
      "_pydecimal          dateutil            pathlib             timeit\n",
      "_pyio               dbm                 pdb                 tkinter\n",
      "_pyrsistent_version decimal             pexpect             token\n",
      "_queue              decorator           pickle              tokenize\n",
      "_random             defusedxml          pickleshare         tornado\n",
      "_scproxy            difflib             pickletools         trace\n",
      "_sha1               dis                 pip                 traceback\n",
      "_sha256             distutils           pipes               tracemalloc\n",
      "_sha3               doctest             pkg_resources       traitlets\n",
      "_sha512             dummy_threading     pkgutil             tty\n",
      "_signal             easy_install        platform            turtle\n",
      "_sitebuiltins       email               plistlib            turtledemo\n",
      "_socket             encodings           poplib              types\n",
      "_sqlite3            ensurepip           posix               typing\n",
      "_sre                entrypoints         posixpath           unicodedata\n",
      "_ssl                enum                pprint              unittest\n",
      "_stat               errno               profile             urllib\n",
      "_string             faulthandler        prometheus_client   urllib3\n",
      "_strptime           fcntl               prompt_toolkit      uu\n",
      "_struct             filecmp             pstats              uuid\n",
      "_symtable           fileinput           pty                 venv\n",
      "_sysconfigdata_aarch64_conda_cos7_linux_gnu fnmatch             ptyprocess          warnings\n",
      "_sysconfigdata_aarch64_conda_linux_gnu formatter           pvectorc            wave\n",
      "_sysconfigdata_i686_conda_cos6_linux_gnu fractions           pwd                 wcwidth\n",
      "_sysconfigdata_i686_conda_linux_gnu ftplib              py_compile          weakref\n",
      "_sysconfigdata_m_darwin_darwin functools           pyclbr              webbrowser\n",
      "_sysconfigdata_powerpc64le_conda_cos7_linux_gnu gc                  pycparser           webencodings\n",
      "_sysconfigdata_powerpc64le_conda_linux_gnu genericpath         pydoc               wheel\n",
      "_sysconfigdata_x86_64_apple_darwin13_4_0 getopt              pydoc_data          widgetsnbextension\n",
      "_sysconfigdata_x86_64_conda_cos6_linux_gnu getpass             pyexpat             wsgiref\n",
      "_sysconfigdata_x86_64_conda_linux_gnu gettext             pygments            xdrlib\n",
      "_testbuffer         glob                pyparsing           xml\n",
      "_testcapi           grp                 pyrsistent          xmlrpc\n",
      "_testimportmultiple gzip                qtconsole           xxlimited\n",
      "_testmultiphase     hashlib             qtpy                xxsubtype\n",
      "_thread             heapq               queue               zipapp\n",
      "_threading_local    hmac                quopri              zipfile\n",
      "_tkinter            html                random              zipimport\n",
      "_tracemalloc        http                re                  zipp\n",
      "_uuid               idlelib             readline            zlib\n",
      "_warnings           idna                reprlib             zmq\n",
      "_weakref            imaplib             requests            \n",
      "_weakrefset         imghdr              resource            \n",
      "_xxtestfuzz         imp                 rlcompleter         \n",
      "\n",
      "Enter any module name to get more help.  Or, type \"modules spam\" to search\n",
      "for modules whose name or summary contain the string \"spam\".\n",
      "\n"
     ]
    },
    {
     "name": "stderr",
     "output_type": "stream",
     "text": [
      "/Users/ckibet/miniconda3/envs/bioinf/lib/python3.7/pkgutil.py:107: VisibleDeprecationWarning: zmq.eventloop.minitornado is deprecated in pyzmq 14.0 and will be removed.\n",
      "    Install tornado itself to use zmq with the tornado IOLoop.\n",
      "    \n",
      "  yield from walk_packages(path, info.name+'.', onerror)\n"
     ]
    }
   ],
   "source": [
    "help('modules')"
   ]
  },
  {
   "cell_type": "code",
   "execution_count": 27,
   "metadata": {},
   "outputs": [],
   "source": [
    "os.mkdir('Scripts')"
   ]
  },
  {
   "cell_type": "code",
   "execution_count": 29,
   "metadata": {},
   "outputs": [
    {
     "data": {
      "text/plain": [
       "'Scripts/seqtools.py'"
      ]
     },
     "execution_count": 29,
     "metadata": {},
     "output_type": "execute_result"
    }
   ],
   "source": [
    "shutil.copy('seqtools.py', 'Scripts/')"
   ]
  },
  {
   "cell_type": "code",
   "execution_count": 32,
   "metadata": {},
   "outputs": [],
   "source": [
    "os.remove('seqtools.py')"
   ]
  },
  {
   "cell_type": "code",
   "execution_count": 35,
   "metadata": {},
   "outputs": [
    {
     "data": {
      "text/plain": [
       "'Scripts/__init__.py'"
      ]
     },
     "execution_count": 35,
     "metadata": {},
     "output_type": "execute_result"
    }
   ],
   "source": [
    "shutil.move('__init__.py', 'Scripts/')"
   ]
  },
  {
   "cell_type": "code",
   "execution_count": null,
   "metadata": {},
   "outputs": [],
   "source": []
  }
 ],
 "metadata": {
  "kernelspec": {
   "display_name": "Python 3",
   "language": "python",
   "name": "python3"
  },
  "language_info": {
   "codemirror_mode": {
    "name": "ipython",
    "version": 3
   },
   "file_extension": ".py",
   "mimetype": "text/x-python",
   "name": "python",
   "nbconvert_exporter": "python",
   "pygments_lexer": "ipython3",
   "version": "3.7.8"
  }
 },
 "nbformat": 4,
 "nbformat_minor": 4
}
