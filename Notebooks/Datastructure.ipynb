{
 "cells": [
  {
   "cell_type": "code",
   "execution_count": 2,
   "id": "f03a04d0-6734-4335-adaf-95f46c54a0ca",
   "metadata": {},
   "outputs": [],
   "source": [
    "x=[1,2,3,4,5,6,7,8,9,0]     # this is a list"
   ]
  },
  {
   "cell_type": "code",
   "execution_count": 3,
   "id": "81c7c6f8-13ef-4b08-89cb-f4b390a444a5",
   "metadata": {},
   "outputs": [
    {
     "data": {
      "text/plain": [
       "list"
      ]
     },
     "execution_count": 3,
     "metadata": {},
     "output_type": "execute_result"
    }
   ],
   "source": [
    "type(x)"
   ]
  },
  {
   "cell_type": "code",
   "execution_count": 4,
   "id": "639ddad2-0490-4ec0-92a7-106d0fa0ec43",
   "metadata": {},
   "outputs": [],
   "source": [
    "c=()"
   ]
  },
  {
   "cell_type": "code",
   "execution_count": 5,
   "id": "2a916517-b078-4caf-a881-6b0b799fc430",
   "metadata": {},
   "outputs": [
    {
     "name": "stdout",
     "output_type": "stream",
     "text": [
      "()\n"
     ]
    }
   ],
   "source": [
    "print (c)"
   ]
  },
  {
   "cell_type": "code",
   "execution_count": 64,
   "id": "bed1042c-157a-4a2d-b474-05eb023c0636",
   "metadata": {},
   "outputs": [],
   "source": [
    "y=[1,'a','b','c']"
   ]
  },
  {
   "cell_type": "code",
   "execution_count": 9,
   "id": "f26f7f70-fbf9-4faa-af5a-cea8ed830291",
   "metadata": {},
   "outputs": [],
   "source": [
    "z=[x]+[y]     #nested list"
   ]
  },
  {
   "cell_type": "code",
   "execution_count": 79,
   "id": "c8f8919e-7304-4fc6-afcc-49288b5c0b51",
   "metadata": {},
   "outputs": [],
   "source": [
    "z=[x,y]"
   ]
  },
  {
   "cell_type": "code",
   "execution_count": 80,
   "id": "3bd2dda0-4f52-4a69-ba47-48767d9c03fa",
   "metadata": {},
   "outputs": [
    {
     "name": "stdout",
     "output_type": "stream",
     "text": [
      "[[1, 2, 3, 4, 5, 6, 7, 8, 9, 0], [1, 'a', 'b', 'c']]\n"
     ]
    }
   ],
   "source": [
    "print(z)"
   ]
  },
  {
   "cell_type": "code",
   "execution_count": 13,
   "id": "2139092a-f97c-47e3-9d59-b2ae5fdb6177",
   "metadata": {},
   "outputs": [],
   "source": [
    "# index out of range print(z[3]) "
   ]
  },
  {
   "cell_type": "code",
   "execution_count": 15,
   "id": "6f7360bd-14dd-49c3-885e-1d7a24f994ea",
   "metadata": {},
   "outputs": [
    {
     "name": "stdout",
     "output_type": "stream",
     "text": [
      "[1, 'a', 'b', 'c']\n"
     ]
    }
   ],
   "source": [
    "print(z[1])"
   ]
  },
  {
   "cell_type": "code",
   "execution_count": 16,
   "id": "e656bac5-8b9f-4005-90bd-595d8123aaa4",
   "metadata": {},
   "outputs": [
    {
     "name": "stdout",
     "output_type": "stream",
     "text": [
      "a\n"
     ]
    }
   ],
   "source": [
    "print(z[1][1])"
   ]
  },
  {
   "cell_type": "code",
   "execution_count": 18,
   "id": "3bb48b4d-b430-4d62-8a39-6935a5ba1ee3",
   "metadata": {},
   "outputs": [
    {
     "name": "stdout",
     "output_type": "stream",
     "text": [
      "[[1, 2, 3, 4, 5, 6, 7, 8, 9, 0], [1, 'a', 'b', 'c']]\n"
     ]
    }
   ],
   "source": [
    "print (z[:])"
   ]
  },
  {
   "cell_type": "code",
   "execution_count": 19,
   "id": "9a3bdc19-de7c-4306-b17f-5bd2da7c6266",
   "metadata": {},
   "outputs": [
    {
     "name": "stdout",
     "output_type": "stream",
     "text": [
      "[1, 'a', 'b']\n"
     ]
    }
   ],
   "source": [
    "print(y[0:-1])"
   ]
  },
  {
   "cell_type": "code",
   "execution_count": 20,
   "id": "f73a0de7-9be4-44d9-8061-d2968ce54a3b",
   "metadata": {},
   "outputs": [
    {
     "name": "stdout",
     "output_type": "stream",
     "text": [
      "4\n"
     ]
    }
   ],
   "source": [
    "print(len(y))"
   ]
  },
  {
   "cell_type": "code",
   "execution_count": 22,
   "id": "11b557bc-e07f-4131-b872-266dc63dd14e",
   "metadata": {},
   "outputs": [
    {
     "name": "stdout",
     "output_type": "stream",
     "text": [
      "[10, 11, 12, 13, 'x', 'y', 'z']\n"
     ]
    }
   ],
   "source": [
    "print([10,11,12,13]+['x','y','z'])"
   ]
  },
  {
   "cell_type": "code",
   "execution_count": 67,
   "id": "c07688dd-1328-4cba-a182-969137cce55d",
   "metadata": {},
   "outputs": [],
   "source": [
    "names=['a','b','c']"
   ]
  },
  {
   "cell_type": "code",
   "execution_count": 76,
   "id": "621597aa-04bd-4dc4-928f-7698fd4fef00",
   "metadata": {},
   "outputs": [],
   "source": [
    "def check_list(names, find):\n",
    "    for item in names:\n",
    "        if names == find:\n",
    "            return True\n",
    "            break\n",
    "    else:\n",
    "            return False\n",
    "            "
   ]
  },
  {
   "cell_type": "code",
   "execution_count": 78,
   "id": "2aaf5bef-05f6-47c0-ab8f-7db726ba446d",
   "metadata": {},
   "outputs": [
    {
     "name": "stdout",
     "output_type": "stream",
     "text": [
      "False\n"
     ]
    }
   ],
   "source": [
    "print (check_list(y,'c'))"
   ]
  },
  {
   "cell_type": "code",
   "execution_count": 72,
   "id": "a521ecda-8624-4718-9e8a-740955cd03c7",
   "metadata": {},
   "outputs": [
    {
     "name": "stdout",
     "output_type": "stream",
     "text": [
      "False\n"
     ]
    }
   ],
   "source": [
    "print (check_list(y,'I'))"
   ]
  },
  {
   "cell_type": "code",
   "execution_count": 75,
   "id": "8542ddcd-2770-4809-8420-326aa1c258f1",
   "metadata": {},
   "outputs": [],
   "source": [
    "def check_list(names, find): \n",
    "    for item in names:\n",
    "        if item == find:\n",
    "            return True\n",
    "            break\n",
    "    else:\n",
    "        return False\n",
    "    #return tag"
   ]
  },
  {
   "cell_type": "code",
   "execution_count": 73,
   "id": "ea865528-9cd3-409a-bca1-277db70a9a9d",
   "metadata": {},
   "outputs": [
    {
     "name": "stdout",
     "output_type": "stream",
     "text": [
      "[1, 'a', 'b', 'c']\n"
     ]
    }
   ],
   "source": [
    "print(y)"
   ]
  },
  {
   "cell_type": "code",
   "execution_count": 74,
   "id": "7da10fcc-78cf-45e0-85a1-bed3dbc809e5",
   "metadata": {},
   "outputs": [
    {
     "name": "stdout",
     "output_type": "stream",
     "text": [
      "False\n"
     ]
    }
   ],
   "source": [
    "print (check_list(y,1))"
   ]
  },
  {
   "cell_type": "code",
   "execution_count": 75,
   "id": "8e10ef54-f4d1-4964-ba0d-0ce200399fd8",
   "metadata": {},
   "outputs": [],
   "source": [
    "names=['Here','there','their']"
   ]
  },
  {
   "cell_type": "code",
   "execution_count": 58,
   "id": "c2d4d408-dd72-4a4b-8fc6-53ff7eae399b",
   "metadata": {},
   "outputs": [],
   "source": [
    "def check_list(names, find): \n",
    "    for item in names:\n",
    "        if item == find:\n",
    "            return True\n",
    "            break\n",
    "    else:\n",
    "        return False\n",
    "    #return tag"
   ]
  },
  {
   "cell_type": "code",
   "execution_count": 60,
   "id": "424f2e75-f253-4bee-8ea8-cad8aa8080c6",
   "metadata": {},
   "outputs": [
    {
     "data": {
      "text/plain": [
       "True"
      ]
     },
     "execution_count": 60,
     "metadata": {},
     "output_type": "execute_result"
    }
   ],
   "source": [
    "check_list(names,'Here')"
   ]
  },
  {
   "cell_type": "code",
   "execution_count": 81,
   "id": "9b4dfab2-62b2-4add-bd11-f949f5e5d237",
   "metadata": {},
   "outputs": [],
   "source": [
    "v=y[3]=10"
   ]
  },
  {
   "cell_type": "code",
   "execution_count": 82,
   "id": "af1876cf-140e-4807-8628-522b0e192bf8",
   "metadata": {},
   "outputs": [
    {
     "name": "stdout",
     "output_type": "stream",
     "text": [
      "10\n"
     ]
    }
   ],
   "source": [
    "print (v)"
   ]
  },
  {
   "cell_type": "code",
   "execution_count": 85,
   "id": "b6ae66a9-1ebe-4c85-8347-19f316b98fe7",
   "metadata": {},
   "outputs": [],
   "source": [
    "y[1]=10"
   ]
  },
  {
   "cell_type": "code",
   "execution_count": 86,
   "id": "6683b352-ecce-4f93-a5c2-aef0fa435bf3",
   "metadata": {},
   "outputs": [
    {
     "name": "stdout",
     "output_type": "stream",
     "text": [
      "[1, 10, 'b', 10]\n"
     ]
    }
   ],
   "source": [
    "print (y)"
   ]
  },
  {
   "cell_type": "code",
   "execution_count": 89,
   "id": "60533a56-69d2-457e-b1ab-c38a92aba068",
   "metadata": {},
   "outputs": [
    {
     "name": "stdout",
     "output_type": "stream",
     "text": [
      "[1, 2, 3, 4, 5, 6, 7, 8, 9, 0]\n"
     ]
    }
   ],
   "source": [
    "print(x)"
   ]
  },
  {
   "cell_type": "code",
   "execution_count": 93,
   "id": "c2ca9898-d107-4321-8016-99dcebfe4c29",
   "metadata": {},
   "outputs": [
    {
     "name": "stdout",
     "output_type": "stream",
     "text": [
      "9\n"
     ]
    }
   ],
   "source": [
    "print(max(x))"
   ]
  },
  {
   "cell_type": "code",
   "execution_count": 94,
   "id": "2c483ba0-12e6-4d21-9e66-f37c11a76e42",
   "metadata": {},
   "outputs": [
    {
     "name": "stdout",
     "output_type": "stream",
     "text": [
      "0\n"
     ]
    }
   ],
   "source": [
    "print(min(x))"
   ]
  },
  {
   "cell_type": "code",
   "execution_count": 95,
   "id": "d99488f3-21ee-4594-bc63-91fa3c6a8670",
   "metadata": {},
   "outputs": [
    {
     "name": "stdout",
     "output_type": "stream",
     "text": [
      "45\n"
     ]
    }
   ],
   "source": [
    "print(sum(x))"
   ]
  },
  {
   "cell_type": "code",
   "execution_count": 96,
   "id": "ed88b326-3a46-4cfd-964f-5b6dd9858d0c",
   "metadata": {},
   "outputs": [
    {
     "name": "stdout",
     "output_type": "stream",
     "text": [
      "0 9 45\n"
     ]
    }
   ],
   "source": [
    "print (min(x), max(x), sum(x))"
   ]
  },
  {
   "cell_type": "code",
   "execution_count": 98,
   "id": "6fc3d7b5-aa47-47a0-a1ca-43e322900d94",
   "metadata": {},
   "outputs": [
    {
     "name": "stdout",
     "output_type": "stream",
     "text": [
      "10\n"
     ]
    }
   ],
   "source": [
    "print (len(x))"
   ]
  },
  {
   "cell_type": "code",
   "execution_count": 100,
   "id": "9fac190f-c3ab-4cea-aa60-de9be0f205d9",
   "metadata": {},
   "outputs": [
    {
     "name": "stdout",
     "output_type": "stream",
     "text": [
      "[6]\n"
     ]
    }
   ],
   "source": [
    "print(x[5:-4])"
   ]
  },
  {
   "cell_type": "code",
   "execution_count": 103,
   "id": "49311440-54ec-4c8c-90d8-0b6aa109fc64",
   "metadata": {},
   "outputs": [
    {
     "name": "stdout",
     "output_type": "stream",
     "text": [
      "[4, 5, 6, 7, 8]\n"
     ]
    }
   ],
   "source": [
    "print(x[3:-2])"
   ]
  },
  {
   "cell_type": "code",
   "execution_count": 104,
   "id": "80890097-9f1d-4b71-ac0e-84cf0470711a",
   "metadata": {},
   "outputs": [
    {
     "name": "stdout",
     "output_type": "stream",
     "text": [
      "1\n"
     ]
    }
   ],
   "source": [
    "print(y[-4])"
   ]
  },
  {
   "cell_type": "code",
   "execution_count": 105,
   "id": "b8f9c263-e1a0-4d0a-b0e3-06d91afa17d5",
   "metadata": {},
   "outputs": [
    {
     "name": "stdout",
     "output_type": "stream",
     "text": [
      "[]\n"
     ]
    }
   ],
   "source": [
    "print(y[-2:-4])"
   ]
  },
  {
   "cell_type": "code",
   "execution_count": 106,
   "id": "41bb344a-ba44-4a8a-886e-699cd92da71b",
   "metadata": {},
   "outputs": [
    {
     "name": "stdout",
     "output_type": "stream",
     "text": [
      "[]\n"
     ]
    }
   ],
   "source": [
    "print(y[-1:-3])"
   ]
  },
  {
   "cell_type": "code",
   "execution_count": 107,
   "id": "e9bb56dd-208f-448d-b74d-54d347bc96ef",
   "metadata": {},
   "outputs": [],
   "source": [
    "p=['hel','helo', 'helllo']"
   ]
  },
  {
   "cell_type": "code",
   "execution_count": 108,
   "id": "0df288f3-91b1-494d-ac82-e67ad45e2e20",
   "metadata": {},
   "outputs": [],
   "source": [
    "u=['1','2000','0000000']"
   ]
  },
  {
   "cell_type": "code",
   "execution_count": 109,
   "id": "63a0dd1f-bc4b-4228-8858-a798e13faf92",
   "metadata": {},
   "outputs": [
    {
     "name": "stdout",
     "output_type": "stream",
     "text": [
      "helo\n"
     ]
    }
   ],
   "source": [
    "print(max(p))"
   ]
  },
  {
   "cell_type": "code",
   "execution_count": 110,
   "id": "93b9963a-a59c-4635-8485-78889cbe35d7",
   "metadata": {},
   "outputs": [
    {
     "name": "stdout",
     "output_type": "stream",
     "text": [
      "hel\n"
     ]
    }
   ],
   "source": [
    "print(min(p))"
   ]
  },
  {
   "cell_type": "code",
   "execution_count": 114,
   "id": "c9cba794-eecc-4687-8bdf-b8890366e7f2",
   "metadata": {},
   "outputs": [
    {
     "name": "stdout",
     "output_type": "stream",
     "text": [
      "helllo\n"
     ]
    }
   ],
   "source": [
    "print(max(p,key=len))"
   ]
  },
  {
   "cell_type": "code",
   "execution_count": 115,
   "id": "4df1a5a5-25a5-4320-89cd-b436b3e22fa3",
   "metadata": {},
   "outputs": [
    {
     "name": "stdout",
     "output_type": "stream",
     "text": [
      "0000000\n"
     ]
    }
   ],
   "source": [
    "print (max(u,key=len))"
   ]
  },
  {
   "cell_type": "code",
   "execution_count": 116,
   "id": "2d113608-7464-4cca-b9ac-e8cc87b7f2a3",
   "metadata": {},
   "outputs": [
    {
     "name": "stdout",
     "output_type": "stream",
     "text": [
      "['1', '2000', '0000000']\n"
     ]
    }
   ],
   "source": [
    "print(u)"
   ]
  },
  {
   "cell_type": "code",
   "execution_count": 117,
   "id": "0138e982-2dba-4448-af20-dcb932f36a6e",
   "metadata": {},
   "outputs": [
    {
     "name": "stdout",
     "output_type": "stream",
     "text": [
      "['hel', 'helo', 'helllo']\n"
     ]
    }
   ],
   "source": [
    "print(p)"
   ]
  },
  {
   "cell_type": "code",
   "execution_count": 118,
   "id": "8bc88ae5-98aa-46d0-bbac-7aed42e01d21",
   "metadata": {},
   "outputs": [
    {
     "name": "stdout",
     "output_type": "stream",
     "text": [
      "['hel', 'helo', 'helllo']\n"
     ]
    }
   ],
   "source": [
    "print(list(p))"
   ]
  },
  {
   "cell_type": "code",
   "execution_count": 129,
   "id": "823f5d02-7b6d-4616-b629-203260ca8641",
   "metadata": {},
   "outputs": [
    {
     "name": "stdout",
     "output_type": "stream",
     "text": [
      "['hel', 'helo', 'helllo']\n"
     ]
    }
   ],
   "source": [
    "print(list(p))"
   ]
  },
  {
   "cell_type": "code",
   "execution_count": 86,
   "id": "88686b56-d544-4d9c-9809-cc083863dcac",
   "metadata": {},
   "outputs": [],
   "source": [
    "dna='TAGATGATCCATAGACATACAGAT GC'  #take note of the space"
   ]
  },
  {
   "cell_type": "code",
   "execution_count": 135,
   "id": "3360893d-a587-42a5-a4b9-69b15c908a25",
   "metadata": {},
   "outputs": [
    {
     "name": "stdout",
     "output_type": "stream",
     "text": [
      "['T', 'A', 'G', 'A', 'T', 'G', 'A', 'T', 'C', 'C', 'A', 'T', 'A', 'G', 'A', 'C', 'A', 'T', 'A', 'C', 'A', 'G', 'A', 'T', ' ', 'G', 'C']\n"
     ]
    }
   ],
   "source": [
    "print(list(dna))"
   ]
  },
  {
   "cell_type": "code",
   "execution_count": 137,
   "id": "fde44ebc-50c6-45cc-be2c-c48f9a844e2d",
   "metadata": {},
   "outputs": [
    {
     "name": "stdout",
     "output_type": "stream",
     "text": [
      "['TAGATGATCCATAGACATACAGAT', 'GC']\n"
     ]
    }
   ],
   "source": [
    "print(dna.split())"
   ]
  },
  {
   "cell_type": "code",
   "execution_count": 138,
   "id": "a3f0a5be-4587-49cc-a5d1-bf12a790a2c7",
   "metadata": {},
   "outputs": [],
   "source": [
    "f='  hello world  '"
   ]
  },
  {
   "cell_type": "code",
   "execution_count": 139,
   "id": "ef1b8a4d-4c8c-4fa4-8492-2333c0f1181b",
   "metadata": {},
   "outputs": [
    {
     "name": "stdout",
     "output_type": "stream",
     "text": [
      "  hello world  \n"
     ]
    }
   ],
   "source": [
    "print(f)"
   ]
  },
  {
   "cell_type": "code",
   "execution_count": 140,
   "id": "93002abb-0b78-49c6-8c1a-d43c312301ff",
   "metadata": {},
   "outputs": [
    {
     "name": "stdout",
     "output_type": "stream",
     "text": [
      "hello world\n"
     ]
    }
   ],
   "source": [
    "print(f.strip())"
   ]
  },
  {
   "cell_type": "code",
   "execution_count": 142,
   "id": "d78720e0-470b-4f9c-8d78-6762529c690c",
   "metadata": {},
   "outputs": [
    {
     "name": "stdout",
     "output_type": "stream",
     "text": [
      "['  hello worl', '  ']\n"
     ]
    }
   ],
   "source": [
    "print(f.split(sep='d'))"
   ]
  },
  {
   "cell_type": "code",
   "execution_count": 144,
   "id": "6f789f66-911a-414e-a4b3-b3b5b28479fb",
   "metadata": {},
   "outputs": [
    {
     "name": "stdout",
     "output_type": "stream",
     "text": [
      "['  he', '', 'o wor', 'd  ']\n"
     ]
    }
   ],
   "source": [
    "print(f.split(sep='l'))"
   ]
  },
  {
   "cell_type": "code",
   "execution_count": 145,
   "id": "8ac48c46-4b0c-4920-bde2-6637b94e0475",
   "metadata": {},
   "outputs": [
    {
     "data": {
      "text/plain": [
       "list"
      ]
     },
     "execution_count": 145,
     "metadata": {},
     "output_type": "execute_result"
    }
   ],
   "source": [
    "type(u)"
   ]
  },
  {
   "cell_type": "code",
   "execution_count": 151,
   "id": "692932f8-3d40-4ad8-9337-cb11d52b1579",
   "metadata": {},
   "outputs": [
    {
     "name": "stdout",
     "output_type": "stream",
     "text": [
      "[1, 10, 'b', 10, 9, 9, 1]\n"
     ]
    }
   ],
   "source": [
    "print(y)"
   ]
  },
  {
   "cell_type": "code",
   "execution_count": 152,
   "id": "71cb8df3-a906-4ec7-ada6-14598b91e1a0",
   "metadata": {},
   "outputs": [
    {
     "name": "stdout",
     "output_type": "stream",
     "text": [
      "None\n"
     ]
    }
   ],
   "source": [
    "print(y.append(9))"
   ]
  },
  {
   "cell_type": "code",
   "execution_count": 153,
   "id": "2f82893a-40fb-4d1f-a93a-a1ac8ffd2dc8",
   "metadata": {},
   "outputs": [
    {
     "name": "stdout",
     "output_type": "stream",
     "text": [
      "None\n"
     ]
    }
   ],
   "source": [
    "print (y.append(1))"
   ]
  },
  {
   "cell_type": "code",
   "execution_count": 160,
   "id": "feea1725-d243-41f2-8fb6-eb4dfc0bc591",
   "metadata": {},
   "outputs": [
    {
     "name": "stdout",
     "output_type": "stream",
     "text": [
      "[1, 10, 'b', 10, 9, 9, 1, 9, 1, [20, 30, 40]]\n"
     ]
    }
   ],
   "source": [
    "y.append([20,30,40])\n",
    "print(y)"
   ]
  },
  {
   "cell_type": "code",
   "execution_count": 162,
   "id": "eeb714cd-8917-4314-9b76-4398d6e3ba29",
   "metadata": {},
   "outputs": [
    {
     "name": "stdout",
     "output_type": "stream",
     "text": [
      "[1, 10, 'b', 10, 9, 9, 1, 9, 1, [20, 30, 40], 50, 60, 50, 60]\n"
     ]
    }
   ],
   "source": [
    "y.extend([50,60])\n",
    "print(y)"
   ]
  },
  {
   "cell_type": "code",
   "execution_count": 164,
   "id": "20fa2557-bedb-4e5d-b7a7-45b055d5f0f6",
   "metadata": {},
   "outputs": [
    {
     "name": "stdout",
     "output_type": "stream",
     "text": [
      "2\n"
     ]
    }
   ],
   "source": [
    "print(y.count(10))"
   ]
  },
  {
   "cell_type": "code",
   "execution_count": 165,
   "id": "e7a96edc-3ea7-4509-8982-72a28db13ce3",
   "metadata": {},
   "outputs": [
    {
     "name": "stdout",
     "output_type": "stream",
     "text": [
      "True\n"
     ]
    }
   ],
   "source": [
    "print(10 in y)"
   ]
  },
  {
   "cell_type": "code",
   "execution_count": 166,
   "id": "73e9a7c8-2e11-4b6e-a513-30441249693f",
   "metadata": {},
   "outputs": [
    {
     "name": "stdout",
     "output_type": "stream",
     "text": [
      "50\n"
     ]
    }
   ],
   "source": [
    "print(y[10])"
   ]
  },
  {
   "cell_type": "code",
   "execution_count": 167,
   "id": "c06a4dc8-73f9-41c8-8f40-6f9e97badd2e",
   "metadata": {},
   "outputs": [
    {
     "name": "stdout",
     "output_type": "stream",
     "text": [
      "14\n"
     ]
    }
   ],
   "source": [
    "print(len(y))"
   ]
  },
  {
   "cell_type": "code",
   "execution_count": 170,
   "id": "d574ed13-5113-4ac4-a17b-0e948c8aa335",
   "metadata": {},
   "outputs": [
    {
     "name": "stdout",
     "output_type": "stream",
     "text": [
      "TAGATGATCCATAGACATACAGAT GC\n"
     ]
    }
   ],
   "source": [
    "print(dna)"
   ]
  },
  {
   "cell_type": "code",
   "execution_count": 173,
   "id": "78238647-7804-45c4-b636-520c7e508784",
   "metadata": {},
   "outputs": [
    {
     "name": "stdout",
     "output_type": "stream",
     "text": [
      "17\n"
     ]
    }
   ],
   "source": [
    "print(dna.index('TAC'))"
   ]
  },
  {
   "cell_type": "code",
   "execution_count": 174,
   "id": "a853cd23-dfe0-4c87-96ed-2237445e3404",
   "metadata": {},
   "outputs": [
    {
     "name": "stdout",
     "output_type": "stream",
     "text": [
      "10\n"
     ]
    }
   ],
   "source": [
    "print(y.index(50))"
   ]
  },
  {
   "cell_type": "code",
   "execution_count": 175,
   "id": "39b37887-9ce7-4799-8df9-d40e6cff6fdf",
   "metadata": {},
   "outputs": [
    {
     "name": "stdout",
     "output_type": "stream",
     "text": [
      "None\n"
     ]
    }
   ],
   "source": [
    "print(y.insert(10,'come'))"
   ]
  },
  {
   "cell_type": "code",
   "execution_count": 176,
   "id": "73248958-7afd-49c0-809e-b4c854b39c07",
   "metadata": {},
   "outputs": [
    {
     "name": "stdout",
     "output_type": "stream",
     "text": [
      "[1, 10, 'b', 10, 9, 9, 1, 9, 1, [20, 30, 40], 'come', 50, 60, 50, 60]\n"
     ]
    }
   ],
   "source": [
    "print(y)"
   ]
  },
  {
   "cell_type": "code",
   "execution_count": 177,
   "id": "f21dea71-f799-4153-81e1-00b74e0170c4",
   "metadata": {},
   "outputs": [
    {
     "name": "stdout",
     "output_type": "stream",
     "text": [
      "None\n"
     ]
    }
   ],
   "source": [
    "print(y.insert(20,16))"
   ]
  },
  {
   "cell_type": "code",
   "execution_count": 178,
   "id": "c65951eb-8b32-4119-b3ee-a084e32e9d74",
   "metadata": {},
   "outputs": [
    {
     "name": "stdout",
     "output_type": "stream",
     "text": [
      "[1, 10, 'b', 10, 9, 9, 1, 9, 1, [20, 30, 40], 'come', 50, 60, 50, 60, 16]\n"
     ]
    }
   ],
   "source": [
    "print(y)"
   ]
  },
  {
   "cell_type": "code",
   "execution_count": 180,
   "id": "a9f963cc-4584-4828-93f0-0016108c45a1",
   "metadata": {},
   "outputs": [
    {
     "name": "stdout",
     "output_type": "stream",
     "text": [
      "None\n"
     ]
    }
   ],
   "source": [
    "print(y.insert(-25,0))"
   ]
  },
  {
   "cell_type": "code",
   "execution_count": 181,
   "id": "4b8e6665-3a71-4729-b2e2-ee5e8c4e01fb",
   "metadata": {},
   "outputs": [
    {
     "name": "stdout",
     "output_type": "stream",
     "text": [
      "[0, 1, 10, 'b', 10, 9, 9, 1, 9, 1, [20, 30, 40], 'come', 50, 60, 50, 60, 16]\n"
     ]
    }
   ],
   "source": [
    "print(y)"
   ]
  },
  {
   "cell_type": "code",
   "execution_count": 182,
   "id": "d08ea8dd-e9cb-4797-856a-58332d3fa178",
   "metadata": {},
   "outputs": [
    {
     "name": "stdout",
     "output_type": "stream",
     "text": [
      "16\n"
     ]
    }
   ],
   "source": [
    "print(y.pop())"
   ]
  },
  {
   "cell_type": "code",
   "execution_count": 183,
   "id": "fb69b13b-e6a0-4db4-8d52-d55775a4695c",
   "metadata": {},
   "outputs": [
    {
     "name": "stdout",
     "output_type": "stream",
     "text": [
      "[20, 30, 40]\n"
     ]
    }
   ],
   "source": [
    "print(y.pop(10))"
   ]
  },
  {
   "cell_type": "code",
   "execution_count": 186,
   "id": "010ed7ad-ba7a-4553-8809-6fba95bf476f",
   "metadata": {},
   "outputs": [
    {
     "name": "stdout",
     "output_type": "stream",
     "text": [
      "None\n"
     ]
    }
   ],
   "source": [
    "print(y.reverse())"
   ]
  },
  {
   "cell_type": "code",
   "execution_count": 187,
   "id": "7a9411fc-128c-49ae-881e-fc650e1b5874",
   "metadata": {},
   "outputs": [
    {
     "name": "stdout",
     "output_type": "stream",
     "text": [
      "[60, 50, 60, 50, 'come', 1, 9, 1, 9, 9, 10, 'b', 10, 1, 0]\n"
     ]
    }
   ],
   "source": [
    "print(y)"
   ]
  },
  {
   "cell_type": "code",
   "execution_count": 189,
   "id": "e9f8f441-b19b-4926-8296-47c61c406b30",
   "metadata": {},
   "outputs": [
    {
     "name": "stdout",
     "output_type": "stream",
     "text": [
      "None\n"
     ]
    }
   ],
   "source": [
    "print(y.remove('come'))"
   ]
  },
  {
   "cell_type": "code",
   "execution_count": 190,
   "id": "96ddf51a-26f0-4532-8abc-aff0c141716b",
   "metadata": {},
   "outputs": [
    {
     "name": "stdout",
     "output_type": "stream",
     "text": [
      "[60, 50, 60, 50, 1, 9, 1, 9, 9, 10, 'b', 10, 1, 0]\n"
     ]
    }
   ],
   "source": [
    "print(y)"
   ]
  },
  {
   "cell_type": "code",
   "execution_count": 191,
   "id": "cff6dfd9-041a-414c-aaf1-5066b61d77cb",
   "metadata": {},
   "outputs": [
    {
     "name": "stdout",
     "output_type": "stream",
     "text": [
      "None\n"
     ]
    }
   ],
   "source": [
    "print(y.remove(10))"
   ]
  },
  {
   "cell_type": "code",
   "execution_count": 192,
   "id": "d6d40c64-1c0b-4d24-b8ab-adcc9262a99a",
   "metadata": {},
   "outputs": [
    {
     "name": "stdout",
     "output_type": "stream",
     "text": [
      "[60, 50, 60, 50, 1, 9, 1, 9, 9, 'b', 10, 1, 0]\n"
     ]
    }
   ],
   "source": [
    "print(y)"
   ]
  },
  {
   "cell_type": "code",
   "execution_count": 195,
   "id": "f7a00024-60ca-45ab-aa62-50f80fe2954f",
   "metadata": {},
   "outputs": [
    {
     "name": "stdout",
     "output_type": "stream",
     "text": [
      "None\n"
     ]
    }
   ],
   "source": [
    "print(y.remove(50))"
   ]
  },
  {
   "cell_type": "code",
   "execution_count": 197,
   "id": "a76c3941-ab69-4233-ae0e-a42adbb8f524",
   "metadata": {},
   "outputs": [
    {
     "name": "stdout",
     "output_type": "stream",
     "text": [
      "[60, 60, 50, 1, 9, 1, 9, 9, 'b', 10, 1, 0]\n"
     ]
    }
   ],
   "source": [
    "print(y)"
   ]
  },
  {
   "cell_type": "code",
   "execution_count": 201,
   "id": "a2a67ad7-f6bd-44ec-8209-5aeb47ed28ca",
   "metadata": {},
   "outputs": [
    {
     "name": "stdout",
     "output_type": "stream",
     "text": [
      "[60, 60, 50, 1, 9, 'b', 10, 1, 0]\n"
     ]
    }
   ],
   "source": [
    "del y[5]\n",
    "print(y)"
   ]
  },
  {
   "cell_type": "code",
   "execution_count": 204,
   "id": "be3d9723-b3a0-4d9a-97f8-f8d746bd256d",
   "metadata": {},
   "outputs": [
    {
     "data": {
      "text/plain": [
       "list"
      ]
     },
     "execution_count": 204,
     "metadata": {},
     "output_type": "execute_result"
    }
   ],
   "source": [
    "type(y)"
   ]
  },
  {
   "cell_type": "code",
   "execution_count": 207,
   "id": "7ffb541e-3a8a-4a99-b78c-444c385cea6d",
   "metadata": {},
   "outputs": [
    {
     "name": "stdout",
     "output_type": "stream",
     "text": [
      "[1, 9, 50, 60, 60, 10, 1, 0]\n"
     ]
    }
   ],
   "source": [
    "y.remove('b')\n",
    "print(y)"
   ]
  },
  {
   "cell_type": "code",
   "execution_count": 208,
   "id": "fd852c91-9f0e-4d7d-a58c-a10baca46dca",
   "metadata": {},
   "outputs": [
    {
     "name": "stdout",
     "output_type": "stream",
     "text": [
      "[0, 1, 1, 9, 10, 50, 60, 60]\n"
     ]
    }
   ],
   "source": [
    "y.sort()\n",
    "print(y)"
   ]
  },
  {
   "cell_type": "code",
   "execution_count": 210,
   "id": "fab330a7-012b-4f0e-85be-e26a1c15e148",
   "metadata": {},
   "outputs": [
    {
     "name": "stdout",
     "output_type": "stream",
     "text": [
      "[60, 60, 50, 10, 9, 1, 1, 0]\n"
     ]
    }
   ],
   "source": [
    "y.sort(reverse=True)\n",
    "print(y)"
   ]
  },
  {
   "cell_type": "code",
   "execution_count": null,
   "id": "3a78efbf-0f52-4d9e-8489-e7643fedba43",
   "metadata": {},
   "outputs": [],
   "source": []
  },
  {
   "cell_type": "code",
   "execution_count": 211,
   "id": "0de90a2c-f79a-407a-a4c1-caaa7dea31df",
   "metadata": {},
   "outputs": [],
   "source": [
    "from IPython.display import HTML"
   ]
  },
  {
   "cell_type": "code",
   "execution_count": 1,
   "id": "8e1387a6-c811-4b9f-8290-ca1ca6efd571",
   "metadata": {},
   "outputs": [],
   "source": [
    "v=7"
   ]
  },
  {
   "cell_type": "code",
   "execution_count": 2,
   "id": "46579d26-c805-4cb0-b5c3-9497870c82cc",
   "metadata": {},
   "outputs": [],
   "source": [
    "g=v"
   ]
  },
  {
   "cell_type": "code",
   "execution_count": 4,
   "id": "09e74273-64c1-4acb-b338-1e2827893329",
   "metadata": {},
   "outputs": [
    {
     "name": "stdout",
     "output_type": "stream",
     "text": [
      "7\n"
     ]
    }
   ],
   "source": [
    "print(g)"
   ]
  },
  {
   "cell_type": "code",
   "execution_count": 5,
   "id": "6c753da0-4cc6-4b61-b6af-8d1aef1b402b",
   "metadata": {},
   "outputs": [],
   "source": [
    "v=(7+30)"
   ]
  },
  {
   "cell_type": "code",
   "execution_count": 6,
   "id": "daf1dcdc-df6b-4e33-b8cf-62ec6ee63e6b",
   "metadata": {},
   "outputs": [
    {
     "name": "stdout",
     "output_type": "stream",
     "text": [
      "7\n"
     ]
    }
   ],
   "source": [
    "print(g)"
   ]
  },
  {
   "cell_type": "code",
   "execution_count": 7,
   "id": "988da8dc-31d0-4d30-a38c-4b2d4dd1f55f",
   "metadata": {},
   "outputs": [
    {
     "name": "stdout",
     "output_type": "stream",
     "text": [
      "[1, 2, 3]\n"
     ]
    }
   ],
   "source": [
    "lista=[1,2,3]\n",
    "listb=lista\n",
    "print(listb)"
   ]
  },
  {
   "cell_type": "code",
   "execution_count": 10,
   "id": "db58a370-e99a-4944-8771-81424c4bbf87",
   "metadata": {},
   "outputs": [
    {
     "name": "stdout",
     "output_type": "stream",
     "text": [
      "[1, 2, 3]\n"
     ]
    }
   ],
   "source": [
    "lista.reverse()\n",
    "print(lista)"
   ]
  },
  {
   "cell_type": "code",
   "execution_count": 11,
   "id": "72c18dda-4172-44b9-ade1-4416dd4de679",
   "metadata": {},
   "outputs": [
    {
     "name": "stdout",
     "output_type": "stream",
     "text": [
      "[3, 2, 1]\n"
     ]
    }
   ],
   "source": [
    "lista.reverse()\n",
    "print(lista)"
   ]
  },
  {
   "cell_type": "code",
   "execution_count": 14,
   "id": "828f7488-a9b9-4b79-8e75-bc86c64b3937",
   "metadata": {},
   "outputs": [
    {
     "name": "stdout",
     "output_type": "stream",
     "text": [
      "[3, 2, 1, ['one', 10, 12]]\n"
     ]
    }
   ],
   "source": [
    "lista.append(['one',10,12])\n",
    "print(lista)"
   ]
  },
  {
   "cell_type": "code",
   "execution_count": 15,
   "id": "445540b7-c1cc-48d9-be31-6d71258eb151",
   "metadata": {},
   "outputs": [
    {
     "name": "stdout",
     "output_type": "stream",
     "text": [
      "[3, 2, 1, ['one', 10, 12]]\n"
     ]
    }
   ],
   "source": [
    "print(listb)"
   ]
  },
  {
   "cell_type": "code",
   "execution_count": 22,
   "id": "0fae3f52-9021-4d96-be87-6a7e661b63a4",
   "metadata": {},
   "outputs": [],
   "source": [
    "list1=[10,20,30,40]\n",
    "list2= list1[:]"
   ]
  },
  {
   "cell_type": "code",
   "execution_count": 24,
   "id": "5a7eb56e-aa13-4e0a-b3e8-82d1fb48ba50",
   "metadata": {},
   "outputs": [
    {
     "name": "stdout",
     "output_type": "stream",
     "text": [
      "[10, 20, 30, 40, 1, 2, 3, 1, 2, 3]\n"
     ]
    }
   ],
   "source": [
    "list1.extend([1,2,3])\n",
    "print(list1)"
   ]
  },
  {
   "cell_type": "code",
   "execution_count": 25,
   "id": "2ba316a7-117d-4401-be58-c1fb2ae478db",
   "metadata": {},
   "outputs": [
    {
     "name": "stdout",
     "output_type": "stream",
     "text": [
      "[10, 20, 30, 40]\n"
     ]
    }
   ],
   "source": [
    "print(list2)"
   ]
  },
  {
   "cell_type": "code",
   "execution_count": 26,
   "id": "c8a9b47d-7c00-4b38-a644-99af24f2458b",
   "metadata": {},
   "outputs": [
    {
     "name": "stdout",
     "output_type": "stream",
     "text": [
      "[8, 125, 300763]\n"
     ]
    }
   ],
   "source": [
    "list3=[y**3 for y in[2,5,67,]]\n",
    "print(list3)                          #list comprehesion/looping expression"
   ]
  },
  {
   "cell_type": "code",
   "execution_count": 34,
   "id": "56226867-5c58-41b7-8582-4eca44db1742",
   "metadata": {},
   "outputs": [
    {
     "name": "stdout",
     "output_type": "stream",
     "text": [
      "[1, 64, 729, 15625]\n"
     ]
    }
   ],
   "source": [
    "mylist=[]\n",
    "for y in [1,2,3,5]:\n",
    "    mylist.append(y**6)\n",
    "        \n",
    "print(mylist)\n",
    "    "
   ]
  },
  {
   "cell_type": "code",
   "execution_count": 40,
   "id": "4f72bf65-2c58-4765-9459-733cda040844",
   "metadata": {},
   "outputs": [
    {
     "name": "stdout",
     "output_type": "stream",
     "text": [
      "[12, 13, 16, 17, 20, 21, 228, 229]\n"
     ]
    }
   ],
   "source": [
    "print ([4*b+x for b in [2,3,4,56] for x in [4,5]])"
   ]
  },
  {
   "cell_type": "code",
   "execution_count": 42,
   "id": "dbd6407f-cc3c-4fff-ba5e-715d9b9f88e2",
   "metadata": {},
   "outputs": [
    {
     "name": "stdout",
     "output_type": "stream",
     "text": [
      "<class 'tuple'>\n"
     ]
    }
   ],
   "source": [
    "d=('y','z','t')\n",
    "print(type(d))"
   ]
  },
  {
   "cell_type": "code",
   "execution_count": 43,
   "id": "97c8d46e-9b55-4ed9-8653-08425bd93e98",
   "metadata": {},
   "outputs": [
    {
     "data": {
      "text/plain": [
       "(27, 3, 7)"
      ]
     },
     "execution_count": 43,
     "metadata": {},
     "output_type": "execute_result"
    }
   ],
   "source": [
    "27,3,7   #declare a turple"
   ]
  },
  {
   "cell_type": "code",
   "execution_count": 44,
   "id": "5d8a5ef0-a25c-4f87-ab37-e43b4ae3a1aa",
   "metadata": {},
   "outputs": [],
   "source": [
    "(a,b,c)=('one','two','three')"
   ]
  },
  {
   "cell_type": "code",
   "execution_count": 46,
   "id": "33bef3ec-713b-4005-911f-b5a762e1a084",
   "metadata": {},
   "outputs": [
    {
     "name": "stdout",
     "output_type": "stream",
     "text": [
      "1\n"
     ]
    }
   ],
   "source": [
    "print(d.count('y'))"
   ]
  },
  {
   "cell_type": "code",
   "execution_count": 83,
   "id": "73ddeb2c-a602-407b-8231-c8d2e04754c4",
   "metadata": {},
   "outputs": [],
   "source": [
    "del set"
   ]
  },
  {
   "cell_type": "code",
   "execution_count": 79,
   "id": "0ba23680-1b2b-4331-9af3-45cd23d256ea",
   "metadata": {},
   "outputs": [
    {
     "name": "stdout",
     "output_type": "stream",
     "text": [
      "<class 'set'>\n"
     ]
    }
   ],
   "source": [
    "print(type(set))"
   ]
  },
  {
   "cell_type": "code",
   "execution_count": 80,
   "id": "78e55cf1-56cd-4ea0-a915-a7d0f9e8572d",
   "metadata": {},
   "outputs": [],
   "source": [
    "set1={2,2,4,5,6,7,7,88,9,9}"
   ]
  },
  {
   "cell_type": "code",
   "execution_count": 81,
   "id": "ec17cff0-6fb2-4d21-9e86-4c5375f2bcd2",
   "metadata": {},
   "outputs": [
    {
     "name": "stdout",
     "output_type": "stream",
     "text": [
      "{2, 4, 5, 6, 7, 88, 9}\n"
     ]
    }
   ],
   "source": [
    "print(set1)"
   ]
  },
  {
   "cell_type": "code",
   "execution_count": 84,
   "id": "4db5a685-042d-4dca-9b8d-2a91f6c0dc25",
   "metadata": {},
   "outputs": [],
   "source": [
    "set2= set([1,1,3,5,6,7,8,4,5,6])"
   ]
  },
  {
   "cell_type": "code",
   "execution_count": 75,
   "id": "3549e5a2-d038-49e9-984d-320ed71a3d03",
   "metadata": {},
   "outputs": [
    {
     "name": "stdout",
     "output_type": "stream",
     "text": [
      "[1, 1, 3, 5, 6, 7, 8, 4, 5, 6]\n"
     ]
    }
   ],
   "source": [
    "print(set2)"
   ]
  },
  {
   "cell_type": "code",
   "execution_count": 87,
   "id": "09dfbf23-0932-435c-b9c5-bd89ce1429de",
   "metadata": {},
   "outputs": [
    {
     "name": "stdout",
     "output_type": "stream",
     "text": [
      "TAGATGATCCATAGACATACAGAT GC\n"
     ]
    }
   ],
   "source": [
    "print(dna)"
   ]
  },
  {
   "cell_type": "code",
   "execution_count": 92,
   "id": "29170780-fb33-48d6-ae10-630c4beb7831",
   "metadata": {},
   "outputs": [
    {
     "data": {
      "text/plain": [
       "str"
      ]
     },
     "execution_count": 92,
     "metadata": {},
     "output_type": "execute_result"
    }
   ],
   "source": [
    "type(dna)"
   ]
  },
  {
   "cell_type": "code",
   "execution_count": 93,
   "id": "51082d42-0fba-4bd1-9fc2-3f266ef12bc6",
   "metadata": {},
   "outputs": [
    {
     "data": {
      "text/plain": [
       "'CG TAGACATACAGATACCTAGTAGAT'"
      ]
     },
     "execution_count": 93,
     "metadata": {},
     "output_type": "execute_result"
    }
   ],
   "source": [
    "dna[::-1]"
   ]
  },
  {
   "cell_type": "code",
   "execution_count": 2,
   "id": "a69cd66d-4aa8-42b1-9703-a62cabb2bdfc",
   "metadata": {},
   "outputs": [],
   "source": [
    "rna='TAGATCATGATGACATAGAG'"
   ]
  },
  {
   "cell_type": "code",
   "execution_count": 102,
   "id": "c2e537fb-5ead-4cfe-b6da-5ecf13983591",
   "metadata": {},
   "outputs": [
    {
     "data": {
      "text/plain": [
       "'GAGATACAGTAGTACTAGAT'"
      ]
     },
     "execution_count": 102,
     "metadata": {},
     "output_type": "execute_result"
    }
   ],
   "source": [
    "rna[::-1]"
   ]
  },
  {
   "cell_type": "code",
   "execution_count": 107,
   "id": "dcc3128d-6bb0-40ff-97f2-1a02a1573b9e",
   "metadata": {},
   "outputs": [
    {
     "data": {
      "text/plain": [
       "'atctactactactctatctc'"
      ]
     },
     "execution_count": 107,
     "metadata": {},
     "output_type": "execute_result"
    }
   ],
   "source": [
    "rna.replace('A','t').replace('G','c').replace('C','c').replace('T','a')"
   ]
  },
  {
   "cell_type": "raw",
   "id": "7296de21-ec19-4f38-9466-b85eb80605b5",
   "metadata": {},
   "source": [
    "revesrsed(rna)"
   ]
  },
  {
   "cell_type": "code",
   "execution_count": 3,
   "id": "b5c0ccfc-49f9-49d6-9a1c-8b8408c6d52a",
   "metadata": {},
   "outputs": [
    {
     "name": "stdout",
     "output_type": "stream",
     "text": [
      "TAGATCATGATGACATAGAG\n"
     ]
    }
   ],
   "source": [
    "print(rna)"
   ]
  },
  {
   "cell_type": "code",
   "execution_count": 43,
   "id": "76f9c039-c1f8-49b9-ab63-d90d9cde5982",
   "metadata": {},
   "outputs": [],
   "source": [
    "dna1='TAGACATA GATACATGA TACATAGATACAGATATAG'\n",
    "revdna_dic={'A':'T','G':'C','C':'G','T':'A' ,' ':'N'}\n",
    "compdna=''\n",
    "for base in dna1:\n",
    "    compdna= revdna_dic[base]+compdna"
   ]
  },
  {
   "cell_type": "code",
   "execution_count": 44,
   "id": "e3839ebd-aee0-48b2-91d6-e3477e90db4f",
   "metadata": {},
   "outputs": [
    {
     "name": "stdout",
     "output_type": "stream",
     "text": [
      "CTATATCTGTATCTATGTANTCATGTATCNTATGTCTA\n"
     ]
    }
   ],
   "source": [
    "print(compdna)"
   ]
  },
  {
   "cell_type": "code",
   "execution_count": 38,
   "id": "fab60d4b-a762-4a6b-9b5c-a4e5f75b59b1",
   "metadata": {},
   "outputs": [
    {
     "data": {
      "text/plain": [
       "'TAGACATA GATACATGA TACATAGATACAGATATAG'"
      ]
     },
     "execution_count": 38,
     "metadata": {},
     "output_type": "execute_result"
    }
   ],
   "source": [
    "''.join(dna1)"
   ]
  },
  {
   "cell_type": "code",
   "execution_count": null,
   "id": "4f2e0d93-7145-47c2-8b5e-9c91eaaa7e52",
   "metadata": {},
   "outputs": [],
   "source": []
  },
  {
   "cell_type": "code",
   "execution_count": 50,
   "id": "339d5c62-22ea-42e5-9e1a-117f96cc8d3f",
   "metadata": {},
   "outputs": [],
   "source": [
    "dna1='TAGACATAGATACATGATACATAGATACAGATATAG'\n",
    "dna_dic={'A':'T','G':'C','C':'G','T':'A'}\n",
    "compdna1=''\n",
    "for base in dna1:\n",
    "    compdna1= dna_dic[base]+compdna1"
   ]
  },
  {
   "cell_type": "raw",
   "id": "c55fa674-dd93-437c-8dc6-56477b93d961",
   "metadata": {},
   "source": []
  },
  {
   "cell_type": "code",
   "execution_count": 51,
   "id": "3c7e347a-3269-4105-81b1-976a6f410b33",
   "metadata": {},
   "outputs": [
    {
     "name": "stdout",
     "output_type": "stream",
     "text": [
      "CTATATCTGTATCTATGTATCATGTATCTATGTCTA\n"
     ]
    }
   ],
   "source": [
    "print (compdna1)"
   ]
  },
  {
   "cell_type": "code",
   "execution_count": null,
   "id": "94484d7d-cd2e-4173-bd58-e9fd94068f35",
   "metadata": {},
   "outputs": [],
   "source": []
  }
 ],
 "metadata": {
  "kernelspec": {
   "display_name": "Python 3 (ipykernel)",
   "language": "python",
   "name": "python3"
  },
  "language_info": {
   "codemirror_mode": {
    "name": "ipython",
    "version": 3
   },
   "file_extension": ".py",
   "mimetype": "text/x-python",
   "name": "python",
   "nbconvert_exporter": "python",
   "pygments_lexer": "ipython3",
   "version": "3.9.7"
  }
 },
 "nbformat": 4,
 "nbformat_minor": 5
}
