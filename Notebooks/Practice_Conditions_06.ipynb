{
 "cells": [
  {
   "cell_type": "code",
   "execution_count": 24,
   "id": "780227c3-81eb-4fdb-9382-757e56a5e69d",
   "metadata": {},
   "outputs": [],
   "source": [
    "dnaSeq=['ATGCCCCTG', 'GTCCCTC', 'GTAGACA', 'TGACAGGCC']\n",
    "c='ATGCATGC'"
   ]
  },
  {
   "cell_type": "code",
   "execution_count": 25,
   "id": "c92f39fe-8137-4d1d-b19c-94822d161733",
   "metadata": {},
   "outputs": [
    {
     "name": "stdout",
     "output_type": "stream",
     "text": [
      "ATGCATGC\n"
     ]
    }
   ],
   "source": [
    "print (c)"
   ]
  },
  {
   "cell_type": "code",
   "execution_count": 26,
   "id": "242a8f72-a982-48b6-a75d-ac7c096f6f7f",
   "metadata": {},
   "outputs": [
    {
     "name": "stdout",
     "output_type": "stream",
     "text": [
      "T\n"
     ]
    }
   ],
   "source": [
    "print (c[5])"
   ]
  },
  {
   "cell_type": "code",
   "execution_count": 27,
   "id": "bfa286eb-0666-4521-ac21-3510354cc976",
   "metadata": {},
   "outputs": [
    {
     "data": {
      "text/plain": [
       "'T'"
      ]
     },
     "execution_count": 27,
     "metadata": {},
     "output_type": "execute_result"
    }
   ],
   "source": [
    "c[5]"
   ]
  },
  {
   "cell_type": "code",
   "execution_count": 28,
   "id": "7d3fa7ab-2f6b-4539-bc61-9572cadcebe8",
   "metadata": {},
   "outputs": [
    {
     "name": "stdout",
     "output_type": "stream",
     "text": [
      "2\n"
     ]
    }
   ],
   "source": [
    "print (c.count('A'))"
   ]
  },
  {
   "cell_type": "code",
   "execution_count": 29,
   "id": "dc33c662-db63-4c66-b0d5-16f38d8681fd",
   "metadata": {},
   "outputs": [
    {
     "name": "stdout",
     "output_type": "stream",
     "text": [
      "A\n",
      "T\n",
      "G\n",
      "C\n",
      "A\n",
      "T\n",
      "G\n",
      "C\n"
     ]
    }
   ],
   "source": [
    "for nuc in c:\n",
    "    print (nuc)"
   ]
  },
  {
   "cell_type": "code",
   "execution_count": 30,
   "id": "5a8a22ab-737b-4e74-8e70-4b0f6342e935",
   "metadata": {},
   "outputs": [
    {
     "data": {
      "text/plain": [
       "'AACCAACC'"
      ]
     },
     "execution_count": 30,
     "metadata": {},
     "output_type": "execute_result"
    }
   ],
   "source": [
    "c.replace('A','T').replace('G','C').replace('T','A')\n"
   ]
  },
  {
   "cell_type": "code",
   "execution_count": 31,
   "id": "6bef044a-9654-4a16-bc4e-d4e38c54fcfe",
   "metadata": {},
   "outputs": [
    {
     "name": "stdout",
     "output_type": "stream",
     "text": [
      "ATGCATGC\n",
      "ATGCATGC\n",
      "ATGCATGC\n",
      "ATGCATGC\n",
      "ATGCATGC\n",
      "ATGCATGC\n",
      "ATGCATGC\n",
      "ATGCATGC\n"
     ]
    }
   ],
   "source": [
    "for nuc in list(c):\n",
    "    if nuc=='A':\n",
    "         nuc.replace('A','T')\n",
    "    elif nuc == 'T':\n",
    "        nuc.replace('T','A')\n",
    "    elif nuc == 'G':\n",
    "        nuc.replace('G','C')\n",
    "    else:\n",
    "        nuc.replace('C','G')\n",
    "    print(c)\n",
    "    "
   ]
  },
  {
   "cell_type": "code",
   "execution_count": 32,
   "id": "f10a5404-333a-49be-b5a3-793fec862527",
   "metadata": {},
   "outputs": [
    {
     "name": "stdout",
     "output_type": "stream",
     "text": [
      "ATGCATGC\n"
     ]
    }
   ],
   "source": [
    "print(c)"
   ]
  },
  {
   "cell_type": "code",
   "execution_count": 33,
   "id": "338ab716-d57f-4998-8ef7-34276f797280",
   "metadata": {},
   "outputs": [
    {
     "data": {
      "text/plain": [
       "['A', 'T', 'G', 'C', 'A', 'T', 'G', 'C']"
      ]
     },
     "execution_count": 33,
     "metadata": {},
     "output_type": "execute_result"
    }
   ],
   "source": [
    "list(c)"
   ]
  },
  {
   "cell_type": "code",
   "execution_count": 34,
   "id": "d88ee113-4e3e-4b0a-8b47-a44c3ae54811",
   "metadata": {},
   "outputs": [],
   "source": [
    "v='ATGCYATCGBATFGG'"
   ]
  },
  {
   "cell_type": "code",
   "execution_count": 35,
   "id": "37963866-fbc1-45f2-9137-ad79c997a793",
   "metadata": {},
   "outputs": [],
   "source": [
    "def gc_content(dna):\n",
    "    for nuc in dna:\n",
    "        if nuc != 'A' and nuc!='T' and nuc!='G' and nuc!='C':\n",
    "            print ('There is invalid' + ' ' + nuc + ' ' + 'at position' + \" \" +str(dna.index(nuc)))\n",
    "    g_content=dna.count('G')\n",
    "    c_content=dna.count('C')\n",
    "    total_length=len(dna)\n",
    "    gc_count=g_content + c_content\n",
    "    gc_content=gc_count/total_length\n",
    "    return gc_content"
   ]
  },
  {
   "cell_type": "code",
   "execution_count": 36,
   "id": "48dffa90-faeb-409b-a0e5-660257767230",
   "metadata": {},
   "outputs": [
    {
     "name": "stdout",
     "output_type": "stream",
     "text": [
      "There is invalid Y at position 4\n",
      "There is invalid B at position 9\n",
      "There is invalid F at position 12\n"
     ]
    },
    {
     "data": {
      "text/plain": [
       "0.4"
      ]
     },
     "execution_count": 36,
     "metadata": {},
     "output_type": "execute_result"
    }
   ],
   "source": [
    "gc_content(v)"
   ]
  },
  {
   "cell_type": "code",
   "execution_count": 37,
   "id": "1a266ee2-86f8-43b4-9a31-7a7906bce803",
   "metadata": {},
   "outputs": [
    {
     "data": {
      "text/plain": [
       "'C'"
      ]
     },
     "execution_count": 37,
     "metadata": {},
     "output_type": "execute_result"
    }
   ],
   "source": [
    "v[3:4]"
   ]
  },
  {
   "cell_type": "code",
   "execution_count": 38,
   "id": "82468127-cf48-42fd-bef0-b3b40baddc05",
   "metadata": {
    "tags": []
   },
   "outputs": [
    {
     "data": {
      "text/plain": [
       "4"
      ]
     },
     "execution_count": 38,
     "metadata": {},
     "output_type": "execute_result"
    }
   ],
   "source": [
    "v.index('Y')"
   ]
  },
  {
   "cell_type": "code",
   "execution_count": 39,
   "id": "ff2ab51b-f476-492b-a05e-08f6a07a457d",
   "metadata": {},
   "outputs": [
    {
     "data": {
      "text/plain": [
       "4"
      ]
     },
     "execution_count": 39,
     "metadata": {},
     "output_type": "execute_result"
    }
   ],
   "source": [
    "c.count('A') + c.count('T')"
   ]
  },
  {
   "cell_type": "code",
   "execution_count": null,
   "id": "cfe09c12-27bc-403d-b09a-db92d5895dd7",
   "metadata": {},
   "outputs": [],
   "source": []
  },
  {
   "cell_type": "code",
   "execution_count": 40,
   "id": "2fe5b930-a588-4f02-8f80-5022cb3ff455",
   "metadata": {},
   "outputs": [],
   "source": [
    "def gc_content2(dna):\n",
    "    for nuc in dna:\n",
    "        while nuc != 'A' and nuc!='T' and nuc!='G' and nuc!='C':\n",
    "            print ('There is invalid' + ' ' + nuc + ' ' + 'at position' + str(dna.index(nuc)))\n",
    "            break \n",
    "        #else:\n",
    "            g_content=dna.count('G')\n",
    "            c_content=dna.count('C')\n",
    "            total_length=len(dna)\n",
    "            gc_count=g_content + c_content\n",
    "            gc_content=gc_count/total_length\n",
    "            return gc_content"
   ]
  },
  {
   "cell_type": "code",
   "execution_count": 41,
   "id": "8b7f56e7-0e52-4480-a30a-1b41379bb8e1",
   "metadata": {},
   "outputs": [
    {
     "name": "stdout",
     "output_type": "stream",
     "text": [
      "There is invalid Y at position 4\n",
      "There is invalid B at position 9\n",
      "There is invalid F at position 12\n"
     ]
    },
    {
     "data": {
      "text/plain": [
       "0.4"
      ]
     },
     "execution_count": 41,
     "metadata": {},
     "output_type": "execute_result"
    }
   ],
   "source": [
    "gc_content(v)"
   ]
  },
  {
   "cell_type": "code",
   "execution_count": null,
   "id": "464e1bff-2010-447c-972c-a8bb577b8b75",
   "metadata": {},
   "outputs": [],
   "source": []
  },
  {
   "cell_type": "code",
   "execution_count": 42,
   "id": "534c018b-349a-45b3-b7b5-6cd1a3e38c7a",
   "metadata": {},
   "outputs": [],
   "source": [
    "def gc_content3(dna):\n",
    "    def inavalid_base(dna):\n",
    "        for nuc in dna:\n",
    "            while nuc != 'A' and nuc!='T' and nuc!='G' and nuc!='C':\n",
    "                print ('There is invalid' + ' ' + nuc + ' ' + 'at position' + str(dna.index(nuc)))\n",
    "            break \n",
    "    g_content=dna.count('G')\n",
    "    c_content=dna.count('C')\n",
    "    total_length=dna.count('A')+ dna.count('T') + dna.count('G') +dna.count('C')\n",
    "    gc_count=g_content + c_content\n",
    "    gc_content=gc_count/total_length\n",
    "    return gc_content"
   ]
  },
  {
   "cell_type": "code",
   "execution_count": null,
   "id": "5d2ea121-2859-44f9-b020-afc8dbf3a4ba",
   "metadata": {},
   "outputs": [],
   "source": []
  },
  {
   "cell_type": "code",
   "execution_count": 43,
   "id": "203186b8-fe53-47a6-9ce3-ec561de7e962",
   "metadata": {},
   "outputs": [
    {
     "data": {
      "text/plain": [
       "0.5"
      ]
     },
     "execution_count": 43,
     "metadata": {},
     "output_type": "execute_result"
    }
   ],
   "source": [
    "gc_content3(v)"
   ]
  },
  {
   "cell_type": "code",
   "execution_count": 44,
   "id": "a6a2acb6-2147-4fdf-a737-c832af440460",
   "metadata": {},
   "outputs": [],
   "source": [
    "from IPython.display import HTML"
   ]
  },
  {
   "cell_type": "code",
   "execution_count": 45,
   "id": "13352e44-6303-45ad-a2d7-3a7f6e4b43f4",
   "metadata": {},
   "outputs": [
    {
     "data": {
      "text/plain": [
       "range(0, 4)"
      ]
     },
     "execution_count": 45,
     "metadata": {},
     "output_type": "execute_result"
    }
   ],
   "source": [
    "range(4)"
   ]
  },
  {
   "cell_type": "code",
   "execution_count": 46,
   "id": "6280b769-62f6-4260-946d-5e3cb89e729a",
   "metadata": {},
   "outputs": [
    {
     "data": {
      "text/plain": [
       "range(4, 8)"
      ]
     },
     "execution_count": 46,
     "metadata": {},
     "output_type": "execute_result"
    }
   ],
   "source": [
    "range(4,8)"
   ]
  },
  {
   "cell_type": "code",
   "execution_count": 47,
   "id": "68311a27-2a0f-4a90-acd1-1e0b7dbf606b",
   "metadata": {},
   "outputs": [
    {
     "name": "stdout",
     "output_type": "stream",
     "text": [
      "7\n",
      "16\n",
      "30\n",
      "49\n"
     ]
    }
   ],
   "source": [
    "x=3\n",
    "for i in range (4,20,5):\n",
    "    x+=i\n",
    "    print (x)"
   ]
  },
  {
   "cell_type": "code",
   "execution_count": 48,
   "id": "27df3990-6dea-48c3-8982-853fbf26dd67",
   "metadata": {},
   "outputs": [
    {
     "data": {
      "text/plain": [
       "range(2, 9, 6)"
      ]
     },
     "execution_count": 48,
     "metadata": {},
     "output_type": "execute_result"
    }
   ],
   "source": [
    "range(2,9,6)"
   ]
  },
  {
   "cell_type": "code",
   "execution_count": 58,
   "id": "27146390-7cea-406a-86cf-de936ce4de20",
   "metadata": {
    "tags": []
   },
   "outputs": [
    {
     "name": "stdout",
     "output_type": "stream",
     "text": [
      "0\n",
      "1\n",
      "3\n",
      "6\n",
      "10\n",
      "15\n"
     ]
    }
   ],
   "source": [
    "x=0\n",
    "range (5)\n",
    "#for i in range(5)\n",
    "range (5)\n",
    "\n",
    "for i in range(6):\n",
    "    x+=i\n",
    "    print (x)\n",
    "        "
   ]
  },
  {
   "cell_type": "code",
   "execution_count": 99,
   "id": "1d38b36d-d9e1-469c-b0cb-f15cdd8783f0",
   "metadata": {
    "tags": []
   },
   "outputs": [],
   "source": [
    "def funcprintnumbers(limit):\n",
    "    limit+=1\n",
    "    for i in range(limit):\n",
    "        if i%2==0:\n",
    "            print (str(i) + ' ' +'is even')\n",
    "            \n",
    "        else:print (str(i) + ' '+ 'odd')"
   ]
  },
  {
   "cell_type": "code",
   "execution_count": 100,
   "id": "32094e95-5a8e-4ca7-a4f4-43d1bfe81cf5",
   "metadata": {},
   "outputs": [
    {
     "name": "stdout",
     "output_type": "stream",
     "text": [
      "0 is even\n",
      "1 odd\n",
      "2 is even\n",
      "3 odd\n",
      "4 is even\n",
      "5 odd\n",
      "6 is even\n",
      "7 odd\n",
      "8 is even\n"
     ]
    }
   ],
   "source": [
    "funcprintnumbers(8)"
   ]
  },
  {
   "cell_type": "code",
   "execution_count": null,
   "id": "ad0415a2-78a4-4bd2-a757-f2895ec83cb8",
   "metadata": {},
   "outputs": [],
   "source": []
  },
  {
   "cell_type": "code",
   "execution_count": null,
   "id": "2803f6e1-9dab-4b74-baee-346caaab8390",
   "metadata": {},
   "outputs": [],
   "source": []
  },
  {
   "cell_type": "code",
   "execution_count": null,
   "id": "5830167f-3a67-4b85-b365-b4e7c0074594",
   "metadata": {},
   "outputs": [],
   "source": []
  },
  {
   "cell_type": "code",
   "execution_count": null,
   "id": "f9117307-c2fc-44e4-b2c8-4d0a41c8a515",
   "metadata": {},
   "outputs": [],
   "source": []
  }
 ],
 "metadata": {
  "kernelspec": {
   "display_name": "Python 3 (ipykernel)",
   "language": "python",
   "name": "python3"
  },
  "language_info": {
   "codemirror_mode": {
    "name": "ipython",
    "version": 3
   },
   "file_extension": ".py",
   "mimetype": "text/x-python",
   "name": "python",
   "nbconvert_exporter": "python",
   "pygments_lexer": "ipython3",
   "version": "3.9.7"
  }
 },
 "nbformat": 4,
 "nbformat_minor": 5
}
