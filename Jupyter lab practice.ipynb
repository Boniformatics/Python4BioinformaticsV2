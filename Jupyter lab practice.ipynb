{
 "cells": [
  {
   "cell_type": "code",
   "execution_count": 3,
   "id": "1e949351-4175-4e7f-b748-7328fd3ac127",
   "metadata": {},
   "outputs": [
    {
     "data": {
      "text/plain": [
       "12"
      ]
     },
     "execution_count": 3,
     "metadata": {},
     "output_type": "execute_result"
    }
   ],
   "source": [
    "7+5"
   ]
  },
  {
   "cell_type": "code",
   "execution_count": 4,
   "id": "b073159e-fb7e-4ed5-9d8a-027cc09146f2",
   "metadata": {},
   "outputs": [],
   "source": [
    "add=5"
   ]
  },
  {
   "cell_type": "code",
   "execution_count": 6,
   "id": "8bfa4abc-7c4f-4691-aeb0-80a6cb26e1e4",
   "metadata": {},
   "outputs": [],
   "source": [
    "add4=8"
   ]
  },
  {
   "cell_type": "code",
   "execution_count": 8,
   "id": "145922c4-6b9f-4e1c-aa08-eb2b74b2da51",
   "metadata": {},
   "outputs": [
    {
     "data": {
      "text/plain": [
       "13"
      ]
     },
     "execution_count": 8,
     "metadata": {},
     "output_type": "execute_result"
    }
   ],
   "source": [
    "add+add4"
   ]
  },
  {
   "cell_type": "markdown",
   "id": "4007b914-e4b5-48b7-be78-eb0d3b8b139c",
   "metadata": {},
   "source": [
    "### This is additional training on jupyter lab\n",
    "I am making a good progress"
   ]
  },
  {
   "cell_type": "code",
   "execution_count": null,
   "id": "943c38dd-e34b-472c-a7e2-fa0ae1b0e50b",
   "metadata": {},
   "outputs": [],
   "source": []
  }
 ],
 "metadata": {
  "kernelspec": {
   "display_name": "Python 3 (ipykernel)",
   "language": "python",
   "name": "python3"
  },
  "language_info": {
   "codemirror_mode": {
    "name": "ipython",
    "version": 3
   },
   "file_extension": ".py",
   "mimetype": "text/x-python",
   "name": "python",
   "nbconvert_exporter": "python",
   "pygments_lexer": "ipython3",
   "version": "3.9.7"
  }
 },
 "nbformat": 4,
 "nbformat_minor": 5
}
